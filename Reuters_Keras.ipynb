{
  "nbformat": 4,
  "nbformat_minor": 0,
  "metadata": {
    "colab": {
      "name": "Reuters_Keras.ipynb",
      "provenance": [],
      "collapsed_sections": [],
      "authorship_tag": "ABX9TyNJG1zlcQ1lLQBDC/qTGR2o",
      "include_colab_link": true
    },
    "kernelspec": {
      "name": "python3",
      "display_name": "Python 3"
    }
  },
  "cells": [
    {
      "cell_type": "markdown",
      "metadata": {
        "id": "view-in-github",
        "colab_type": "text"
      },
      "source": [
        "<a href=\"https://colab.research.google.com/github/aldodec/Neural_Networks/blob/master/Reuters_Keras.ipynb\" target=\"_parent\"><img src=\"https://colab.research.google.com/assets/colab-badge.svg\" alt=\"Open In Colab\"/></a>"
      ]
    },
    {
      "cell_type": "code",
      "metadata": {
        "id": "Q-bJxztLGGQq",
        "colab_type": "code",
        "colab": {}
      },
      "source": [
        "import pandas as pd\n",
        "import numpy as np\n",
        "import matplotlib.pyplot as plt\n",
        "import tensorflow as tf"
      ],
      "execution_count": 0,
      "outputs": []
    },
    {
      "cell_type": "code",
      "metadata": {
        "id": "cC4EW2eFGkXa",
        "colab_type": "code",
        "colab": {}
      },
      "source": [
        "from keras.datasets import reuters"
      ],
      "execution_count": 0,
      "outputs": []
    },
    {
      "cell_type": "code",
      "metadata": {
        "id": "HD_k6myGGvIR",
        "colab_type": "code",
        "outputId": "6cdbd0d3-fa0e-42bd-8c4a-cdd0f77982e8",
        "colab": {
          "base_uri": "https://localhost:8080/",
          "height": 51
        }
      },
      "source": [
        "(train_data, train_labels), (test_data, test_labels) = reuters.load_data(num_words=10000)"
      ],
      "execution_count": 0,
      "outputs": [
        {
          "output_type": "stream",
          "text": [
            "Downloading data from https://s3.amazonaws.com/text-datasets/reuters.npz\n",
            "2113536/2110848 [==============================] - 0s 0us/step\n"
          ],
          "name": "stdout"
        }
      ]
    },
    {
      "cell_type": "code",
      "metadata": {
        "id": "fqS_0apLG4kf",
        "colab_type": "code",
        "outputId": "1a8c8942-614a-4f54-e414-da41801dfb05",
        "colab": {
          "base_uri": "https://localhost:8080/",
          "height": 34
        }
      },
      "source": [
        "len(train_data)"
      ],
      "execution_count": 0,
      "outputs": [
        {
          "output_type": "execute_result",
          "data": {
            "text/plain": [
              "8982"
            ]
          },
          "metadata": {
            "tags": []
          },
          "execution_count": 5
        }
      ]
    },
    {
      "cell_type": "code",
      "metadata": {
        "id": "8gWBM7ueG8Iz",
        "colab_type": "code",
        "outputId": "a424e759-a236-4895-909f-d080aeb3ba9a",
        "colab": {
          "base_uri": "https://localhost:8080/",
          "height": 34
        }
      },
      "source": [
        "len(test_data)"
      ],
      "execution_count": 0,
      "outputs": [
        {
          "output_type": "execute_result",
          "data": {
            "text/plain": [
              "2246"
            ]
          },
          "metadata": {
            "tags": []
          },
          "execution_count": 6
        }
      ]
    },
    {
      "cell_type": "code",
      "metadata": {
        "id": "1PrrJfJ4G-Uq",
        "colab_type": "code",
        "colab": {}
      },
      "source": [
        "# we vectorize the train and test data"
      ],
      "execution_count": 0,
      "outputs": []
    },
    {
      "cell_type": "code",
      "metadata": {
        "id": "bNmg2wsLHAmO",
        "colab_type": "code",
        "colab": {}
      },
      "source": [
        "def vectorize_sequences(sequences,dimension = 10000):\n",
        "  results = np.zeros((len(sequences),dimension))\n",
        "  for i, sequence in enumerate(sequences):\n",
        "    results[i, sequence] = 1.\n",
        "  return results"
      ],
      "execution_count": 0,
      "outputs": []
    },
    {
      "cell_type": "code",
      "metadata": {
        "id": "KRlRpPelHL8d",
        "colab_type": "code",
        "colab": {}
      },
      "source": [
        "X_train =vectorize_sequences(train_data)\n",
        "X_test =vectorize_sequences(test_data)"
      ],
      "execution_count": 0,
      "outputs": []
    },
    {
      "cell_type": "code",
      "metadata": {
        "id": "2UqnV6fdHPQp",
        "colab_type": "code",
        "colab": {}
      },
      "source": [
        "# and we one-hot-encode the labels"
      ],
      "execution_count": 0,
      "outputs": []
    },
    {
      "cell_type": "code",
      "metadata": {
        "id": "PfOZixFtHXxw",
        "colab_type": "code",
        "colab": {}
      },
      "source": [
        "from tensorflow.keras.utils import to_categorical"
      ],
      "execution_count": 0,
      "outputs": []
    },
    {
      "cell_type": "code",
      "metadata": {
        "id": "fFzBTQ9yJKiY",
        "colab_type": "code",
        "colab": {}
      },
      "source": [
        "y_train = to_categorical(train_labels)\n",
        "y_test = to_categorical(test_labels)"
      ],
      "execution_count": 0,
      "outputs": []
    },
    {
      "cell_type": "code",
      "metadata": {
        "id": "LIesw6GSLyd3",
        "colab_type": "code",
        "colab": {}
      },
      "source": [
        "## we build validation sets"
      ],
      "execution_count": 0,
      "outputs": []
    },
    {
      "cell_type": "code",
      "metadata": {
        "id": "LyZ2wz5YLynr",
        "colab_type": "code",
        "colab": {}
      },
      "source": [
        "X_val = X_train[:1000]\n",
        "partial_X_train= X_train[1000:]\n",
        "\n",
        "y_val = y_train[:1000]\n",
        "partial_y_train = y_train[1000:]"
      ],
      "execution_count": 0,
      "outputs": []
    },
    {
      "cell_type": "code",
      "metadata": {
        "id": "HDgiAQrXJOHX",
        "colab_type": "code",
        "colab": {}
      },
      "source": [
        "##### the model"
      ],
      "execution_count": 0,
      "outputs": []
    },
    {
      "cell_type": "code",
      "metadata": {
        "id": "dvArUFiqKhIY",
        "colab_type": "code",
        "colab": {}
      },
      "source": [
        "from tensorflow.keras.models import Sequential\n",
        "from tensorflow.keras.layers import Dense"
      ],
      "execution_count": 0,
      "outputs": []
    },
    {
      "cell_type": "code",
      "metadata": {
        "id": "eIyLebI5Koba",
        "colab_type": "code",
        "colab": {}
      },
      "source": [
        "model = Sequential()\n",
        "\n",
        "model.add(Dense(64,activation='relu'))\n",
        "model.add(Dense(64,activation='relu'))\n",
        "model.add(Dense(46,activation='softmax'))\n",
        "\n",
        "model.compile(optimizer = 'rmsprop',\n",
        "              loss = 'categorical_crossentropy',\n",
        "              metrics=['accuracy'])"
      ],
      "execution_count": 0,
      "outputs": []
    },
    {
      "cell_type": "code",
      "metadata": {
        "id": "pcZf2-gfMZFy",
        "colab_type": "code",
        "outputId": "6f19fe31-0c8c-4d79-d5e1-07cdff9de7fa",
        "colab": {
          "base_uri": "https://localhost:8080/",
          "height": 785
        }
      },
      "source": [
        "history = model.fit(partial_X_train,partial_y_train,\n",
        "                    epochs = 20,\n",
        "                    batch_size = 512,\n",
        "                    validation_data = (X_val,y_val))"
      ],
      "execution_count": 0,
      "outputs": [
        {
          "output_type": "stream",
          "text": [
            "WARNING:tensorflow:From /tensorflow-1.15.0/python3.6/tensorflow_core/python/ops/resource_variable_ops.py:1630: calling BaseResourceVariable.__init__ (from tensorflow.python.ops.resource_variable_ops) with constraint is deprecated and will be removed in a future version.\n",
            "Instructions for updating:\n",
            "If using Keras pass *_constraint arguments to layers.\n",
            "Train on 7982 samples, validate on 1000 samples\n",
            "Epoch 1/20\n",
            "7982/7982 [==============================] - 1s 186us/sample - loss: 2.6642 - acc: 0.5571 - val_loss: 1.7293 - val_acc: 0.6500\n",
            "Epoch 2/20\n",
            "7982/7982 [==============================] - 1s 129us/sample - loss: 1.4112 - acc: 0.7150 - val_loss: 1.3139 - val_acc: 0.7200\n",
            "Epoch 3/20\n",
            "7982/7982 [==============================] - 1s 123us/sample - loss: 1.0427 - acc: 0.7781 - val_loss: 1.1523 - val_acc: 0.7600\n",
            "Epoch 4/20\n",
            "7982/7982 [==============================] - 1s 128us/sample - loss: 0.8241 - acc: 0.8260 - val_loss: 1.0517 - val_acc: 0.7740\n",
            "Epoch 5/20\n",
            "7982/7982 [==============================] - 1s 126us/sample - loss: 0.6624 - acc: 0.8623 - val_loss: 0.9818 - val_acc: 0.7960\n",
            "Epoch 6/20\n",
            "7982/7982 [==============================] - 1s 125us/sample - loss: 0.5286 - acc: 0.8928 - val_loss: 0.9524 - val_acc: 0.7930\n",
            "Epoch 7/20\n",
            "7982/7982 [==============================] - 1s 126us/sample - loss: 0.4297 - acc: 0.9116 - val_loss: 0.9308 - val_acc: 0.8050\n",
            "Epoch 8/20\n",
            "7982/7982 [==============================] - 1s 125us/sample - loss: 0.3517 - acc: 0.9262 - val_loss: 0.9265 - val_acc: 0.8100\n",
            "Epoch 9/20\n",
            "7982/7982 [==============================] - 1s 125us/sample - loss: 0.2924 - acc: 0.9367 - val_loss: 0.9297 - val_acc: 0.8140\n",
            "Epoch 10/20\n",
            "7982/7982 [==============================] - 1s 127us/sample - loss: 0.2501 - acc: 0.9424 - val_loss: 0.9481 - val_acc: 0.8030\n",
            "Epoch 11/20\n",
            "7982/7982 [==============================] - 1s 123us/sample - loss: 0.2135 - acc: 0.9484 - val_loss: 0.9661 - val_acc: 0.7980\n",
            "Epoch 12/20\n",
            "7982/7982 [==============================] - 1s 127us/sample - loss: 0.1893 - acc: 0.9525 - val_loss: 0.9775 - val_acc: 0.8100\n",
            "Epoch 13/20\n",
            "7982/7982 [==============================] - 1s 126us/sample - loss: 0.1678 - acc: 0.9534 - val_loss: 0.9855 - val_acc: 0.8150\n",
            "Epoch 14/20\n",
            "7982/7982 [==============================] - 1s 125us/sample - loss: 0.1552 - acc: 0.9557 - val_loss: 1.0031 - val_acc: 0.8170\n",
            "Epoch 15/20\n",
            "7982/7982 [==============================] - 1s 126us/sample - loss: 0.1447 - acc: 0.9546 - val_loss: 1.0362 - val_acc: 0.8160\n",
            "Epoch 16/20\n",
            "7982/7982 [==============================] - 1s 124us/sample - loss: 0.1346 - acc: 0.9550 - val_loss: 1.0227 - val_acc: 0.8120\n",
            "Epoch 17/20\n",
            "7982/7982 [==============================] - 1s 125us/sample - loss: 0.1330 - acc: 0.9555 - val_loss: 1.0927 - val_acc: 0.8040\n",
            "Epoch 18/20\n",
            "7982/7982 [==============================] - 1s 125us/sample - loss: 0.1246 - acc: 0.9565 - val_loss: 1.0641 - val_acc: 0.8000\n",
            "Epoch 19/20\n",
            "7982/7982 [==============================] - 1s 123us/sample - loss: 0.1172 - acc: 0.9579 - val_loss: 1.1080 - val_acc: 0.8030\n",
            "Epoch 20/20\n",
            "7982/7982 [==============================] - 1s 125us/sample - loss: 0.1187 - acc: 0.9579 - val_loss: 1.0687 - val_acc: 0.7990\n"
          ],
          "name": "stdout"
        }
      ]
    },
    {
      "cell_type": "code",
      "metadata": {
        "id": "G6os6FcTMstf",
        "colab_type": "code",
        "outputId": "a588c5c5-9dfe-49c7-d568-4f35e4010507",
        "colab": {
          "base_uri": "https://localhost:8080/",
          "height": 683
        }
      },
      "source": [
        "loss = history.history['loss']\n",
        "val_loss = history.history['val_loss']\n",
        "\n",
        "acc = history.history['acc']\n",
        "val_acc = history.history['val_acc']\n",
        "\n",
        "epochs = range(1,len(loss)+1)\n",
        "\n",
        "plt.figure(figsize=(10,5))\n",
        "plt.plot(epochs, val_loss, 'b', label = 'Validation loss')\n",
        "plt.plot(epochs, loss, 'bo', label = 'Training loss')\n",
        "plt.title('Training and validation loss')\n",
        "plt.xlabel('Epochs')\n",
        "plt.ylabel('Loss')\n",
        "plt.legend()\n",
        "plt.show()\n",
        "\n",
        "plt.figure(figsize=(10,5))\n",
        "plt.plot(epochs, val_acc, 'b', label = 'Validation accuracy')\n",
        "plt.plot(epochs, acc, 'bo', label = 'Training accuracy')\n",
        "plt.title('Training and validation accuracies')\n",
        "plt.xlabel('Epochs')\n",
        "plt.ylabel('Accuracy')\n",
        "plt.legend()\n",
        "plt.show()"
      ],
      "execution_count": 0,
      "outputs": [
        {
          "output_type": "display_data",
          "data": {
            "image/png": "[encoded data removed]",
            "text/plain": [
              "<Figure size 720x360 with 1 Axes>"
            ]
          },
          "metadata": {
            "tags": []
          }
        },
        {
          "output_type": "display_data",
          "data": {
            "image/png": "[encoded data removed]",
            "text/plain": [
              "<Figure size 720x360 with 1 Axes>"
            ]
          },
          "metadata": {
            "tags": []
          }
        }
      ]
    },
    {
      "cell_type": "code",
      "metadata": {
        "id": "U2ZTphLwP0vN",
        "colab_type": "code",
        "colab": {}
      },
      "source": [
        "#### new model"
      ],
      "execution_count": 0,
      "outputs": []
    },
    {
      "cell_type": "code",
      "metadata": {
        "id": "XGvD8bXCRDpR",
        "colab_type": "code",
        "outputId": "e1d8e8bc-1cab-4958-e1db-42c9bccc8104",
        "colab": {
          "base_uri": "https://localhost:8080/",
          "height": 374
        }
      },
      "source": [
        "model = Sequential()\n",
        "\n",
        "model.add(Dense(64,activation='relu'))\n",
        "model.add(Dense(64,activation='relu'))\n",
        "model.add(Dense(46,activation='softmax'))\n",
        "\n",
        "model.compile(optimizer = 'rmsprop',\n",
        "              loss = 'categorical_crossentropy',\n",
        "              metrics=['accuracy'])\n",
        "\n",
        "model.fit(partial_X_train,partial_y_train,\n",
        "                    epochs = 9,\n",
        "                    batch_size = 512,\n",
        "                    validation_data = (X_val,y_val))\n",
        "\n",
        "results = model.evaluate(X_test,y_test)\n",
        "results"
      ],
      "execution_count": 0,
      "outputs": [
        {
          "output_type": "stream",
          "text": [
            "Train on 7982 samples, validate on 1000 samples\n",
            "Epoch 1/9\n",
            "7982/7982 [==============================] - 1s 138us/sample - loss: 2.7064 - acc: 0.5018 - val_loss: 1.7610 - val_acc: 0.6640\n",
            "Epoch 2/9\n",
            "7982/7982 [==============================] - 1s 122us/sample - loss: 1.4193 - acc: 0.7139 - val_loss: 1.2749 - val_acc: 0.7280\n",
            "Epoch 3/9\n",
            "7982/7982 [==============================] - 1s 129us/sample - loss: 1.0397 - acc: 0.7853 - val_loss: 1.0996 - val_acc: 0.7740\n",
            "Epoch 4/9\n",
            "7982/7982 [==============================] - 1s 122us/sample - loss: 0.8179 - acc: 0.8275 - val_loss: 1.0177 - val_acc: 0.7850\n",
            "Epoch 5/9\n",
            "7982/7982 [==============================] - 1s 124us/sample - loss: 0.6558 - acc: 0.8619 - val_loss: 0.9633 - val_acc: 0.7970\n",
            "Epoch 6/9\n",
            "7982/7982 [==============================] - 1s 123us/sample - loss: 0.5242 - acc: 0.8916 - val_loss: 0.9000 - val_acc: 0.8120\n",
            "Epoch 7/9\n",
            "7982/7982 [==============================] - 1s 123us/sample - loss: 0.4259 - acc: 0.9118 - val_loss: 0.8862 - val_acc: 0.8070\n",
            "Epoch 8/9\n",
            "7982/7982 [==============================] - 1s 123us/sample - loss: 0.3432 - acc: 0.9272 - val_loss: 0.8818 - val_acc: 0.8140\n",
            "Epoch 9/9\n",
            "7982/7982 [==============================] - 1s 125us/sample - loss: 0.2841 - acc: 0.9387 - val_loss: 0.8742 - val_acc: 0.8140\n",
            "2246/2246 [==============================] - 0s 103us/sample - loss: 0.9761 - acc: 0.7916\n"
          ],
          "name": "stdout"
        },
        {
          "output_type": "execute_result",
          "data": {
            "text/plain": [
              "[0.9761423461689869, 0.79162955]"
            ]
          },
          "metadata": {
            "tags": []
          },
          "execution_count": 29
        }
      ]
    },
    {
      "cell_type": "code",
      "metadata": {
        "id": "ba5LprpGRP53",
        "colab_type": "code",
        "colab": {}
      },
      "source": [
        "predictions = model.predict(X_test)"
      ],
      "execution_count": 0,
      "outputs": []
    },
    {
      "cell_type": "code",
      "metadata": {
        "id": "AnaHMfhET2v0",
        "colab_type": "code",
        "outputId": "43989140-2d3f-4b03-dfc5-0017c3295741",
        "colab": {
          "base_uri": "https://localhost:8080/",
          "height": 34
        }
      },
      "source": [
        "predictions[0].shape"
      ],
      "execution_count": 0,
      "outputs": [
        {
          "output_type": "execute_result",
          "data": {
            "text/plain": [
              "(46,)"
            ]
          },
          "metadata": {
            "tags": []
          },
          "execution_count": 32
        }
      ]
    },
    {
      "cell_type": "code",
      "metadata": {
        "id": "HQQ8ZYt8T5Lr",
        "colab_type": "code",
        "outputId": "1395638b-1a53-438d-8d66-5d804680b649",
        "colab": {
          "base_uri": "https://localhost:8080/",
          "height": 34
        }
      },
      "source": [
        "np.sum(predictions[0])"
      ],
      "execution_count": 0,
      "outputs": [
        {
          "output_type": "execute_result",
          "data": {
            "text/plain": [
              "1.0"
            ]
          },
          "metadata": {
            "tags": []
          },
          "execution_count": 33
        }
      ]
    },
    {
      "cell_type": "code",
      "metadata": {
        "id": "lfJ7mJjPT_gL",
        "colab_type": "code",
        "outputId": "ef6f8ab8-0627-4951-cc2d-d2b35c455cef",
        "colab": {
          "base_uri": "https://localhost:8080/",
          "height": 34
        }
      },
      "source": [
        "np.argmax(predictions[0])"
      ],
      "execution_count": 0,
      "outputs": [
        {
          "output_type": "execute_result",
          "data": {
            "text/plain": [
              "3"
            ]
          },
          "metadata": {
            "tags": []
          },
          "execution_count": 34
        }
      ]
    },
    {
      "cell_type": "code",
      "metadata": {
        "id": "ZfzAwP4TUhHc",
        "colab_type": "code",
        "colab": {}
      },
      "source": [
        "### This model has a bottleneck"
      ],
      "execution_count": 0,
      "outputs": []
    },
    {
      "cell_type": "code",
      "metadata": {
        "id": "2d8XGxotUFgR",
        "colab_type": "code",
        "outputId": "68fbb555-0687-4eb1-90ac-12eb019e3fdd",
        "colab": {
          "base_uri": "https://localhost:8080/",
          "height": 374
        }
      },
      "source": [
        "model = Sequential()\n",
        "\n",
        "model.add(Dense(64,activation='relu'))\n",
        "model.add(Dense(4,activation='relu'))\n",
        "model.add(Dense(46,activation='softmax'))\n",
        "\n",
        "model.compile(optimizer = 'rmsprop',\n",
        "              loss = 'categorical_crossentropy',\n",
        "              metrics=['accuracy'])\n",
        "\n",
        "model.fit(partial_X_train,partial_y_train,\n",
        "                    epochs = 9,\n",
        "                    batch_size = 512,\n",
        "                    validation_data = (X_val,y_val))\n",
        "\n",
        "results = model.evaluate(X_test,y_test)\n",
        "results"
      ],
      "execution_count": 0,
      "outputs": [
        {
          "output_type": "stream",
          "text": [
            "Train on 7982 samples, validate on 1000 samples\n",
            "Epoch 1/9\n",
            "7982/7982 [==============================] - 3s 335us/sample - loss: 3.6799 - acc: 0.0203 - val_loss: 3.4886 - val_acc: 0.0420\n",
            "Epoch 2/9\n",
            "7982/7982 [==============================] - 1s 124us/sample - loss: 3.3284 - acc: 0.1244 - val_loss: 3.2149 - val_acc: 0.2550\n",
            "Epoch 3/9\n",
            "7982/7982 [==============================] - 1s 123us/sample - loss: 3.0295 - acc: 0.2593 - val_loss: 2.9784 - val_acc: 0.2660\n",
            "Epoch 4/9\n",
            "7982/7982 [==============================] - 1s 123us/sample - loss: 2.7717 - acc: 0.2836 - val_loss: 2.7849 - val_acc: 0.2810\n",
            "Epoch 5/9\n",
            "7982/7982 [==============================] - 1s 124us/sample - loss: 2.5555 - acc: 0.3224 - val_loss: 2.6139 - val_acc: 0.3120\n",
            "Epoch 6/9\n",
            "7982/7982 [==============================] - 1s 123us/sample - loss: 2.3626 - acc: 0.3607 - val_loss: 2.4725 - val_acc: 0.3260\n",
            "Epoch 7/9\n",
            "7982/7982 [==============================] - 1s 121us/sample - loss: 2.1678 - acc: 0.3889 - val_loss: 2.3044 - val_acc: 0.3490\n",
            "Epoch 8/9\n",
            "7982/7982 [==============================] - 1s 122us/sample - loss: 1.9352 - acc: 0.4109 - val_loss: 2.0689 - val_acc: 0.3560\n",
            "Epoch 9/9\n",
            "7982/7982 [==============================] - 1s 127us/sample - loss: 1.6513 - acc: 0.5672 - val_loss: 1.7860 - val_acc: 0.6650\n",
            "2246/2246 [==============================] - 0s 129us/sample - loss: 1.8833 - acc: 0.6514\n"
          ],
          "name": "stdout"
        },
        {
          "output_type": "execute_result",
          "data": {
            "text/plain": [
              "[1.88331050673236, 0.65138024]"
            ]
          },
          "metadata": {
            "tags": []
          },
          "execution_count": 35
        }
      ]
    },
    {
      "cell_type": "code",
      "metadata": {
        "id": "CcOk9S6sUkhX",
        "colab_type": "code",
        "colab": {}
      },
      "source": [
        "### This has a more wide inner layer"
      ],
      "execution_count": 0,
      "outputs": []
    },
    {
      "cell_type": "code",
      "metadata": {
        "id": "e4SOjcYyUu7N",
        "colab_type": "code",
        "outputId": "aba59a76-502b-4e3e-eef7-0bc280d7ebdd",
        "colab": {
          "base_uri": "https://localhost:8080/",
          "height": 374
        }
      },
      "source": [
        "model = Sequential()\n",
        "\n",
        "model.add(Dense(64,activation='relu'))\n",
        "model.add(Dense(128,activation='relu'))\n",
        "model.add(Dense(46,activation='softmax'))\n",
        "\n",
        "model.compile(optimizer = 'rmsprop',\n",
        "              loss = 'categorical_crossentropy',\n",
        "              metrics=['accuracy'])\n",
        "\n",
        "model.fit(partial_X_train,partial_y_train,\n",
        "                    epochs = 9,\n",
        "                    batch_size = 512,\n",
        "                    validation_data = (X_val,y_val))\n",
        "\n",
        "results = model.evaluate(X_test,y_test)\n",
        "results"
      ],
      "execution_count": 0,
      "outputs": [
        {
          "output_type": "stream",
          "text": [
            "Train on 7982 samples, validate on 1000 samples\n",
            "Epoch 1/9\n",
            "7982/7982 [==============================] - 1s 153us/sample - loss: 2.3986 - acc: 0.5415 - val_loss: 1.5864 - val_acc: 0.6480\n",
            "Epoch 2/9\n",
            "7982/7982 [==============================] - 1s 126us/sample - loss: 1.3070 - acc: 0.7146 - val_loss: 1.2226 - val_acc: 0.7200\n",
            "Epoch 3/9\n",
            "7982/7982 [==============================] - 1s 126us/sample - loss: 0.9881 - acc: 0.7825 - val_loss: 1.0928 - val_acc: 0.7480\n",
            "Epoch 4/9\n",
            "7982/7982 [==============================] - 1s 127us/sample - loss: 0.7663 - acc: 0.8364 - val_loss: 1.0051 - val_acc: 0.7810\n",
            "Epoch 5/9\n",
            "7982/7982 [==============================] - 1s 126us/sample - loss: 0.6077 - acc: 0.8685 - val_loss: 0.9549 - val_acc: 0.7990\n",
            "Epoch 6/9\n",
            "7982/7982 [==============================] - 1s 127us/sample - loss: 0.4713 - acc: 0.8986 - val_loss: 0.8930 - val_acc: 0.8080\n",
            "Epoch 7/9\n",
            "7982/7982 [==============================] - 1s 123us/sample - loss: 0.3759 - acc: 0.9219 - val_loss: 0.8794 - val_acc: 0.8100\n",
            "Epoch 8/9\n",
            "7982/7982 [==============================] - 1s 123us/sample - loss: 0.3060 - acc: 0.9334 - val_loss: 0.8959 - val_acc: 0.8080\n",
            "Epoch 9/9\n",
            "7982/7982 [==============================] - 1s 123us/sample - loss: 0.2504 - acc: 0.9420 - val_loss: 0.8803 - val_acc: 0.8190\n",
            "2246/2246 [==============================] - 0s 111us/sample - loss: 0.9997 - acc: 0.7876\n"
          ],
          "name": "stdout"
        },
        {
          "output_type": "execute_result",
          "data": {
            "text/plain": [
              "[0.9997013621529828, 0.78762245]"
            ]
          },
          "metadata": {
            "tags": []
          },
          "execution_count": 37
        }
      ]
    },
    {
      "cell_type": "code",
      "metadata": {
        "id": "2NKOmI3hUxA-",
        "colab_type": "code",
        "colab": {}
      },
      "source": [
        ""
      ],
      "execution_count": 0,
      "outputs": []
    }
  ]
}