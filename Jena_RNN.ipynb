{
  "nbformat": 4,
  "nbformat_minor": 0,
  "metadata": {
    "colab": {
      "name": "Jena_RNN.ipynb",
      "provenance": [],
      "collapsed_sections": [],
      "toc_visible": true,
      "mount_file_id": "15qyjTxhPq_aDtjc7Eb8iBrHOI07Ie5VM",
      "authorship_tag": "ABX9TyNCH/mLpvBaW4tYhASYJDl/",
      "include_colab_link": true
    },
    "kernelspec": {
      "name": "python3",
      "display_name": "Python 3"
    },
    "accelerator": "GPU"
  },
  "cells": [
    {
      "cell_type": "markdown",
      "metadata": {
        "id": "view-in-github",
        "colab_type": "text"
      },
      "source": [
        "<a href=\"https://colab.research.google.com/github/aldodec/Neural_Networks/blob/master/Jena_RNN.ipynb\" target=\"_parent\"><img src=\"https://colab.research.google.com/assets/colab-badge.svg\" alt=\"Open In Colab\"/></a>"
      ]
    },
    {
      "cell_type": "markdown",
      "metadata": {
        "id": "Phq92-lHy2gx",
        "colab_type": "text"
      },
      "source": [
        "## Loading Files"
      ]
    },
    {
      "cell_type": "code",
      "metadata": {
        "id": "gQgNRfl9IDXq",
        "colab_type": "code",
        "colab": {}
      },
      "source": [
        "import os"
      ],
      "execution_count": 0,
      "outputs": []
    },
    {
      "cell_type": "code",
      "metadata": {
        "id": "Ix61nFgwIFae",
        "colab_type": "code",
        "colab": {}
      },
      "source": [
        "data_dir = '/content/drive/My Drive/jena_climate'\n",
        "fname = os.path.join(data_dir,'jena_climate_2009_2016.csv')"
      ],
      "execution_count": 0,
      "outputs": []
    },
    {
      "cell_type": "code",
      "metadata": {
        "id": "Tg6rAcKNIFdK",
        "colab_type": "code",
        "outputId": "b10c11ac-770d-4f84-ce9d-ae5282365b55",
        "colab": {
          "base_uri": "https://localhost:8080/",
          "height": 119
        }
      },
      "source": [
        "os.listdir(data_dir)"
      ],
      "execution_count": 3,
      "outputs": [
        {
          "output_type": "execute_result",
          "data": {
            "text/plain": [
              "['jena_climate_2009_2016.csv',\n",
              " 'jena_climate_2009_2016.csv.zip',\n",
              " 'cp.ckpt.index',\n",
              " 'cp.ckpt.data-00001-of-00002',\n",
              " 'cp.ckpt.data-00000-of-00002',\n",
              " 'checkpoint']"
            ]
          },
          "metadata": {
            "tags": []
          },
          "execution_count": 3
        }
      ]
    },
    {
      "cell_type": "code",
      "metadata": {
        "id": "2lv84jAUIFk6",
        "colab_type": "code",
        "colab": {}
      },
      "source": [
        "f = open(fname)\n",
        "data = f.read()\n",
        "f.close()"
      ],
      "execution_count": 0,
      "outputs": []
    },
    {
      "cell_type": "code",
      "metadata": {
        "id": "6p3DLI6DIFvk",
        "colab_type": "code",
        "colab": {}
      },
      "source": [
        "lines = data.split('\\n')\n",
        "header = lines[0].split(',')\n",
        "lines = lines[1:]"
      ],
      "execution_count": 0,
      "outputs": []
    },
    {
      "cell_type": "code",
      "metadata": {
        "id": "iQgLcwi8IF5y",
        "colab_type": "code",
        "outputId": "59124379-92ee-4ffe-946c-0dbfccb75b4b",
        "colab": {
          "base_uri": "https://localhost:8080/",
          "height": 54
        }
      },
      "source": [
        "print(header)"
      ],
      "execution_count": 6,
      "outputs": [
        {
          "output_type": "stream",
          "text": [
            "['\"Date Time\"', '\"p (mbar)\"', '\"T (degC)\"', '\"Tpot (K)\"', '\"Tdew (degC)\"', '\"rh (%)\"', '\"VPmax (mbar)\"', '\"VPact (mbar)\"', '\"VPdef (mbar)\"', '\"sh (g/kg)\"', '\"H2OC (mmol/mol)\"', '\"rho (g/m**3)\"', '\"wv (m/s)\"', '\"max. wv (m/s)\"', '\"wd (deg)\"']\n"
          ],
          "name": "stdout"
        }
      ]
    },
    {
      "cell_type": "code",
      "metadata": {
        "id": "cknog2mpIF84",
        "colab_type": "code",
        "outputId": "e27e926d-4a00-45d0-aab6-4560fdec1382",
        "colab": {
          "base_uri": "https://localhost:8080/",
          "height": 34
        }
      },
      "source": [
        "print(len(lines))"
      ],
      "execution_count": 7,
      "outputs": [
        {
          "output_type": "stream",
          "text": [
            "420551\n"
          ],
          "name": "stdout"
        }
      ]
    },
    {
      "cell_type": "code",
      "metadata": {
        "id": "7wizDlI8IF3m",
        "colab_type": "code",
        "colab": {}
      },
      "source": [
        "## We now convert the data into a numpy array:"
      ],
      "execution_count": 0,
      "outputs": []
    },
    {
      "cell_type": "code",
      "metadata": {
        "id": "VzGCqveTIF2t",
        "colab_type": "code",
        "colab": {}
      },
      "source": [
        "import numpy as np"
      ],
      "execution_count": 0,
      "outputs": []
    },
    {
      "cell_type": "code",
      "metadata": {
        "id": "eKI01BapIF07",
        "colab_type": "code",
        "colab": {}
      },
      "source": [
        "no_instances = len(lines)\n",
        "no_features = len(header) - 1\n",
        "\n",
        "float_data = np.zeros((no_instances,no_features))\n",
        "for i, line in enumerate(lines):\n",
        "    values = [float(x) for x in line.split(',')[1:]]\n",
        "    float_data[i,:] = values"
      ],
      "execution_count": 0,
      "outputs": []
    },
    {
      "cell_type": "markdown",
      "metadata": {
        "id": "HzWtGk1Py_XR",
        "colab_type": "text"
      },
      "source": [
        "## Basic EDA and Data Processing"
      ]
    },
    {
      "cell_type": "code",
      "metadata": {
        "id": "YtISKt0QE811",
        "colab_type": "code",
        "colab": {}
      },
      "source": [
        "## EDA"
      ],
      "execution_count": 0,
      "outputs": []
    },
    {
      "cell_type": "code",
      "metadata": {
        "id": "87SYUUw2E89w",
        "colab_type": "code",
        "colab": {}
      },
      "source": [
        "import matplotlib.pyplot as plt"
      ],
      "execution_count": 0,
      "outputs": []
    },
    {
      "cell_type": "code",
      "metadata": {
        "id": "HCxGG6w5E9FW",
        "colab_type": "code",
        "outputId": "0282141d-4ea4-4f79-ef9f-49187a185601",
        "colab": {
          "base_uri": "https://localhost:8080/",
          "height": 285
        }
      },
      "source": [
        "temp = float_data[:,1] ## This is the temperature\n",
        "plt.plot(range(len(temp)),temp) # We plot the whole data"
      ],
      "execution_count": 11,
      "outputs": [
        {
          "output_type": "execute_result",
          "data": {
            "text/plain": [
              "[<matplotlib.lines.Line2D at 0x7fdb54aa3358>]"
            ]
          },
          "metadata": {
            "tags": []
          },
          "execution_count": 11
        },
        {
          "output_type": "display_data",
          "data": {
            "image/png": "[encoded data removed]",
            "text/plain": [
              "<Figure size 432x288 with 1 Axes>"
            ]
          },
          "metadata": {
            "tags": [],
            "needs_background": "light"
          }
        }
      ]
    },
    {
      "cell_type": "code",
      "metadata": {
        "id": "Ock4lWpCE9JW",
        "colab_type": "code",
        "outputId": "ccd88fa4-fbad-4542-d453-2a3735189552",
        "colab": {
          "base_uri": "https://localhost:8080/",
          "height": 282
        }
      },
      "source": [
        "plt.plot(range(1440),temp[:1440]) # We plot the first 10 days of data:"
      ],
      "execution_count": 12,
      "outputs": [
        {
          "output_type": "execute_result",
          "data": {
            "text/plain": [
              "[<matplotlib.lines.Line2D at 0x7fdb54a349e8>]"
            ]
          },
          "metadata": {
            "tags": []
          },
          "execution_count": 12
        },
        {
          "output_type": "display_data",
          "data": {
            "image/png": "[encoded data removed]",
            "text/plain": [
              "<Figure size 432x288 with 1 Axes>"
            ]
          },
          "metadata": {
            "tags": [],
            "needs_background": "light"
          }
        }
      ]
    },
    {
      "cell_type": "code",
      "metadata": {
        "id": "9Z2Ic6x5E9EM",
        "colab_type": "code",
        "colab": {}
      },
      "source": [
        "## In both cases we notice periodicity.\n",
        "## Is this series predictable at a daily scale? "
      ],
      "execution_count": 0,
      "outputs": []
    },
    {
      "cell_type": "code",
      "metadata": {
        "id": "L0TuU5LsE9CS",
        "colab_type": "code",
        "colab": {}
      },
      "source": [
        "## Problem Statement\n",
        "# Given data going back as 'lookback' timesteps (one timestep is 10 mins.),\n",
        "# and sampled every 'steps' timesteps,\n",
        "# Can you predict the temperature in 'delay' timesteps?"
      ],
      "execution_count": 0,
      "outputs": []
    },
    {
      "cell_type": "code",
      "metadata": {
        "id": "gRuqPsPBE87X",
        "colab_type": "code",
        "colab": {}
      },
      "source": [
        "## We'll use the following parameters:\n",
        "# - lookback = 720 - Observations will go back 5 days.\n",
        "# - steps = 6 - Observations will be sampled at one data point per hour.\n",
        "# - delay = 144 - Targets will be 24 hours in the future. "
      ],
      "execution_count": 0,
      "outputs": []
    },
    {
      "cell_type": "code",
      "metadata": {
        "id": "aQph02vVE84z",
        "colab_type": "code",
        "colab": {}
      },
      "source": [
        "## We have to standarize data.\n",
        "## Also, we'll se the first 200,000 timesteps as training data."
      ],
      "execution_count": 0,
      "outputs": []
    },
    {
      "cell_type": "code",
      "metadata": {
        "id": "RZdDbsNEFOIb",
        "colab_type": "code",
        "colab": {}
      },
      "source": [
        "mean = float_data[:200000].mean(axis = 0)\n",
        "float_data -= mean\n",
        "std = float_data[:200000].std(axis = 0)\n",
        "float_data /= std"
      ],
      "execution_count": 0,
      "outputs": []
    },
    {
      "cell_type": "code",
      "metadata": {
        "id": "WHMWYTC8FOS-",
        "colab_type": "code",
        "outputId": "d1cf2305-31f8-447a-8614-2af6e059ab52",
        "colab": {
          "base_uri": "https://localhost:8080/",
          "height": 282
        }
      },
      "source": [
        "temp_std = float_data[:,1] ## This is the temperature, but now standardized\n",
        "plt.plot(range(len(temp_std)),temp_std) # We plot the whole data"
      ],
      "execution_count": 14,
      "outputs": [
        {
          "output_type": "execute_result",
          "data": {
            "text/plain": [
              "[<matplotlib.lines.Line2D at 0x7fdb54558978>]"
            ]
          },
          "metadata": {
            "tags": []
          },
          "execution_count": 14
        },
        {
          "output_type": "display_data",
          "data": {
            "image/png": "[encoded data removed]",
            "text/plain": [
              "<Figure size 432x288 with 1 Axes>"
            ]
          },
          "metadata": {
            "tags": [],
            "needs_background": "light"
          }
        }
      ]
    },
    {
      "cell_type": "code",
      "metadata": {
        "id": "F4xaaMx0FOW0",
        "colab_type": "code",
        "colab": {}
      },
      "source": [
        "#######################################################"
      ],
      "execution_count": 0,
      "outputs": []
    },
    {
      "cell_type": "markdown",
      "metadata": {
        "id": "umKuWqNfzQ3J",
        "colab_type": "text"
      },
      "source": [
        "## Data Generators"
      ]
    },
    {
      "cell_type": "code",
      "metadata": {
        "id": "BEJCuSoGFOQh",
        "colab_type": "code",
        "colab": {}
      },
      "source": [
        "## DATA GENERATORS"
      ],
      "execution_count": 0,
      "outputs": []
    },
    {
      "cell_type": "code",
      "metadata": {
        "id": "IQiTdEIFFOOA",
        "colab_type": "code",
        "colab": {}
      },
      "source": [
        "def generator(data, lookback, delay, min_index, max_index,\n",
        "             shuffle=False, batch_size = 128, step = 6):\n",
        "    if max_index is None:\n",
        "        max_index = len(data) - delay - 1\n",
        "    i = min_index + lookback\n",
        "    while 1:\n",
        "        if shuffle:\n",
        "            rows = np.random.randint(min_index + lookback, max_index, size = batch_size)\n",
        "        else:\n",
        "            if i + batch_size >= max_index:\n",
        "                i = min_index + lookback\n",
        "            rows = np.arange(i,min(i+batch_size,max_index))\n",
        "            i += len(rows)\n",
        "        samples = np.zeros((len(rows),\n",
        "                           lookback//step,\n",
        "                           data.shape[-1]))\n",
        "        targets = np.zeros((len(rows),))\n",
        "        for j, row in enumerate(rows):\n",
        "            indices = range(rows[j]-lookback,rows[j],step)\n",
        "            samples[j] = data[indices]\n",
        "            targets[j] = data[rows[j] + delay][1]\n",
        "        yield samples, targets"
      ],
      "execution_count": 0,
      "outputs": []
    },
    {
      "cell_type": "code",
      "metadata": {
        "id": "RhJyGVh_FYVE",
        "colab_type": "code",
        "colab": {}
      },
      "source": [
        "lookback = 1440\n",
        "step = 6\n",
        "delay = 144\n",
        "batch_size = 128\n",
        "\n",
        "train_gen = generator(float_data,\n",
        "                     lookback=lookback,\n",
        "                     delay=delay,\n",
        "                     min_index=0,\n",
        "                     max_index=200000,\n",
        "                     shuffle=True,\n",
        "                     step=step,\n",
        "                     batch_size=batch_size)\n",
        "\n",
        "val_gen = generator(float_data,\n",
        "                    lookback=lookback,\n",
        "                    delay=delay,\n",
        "                    min_index=200001,\n",
        "                    max_index=300000,\n",
        "                    step=step,\n",
        "                    batch_size=batch_size)\n",
        "test_gen = generator(float_data,\n",
        "                     lookback=lookback,\n",
        "                     delay=delay,\n",
        "                     min_index=300001,\n",
        "                     max_index=None,\n",
        "                     step=step,\n",
        "                     batch_size=batch_size)"
      ],
      "execution_count": 0,
      "outputs": []
    },
    {
      "cell_type": "code",
      "metadata": {
        "id": "Pd9xol6FFYav",
        "colab_type": "code",
        "colab": {}
      },
      "source": [
        "val_steps = (300000 - 200001 - lookback)// batch_size # How many steps o draw from val_gen in order to see entire val. set.\n",
        "test_steps = (len(float_data) - 300001 - lookback)// batch_size # idem. for test set."
      ],
      "execution_count": 0,
      "outputs": []
    },
    {
      "cell_type": "markdown",
      "metadata": {
        "id": "ezlO3UK81ByY",
        "colab_type": "text"
      },
      "source": [
        "## Naive Predictor"
      ]
    },
    {
      "cell_type": "code",
      "metadata": {
        "id": "HkViddryFYpi",
        "colab_type": "code",
        "colab": {}
      },
      "source": [
        "## Naive Baseline prediction:\n",
        "# Temperature in 24 hrs. will be equal to temperature today."
      ],
      "execution_count": 0,
      "outputs": []
    },
    {
      "cell_type": "code",
      "metadata": {
        "id": "qOfPjBILFYnS",
        "colab_type": "code",
        "colab": {}
      },
      "source": [
        "def evaluate_naive_method():\n",
        "    batch_mae = []\n",
        "    for step in range(val_steps):\n",
        "        samples, targets = next(val_gen)\n",
        "        preds = samples[:, -1, 1]\n",
        "        mae = np.mean(np.abs(preds - targets))\n",
        "        batch_mae.append(mae)\n",
        "    print(np.mean(batch_mae))"
      ],
      "execution_count": 0,
      "outputs": []
    },
    {
      "cell_type": "code",
      "metadata": {
        "id": "4Z_yG7TjFYlO",
        "colab_type": "code",
        "outputId": "3af9bd96-e015-44ee-c97c-91c93f79f081",
        "colab": {
          "base_uri": "https://localhost:8080/",
          "height": 34
        }
      },
      "source": [
        "evaluate_naive_method() ## This is the baseline error"
      ],
      "execution_count": 24,
      "outputs": [
        {
          "output_type": "stream",
          "text": [
            "0.2897359729905486\n"
          ],
          "name": "stdout"
        }
      ]
    },
    {
      "cell_type": "code",
      "metadata": {
        "id": "4scQr9hcF0AJ",
        "colab_type": "code",
        "colab": {}
      },
      "source": [
        "#####################################################"
      ],
      "execution_count": 0,
      "outputs": []
    },
    {
      "cell_type": "markdown",
      "metadata": {
        "id": "sfP7mnTRzWHo",
        "colab_type": "text"
      },
      "source": [
        "## Basic ML Approach"
      ]
    },
    {
      "cell_type": "code",
      "metadata": {
        "id": "Taer5fw6F2M5",
        "colab_type": "code",
        "colab": {}
      },
      "source": [
        "## Basic ML approach"
      ],
      "execution_count": 0,
      "outputs": []
    },
    {
      "cell_type": "code",
      "metadata": {
        "id": "lQN5cdrSFYjD",
        "colab_type": "code",
        "outputId": "568dd218-d130-450f-a049-9c1963d8391e",
        "colab": {
          "base_uri": "https://localhost:8080/",
          "height": 34
        }
      },
      "source": [
        "%tensorflow_version 1.x"
      ],
      "execution_count": 25,
      "outputs": [
        {
          "output_type": "stream",
          "text": [
            "TensorFlow 1.x selected.\n"
          ],
          "name": "stdout"
        }
      ]
    },
    {
      "cell_type": "code",
      "metadata": {
        "id": "lPZY09wkFYgY",
        "colab_type": "code",
        "colab": {}
      },
      "source": [
        "from tensorflow.keras.models import Sequential\n",
        "from tensorflow.keras import layers\n",
        "from tensorflow.keras.optimizers import RMSprop"
      ],
      "execution_count": 0,
      "outputs": []
    },
    {
      "cell_type": "code",
      "metadata": {
        "id": "EJRUiLSSFYee",
        "colab_type": "code",
        "outputId": "0f3be894-5365-4c87-daa6-79e8547c9c59",
        "colab": {
          "base_uri": "https://localhost:8080/",
          "height": 88
        }
      },
      "source": [
        "# Building the model\n",
        "\n",
        "model = Sequential()\n",
        "model.add(layers.Flatten(input_shape = (lookback//step,float_data.shape[-1])))\n",
        "model.add(layers.Dense(32,activation='relu'))\n",
        "model.add(layers.Dense(1))\n",
        "\n",
        "model.compile(optimizer = RMSprop(),loss = 'mae')"
      ],
      "execution_count": 0,
      "outputs": [
        {
          "output_type": "stream",
          "text": [
            "WARNING:tensorflow:From /tensorflow-1.15.2/python3.6/tensorflow_core/python/ops/resource_variable_ops.py:1630: calling BaseResourceVariable.__init__ (from tensorflow.python.ops.resource_variable_ops) with constraint is deprecated and will be removed in a future version.\n",
            "Instructions for updating:\n",
            "If using Keras pass *_constraint arguments to layers.\n"
          ],
          "name": "stdout"
        }
      ]
    },
    {
      "cell_type": "code",
      "metadata": {
        "id": "WwVCJ41UFYYF",
        "colab_type": "code",
        "outputId": "da935c32-d2f4-4a57-a1a5-a5d9508e1b3d",
        "colab": {
          "base_uri": "https://localhost:8080/",
          "height": 255
        }
      },
      "source": [
        "model.summary()"
      ],
      "execution_count": 0,
      "outputs": [
        {
          "output_type": "stream",
          "text": [
            "Model: \"sequential\"\n",
            "_________________________________________________________________\n",
            "Layer (type)                 Output Shape              Param #   \n",
            "=================================================================\n",
            "flatten (Flatten)            (None, 3360)              0         \n",
            "_________________________________________________________________\n",
            "dense (Dense)                (None, 32)                107552    \n",
            "_________________________________________________________________\n",
            "dense_1 (Dense)              (None, 1)                 33        \n",
            "=================================================================\n",
            "Total params: 107,585\n",
            "Trainable params: 107,585\n",
            "Non-trainable params: 0\n",
            "_________________________________________________________________\n"
          ],
          "name": "stdout"
        }
      ]
    },
    {
      "cell_type": "code",
      "metadata": {
        "id": "kF4y67TpFOLu",
        "colab_type": "code",
        "outputId": "75afd2c8-97bc-4b16-da55-f2779e0381e7",
        "colab": {
          "base_uri": "https://localhost:8080/",
          "height": 1000
        }
      },
      "source": [
        "history = model.fit_generator(train_gen,\n",
        "                             steps_per_epoch=500,\n",
        "                             epochs=20,\n",
        "                             validation_data=val_gen,\n",
        "                             validation_steps=val_steps)"
      ],
      "execution_count": 0,
      "outputs": [
        {
          "output_type": "stream",
          "text": [
            "Epoch 1/20\n",
            "499/500 [============================>.] - ETA: 0s - loss: 1.3996Epoch 1/20\n",
            "769/500 [==============================================] - 8s 11ms/step - loss: 0.6918\n",
            "500/500 [==============================] - 16s 32ms/step - loss: 1.3986 - val_loss: 0.7341\n",
            "Epoch 2/20\n",
            "496/500 [============================>.] - ETA: 0s - loss: 0.4518Epoch 1/20\n",
            "769/500 [==============================================] - 9s 11ms/step - loss: 0.3897\n",
            "500/500 [==============================] - 15s 30ms/step - loss: 0.4509 - val_loss: 0.3229\n",
            "Epoch 3/20\n",
            "496/500 [============================>.] - ETA: 0s - loss: 0.2902Epoch 1/20\n",
            "769/500 [==============================================] - 8s 11ms/step - loss: 0.3243\n",
            "500/500 [==============================] - 15s 30ms/step - loss: 0.2901 - val_loss: 0.3380\n",
            "Epoch 4/20\n",
            "496/500 [============================>.] - ETA: 0s - loss: 0.2650Epoch 1/20\n",
            "769/500 [==============================================] - 9s 11ms/step - loss: 0.3269\n",
            "500/500 [==============================] - 15s 31ms/step - loss: 0.2651 - val_loss: 0.3245\n",
            "Epoch 5/20\n",
            "498/500 [============================>.] - ETA: 0s - loss: 0.2539Epoch 1/20\n",
            "769/500 [==============================================] - 8s 11ms/step - loss: 0.3491\n",
            "500/500 [==============================] - 15s 30ms/step - loss: 0.2541 - val_loss: 0.3488\n",
            "Epoch 6/20\n",
            "498/500 [============================>.] - ETA: 0s - loss: 0.2460Epoch 1/20\n",
            "769/500 [==============================================] - 8s 11ms/step - loss: 0.3359\n",
            "500/500 [==============================] - 15s 30ms/step - loss: 0.2460 - val_loss: 0.3293\n",
            "Epoch 7/20\n",
            "497/500 [============================>.] - ETA: 0s - loss: 0.2387Epoch 1/20\n",
            "769/500 [==============================================] - 8s 11ms/step - loss: 0.3175\n",
            "500/500 [==============================] - 15s 30ms/step - loss: 0.2386 - val_loss: 0.3315\n",
            "Epoch 8/20\n",
            "499/500 [============================>.] - ETA: 0s - loss: 0.2328Epoch 1/20\n",
            "769/500 [==============================================] - 8s 11ms/step - loss: 0.2944\n",
            "500/500 [==============================] - 15s 30ms/step - loss: 0.2328 - val_loss: 0.3182\n",
            "Epoch 9/20\n",
            "497/500 [============================>.] - ETA: 0s - loss: 0.2289Epoch 1/20\n",
            "769/500 [==============================================] - 9s 11ms/step - loss: 0.3095\n",
            "500/500 [==============================] - 15s 31ms/step - loss: 0.2289 - val_loss: 0.3381\n",
            "Epoch 10/20\n",
            "496/500 [============================>.] - ETA: 0s - loss: 0.2254Epoch 1/20\n",
            "769/500 [==============================================] - 8s 11ms/step - loss: 0.4451\n",
            "500/500 [==============================] - 15s 30ms/step - loss: 0.2253 - val_loss: 0.3787\n",
            "Epoch 11/20\n",
            "496/500 [============================>.] - ETA: 0s - loss: 0.2220Epoch 1/20\n",
            "769/500 [==============================================] - 8s 11ms/step - loss: 0.3750\n",
            "500/500 [==============================] - 15s 30ms/step - loss: 0.2221 - val_loss: 0.3230\n",
            "Epoch 12/20\n",
            "498/500 [============================>.] - ETA: 0s - loss: 0.2194Epoch 1/20\n",
            "769/500 [==============================================] - 9s 11ms/step - loss: 0.2908\n",
            "500/500 [==============================] - 15s 31ms/step - loss: 0.2196 - val_loss: 0.3310\n",
            "Epoch 13/20\n",
            "496/500 [============================>.] - ETA: 0s - loss: 0.2149Epoch 1/20\n",
            "769/500 [==============================================] - 9s 11ms/step - loss: 0.3225\n",
            "500/500 [==============================] - 16s 31ms/step - loss: 0.2148 - val_loss: 0.3428\n",
            "Epoch 14/20\n",
            "497/500 [============================>.] - ETA: 0s - loss: 0.2139Epoch 1/20\n",
            "769/500 [==============================================] - 8s 11ms/step - loss: 0.3013\n",
            "500/500 [==============================] - 15s 30ms/step - loss: 0.2138 - val_loss: 0.3408\n",
            "Epoch 15/20\n",
            "496/500 [============================>.] - ETA: 0s - loss: 0.2125Epoch 1/20\n",
            "769/500 [==============================================] - 8s 11ms/step - loss: 0.2697\n",
            "500/500 [==============================] - 15s 30ms/step - loss: 0.2125 - val_loss: 0.3292\n",
            "Epoch 16/20\n",
            "499/500 [============================>.] - ETA: 0s - loss: 0.2092Epoch 1/20\n",
            "769/500 [==============================================] - 9s 11ms/step - loss: 0.3041\n",
            "500/500 [==============================] - 15s 31ms/step - loss: 0.2092 - val_loss: 0.3369\n",
            "Epoch 17/20\n",
            "498/500 [============================>.] - ETA: 0s - loss: 0.2080Epoch 1/20\n",
            "769/500 [==============================================] - 8s 11ms/step - loss: 0.3793\n",
            "500/500 [==============================] - 15s 30ms/step - loss: 0.2080 - val_loss: 0.3336\n",
            "Epoch 18/20\n",
            "498/500 [============================>.] - ETA: 0s - loss: 0.2043Epoch 1/20\n",
            "769/500 [==============================================] - 9s 11ms/step - loss: 0.3357\n",
            "500/500 [==============================] - 15s 31ms/step - loss: 0.2044 - val_loss: 0.3314\n",
            "Epoch 19/20\n",
            "496/500 [============================>.] - ETA: 0s - loss: 0.2019Epoch 1/20\n",
            "769/500 [==============================================] - 9s 11ms/step - loss: 0.3204\n",
            "500/500 [==============================] - 16s 31ms/step - loss: 0.2022 - val_loss: 0.3556\n",
            "Epoch 20/20\n",
            "499/500 [============================>.] - ETA: 0s - loss: 0.2023Epoch 1/20\n",
            "769/500 [==============================================] - 9s 11ms/step - loss: 0.3295\n",
            "500/500 [==============================] - 15s 31ms/step - loss: 0.2024 - val_loss: 0.3673\n"
          ],
          "name": "stdout"
        }
      ]
    },
    {
      "cell_type": "code",
      "metadata": {
        "id": "Nz3JMLzIIFs3",
        "colab_type": "code",
        "outputId": "ecb03bf6-9034-4a9d-bd53-7d538af27c84",
        "colab": {
          "base_uri": "https://localhost:8080/",
          "height": 265
        }
      },
      "source": [
        "import matplotlib.pyplot as plt\n",
        "\n",
        "loss = history.history['loss']\n",
        "val_loss = history.history['val_loss']\n",
        "\n",
        "epochs = range(1,len(loss)+1)\n",
        "\n",
        "plt.figure()\n",
        "plt.plot(epochs,loss,'bo',label='Training loss')\n",
        "plt.plot(epochs,val_loss,'r',label = 'Validation loss')\n",
        "#plt.ylim(0.17,0.45)\n",
        "plt.legend()\n",
        "plt.show()"
      ],
      "execution_count": 0,
      "outputs": [
        {
          "output_type": "display_data",
          "data": {
            "image/png": "[encoded data removed]",
            "text/plain": [
              "<Figure size 432x288 with 1 Axes>"
            ]
          },
          "metadata": {
            "tags": [],
            "needs_background": "light"
          }
        }
      ]
    },
    {
      "cell_type": "code",
      "metadata": {
        "id": "pUfO7lHWIFrs",
        "colab_type": "code",
        "colab": {}
      },
      "source": [
        "############################################################"
      ],
      "execution_count": 0,
      "outputs": []
    },
    {
      "cell_type": "markdown",
      "metadata": {
        "id": "KJO20rEMzaJG",
        "colab_type": "text"
      },
      "source": [
        "## Recurrent Neural Network Approach"
      ]
    },
    {
      "cell_type": "code",
      "metadata": {
        "id": "wlYKI7RmLQg6",
        "colab_type": "code",
        "colab": {}
      },
      "source": [
        "## RNN"
      ],
      "execution_count": 0,
      "outputs": []
    },
    {
      "cell_type": "code",
      "metadata": {
        "id": "Zqsed0dzLQuw",
        "colab_type": "code",
        "colab": {}
      },
      "source": [
        "# The first approach flattened the time series\n",
        "# which removed the notion of time. \n",
        "# We use a GRU layer. "
      ],
      "execution_count": 0,
      "outputs": []
    },
    {
      "cell_type": "code",
      "metadata": {
        "id": "7x-TVDrkLXak",
        "colab_type": "code",
        "colab": {}
      },
      "source": [
        "model = Sequential()\n",
        "model.add(layers.GRU(32,input_shape = (None,float_data.shape[-1]) ))\n",
        "model.add(layers.Dense(1))\n",
        "\n",
        "model.compile(optimizer = RMSprop(), loss = 'mae')"
      ],
      "execution_count": 0,
      "outputs": []
    },
    {
      "cell_type": "code",
      "metadata": {
        "id": "xu_cW2nULXjF",
        "colab_type": "code",
        "outputId": "203e8545-98be-4cff-872c-7a62c16eeff6",
        "colab": {
          "base_uri": "https://localhost:8080/",
          "height": 1000
        }
      },
      "source": [
        "history = model.fit_generator(train_gen,\n",
        "                             steps_per_epoch=500,\n",
        "                             epochs = 20,\n",
        "                             validation_data = val_gen,\n",
        "                             validation_steps= val_steps)"
      ],
      "execution_count": 0,
      "outputs": [
        {
          "output_type": "stream",
          "text": [
            "Epoch 1/20\n",
            "497/500 [============================>.] - ETA: 0s - loss: 0.1994Epoch 1/20\n",
            "769/500 [==============================================] - 8s 11ms/step - loss: 0.3467\n",
            "500/500 [==============================] - 15s 31ms/step - loss: 0.1994 - val_loss: 0.3414\n",
            "Epoch 2/20\n",
            "496/500 [============================>.] - ETA: 0s - loss: 0.1983Epoch 1/20\n",
            "769/500 [==============================================] - 9s 11ms/step - loss: 0.3499\n",
            "500/500 [==============================] - 15s 30ms/step - loss: 0.1983 - val_loss: 0.3474\n",
            "Epoch 3/20\n",
            "498/500 [============================>.] - ETA: 0s - loss: 0.1969Epoch 1/20\n",
            "769/500 [==============================================] - 8s 11ms/step - loss: 0.4147\n",
            "500/500 [==============================] - 15s 30ms/step - loss: 0.1969 - val_loss: 0.3414\n",
            "Epoch 4/20\n",
            "497/500 [============================>.] - ETA: 0s - loss: 0.1950Epoch 1/20\n",
            "769/500 [==============================================] - 9s 11ms/step - loss: 0.2747\n",
            "500/500 [==============================] - 15s 30ms/step - loss: 0.1951 - val_loss: 0.3411\n",
            "Epoch 5/20\n",
            "499/500 [============================>.] - ETA: 0s - loss: 0.1939Epoch 1/20\n",
            "769/500 [==============================================] - 8s 11ms/step - loss: 0.3525\n",
            "500/500 [==============================] - 15s 30ms/step - loss: 0.1939 - val_loss: 0.3890\n",
            "Epoch 6/20\n",
            "499/500 [============================>.] - ETA: 0s - loss: 0.1929Epoch 1/20\n",
            "769/500 [==============================================] - 9s 11ms/step - loss: 0.3067\n",
            "500/500 [==============================] - 15s 30ms/step - loss: 0.1929 - val_loss: 0.3436\n",
            "Epoch 7/20\n",
            "498/500 [============================>.] - ETA: 0s - loss: 0.1911Epoch 1/20\n",
            "769/500 [==============================================] - 8s 11ms/step - loss: 0.2892\n",
            "500/500 [==============================] - 15s 31ms/step - loss: 0.1909 - val_loss: 0.3408\n",
            "Epoch 8/20\n",
            "499/500 [============================>.] - ETA: 0s - loss: 0.1909Epoch 1/20\n",
            "769/500 [==============================================] - 8s 11ms/step - loss: 0.4160\n",
            "500/500 [==============================] - 15s 30ms/step - loss: 0.1909 - val_loss: 0.3492\n",
            "Epoch 9/20\n",
            "499/500 [============================>.] - ETA: 0s - loss: 0.1902Epoch 1/20\n",
            "769/500 [==============================================] - 8s 11ms/step - loss: 0.3770\n",
            "500/500 [==============================] - 15s 30ms/step - loss: 0.1901 - val_loss: 0.3341\n",
            "Epoch 10/20\n",
            "496/500 [============================>.] - ETA: 0s - loss: 0.1897Epoch 1/20\n",
            "769/500 [==============================================] - 8s 11ms/step - loss: 0.3625\n",
            "500/500 [==============================] - 15s 30ms/step - loss: 0.1896 - val_loss: 0.3667\n",
            "Epoch 11/20\n",
            "499/500 [============================>.] - ETA: 0s - loss: 0.1876Epoch 1/20\n",
            "769/500 [==============================================] - 8s 11ms/step - loss: 0.3261\n",
            "500/500 [==============================] - 15s 30ms/step - loss: 0.1875 - val_loss: 0.3455\n",
            "Epoch 12/20\n",
            "496/500 [============================>.] - ETA: 0s - loss: 0.1860Epoch 1/20\n",
            "769/500 [==============================================] - 8s 11ms/step - loss: 0.3692\n",
            "500/500 [==============================] - 15s 30ms/step - loss: 0.1859 - val_loss: 0.3624\n",
            "Epoch 13/20\n",
            "497/500 [============================>.] - ETA: 0s - loss: 0.1851Epoch 1/20\n",
            "769/500 [==============================================] - 9s 11ms/step - loss: 0.3575\n",
            "500/500 [==============================] - 15s 31ms/step - loss: 0.1853 - val_loss: 0.3426\n",
            "Epoch 14/20\n",
            "496/500 [============================>.] - ETA: 0s - loss: 0.1845Epoch 1/20\n",
            "769/500 [==============================================] - 8s 11ms/step - loss: 0.3349\n",
            "500/500 [==============================] - 15s 30ms/step - loss: 0.1845 - val_loss: 0.3592\n",
            "Epoch 15/20\n",
            "499/500 [============================>.] - ETA: 0s - loss: 0.1834Epoch 1/20\n",
            "769/500 [==============================================] - 8s 11ms/step - loss: 0.3043\n",
            "500/500 [==============================] - 15s 30ms/step - loss: 0.1834 - val_loss: 0.3441\n",
            "Epoch 16/20\n",
            "499/500 [============================>.] - ETA: 0s - loss: 0.1828Epoch 1/20\n",
            "769/500 [==============================================] - 8s 11ms/step - loss: 0.3220\n",
            "500/500 [==============================] - 15s 30ms/step - loss: 0.1828 - val_loss: 0.3538\n",
            "Epoch 17/20\n",
            "499/500 [============================>.] - ETA: 0s - loss: 0.1815Epoch 1/20\n",
            "769/500 [==============================================] - 9s 11ms/step - loss: 0.2947\n",
            "500/500 [==============================] - 16s 31ms/step - loss: 0.1815 - val_loss: 0.3656\n",
            "Epoch 18/20\n",
            "497/500 [============================>.] - ETA: 0s - loss: 0.1818Epoch 1/20\n",
            "769/500 [==============================================] - 9s 11ms/step - loss: 0.3919\n",
            "500/500 [==============================] - 15s 30ms/step - loss: 0.1817 - val_loss: 0.3443\n",
            "Epoch 19/20\n",
            "499/500 [============================>.] - ETA: 0s - loss: 0.1804Epoch 1/20\n",
            "769/500 [==============================================] - 8s 11ms/step - loss: 0.3639\n",
            "500/500 [==============================] - 15s 30ms/step - loss: 0.1805 - val_loss: 0.3594\n",
            "Epoch 20/20\n",
            "499/500 [============================>.] - ETA: 0s - loss: 0.1793Epoch 1/20\n",
            "769/500 [==============================================] - 9s 11ms/step - loss: 0.4718\n",
            "500/500 [==============================] - 15s 31ms/step - loss: 0.1792 - val_loss: 0.3455\n"
          ],
          "name": "stdout"
        }
      ]
    },
    {
      "cell_type": "code",
      "metadata": {
        "id": "76EaYkUGLXgU",
        "colab_type": "code",
        "outputId": "34d72773-6511-4efe-ca2c-477212981df1",
        "colab": {
          "base_uri": "https://localhost:8080/",
          "height": 265
        }
      },
      "source": [
        "import matplotlib.pyplot as plt\n",
        "\n",
        "loss = history.history['loss']\n",
        "val_loss = history.history['val_loss']\n",
        "\n",
        "epochs = range(1,len(loss)+1)\n",
        "\n",
        "plt.figure()\n",
        "plt.plot(epochs,loss,'bo',label='Training loss')\n",
        "plt.plot(epochs,val_loss,'r',label = 'Validation loss')\n",
        "#plt.ylim(0.17,0.45)\n",
        "plt.legend()\n",
        "plt.show()  "
      ],
      "execution_count": 0,
      "outputs": [
        {
          "output_type": "display_data",
          "data": {
            "image/png": "[encoded data removed]",
            "text/plain": [
              "<Figure size 432x288 with 1 Axes>"
            ]
          },
          "metadata": {
            "tags": [],
            "needs_background": "light"
          }
        }
      ]
    },
    {
      "cell_type": "code",
      "metadata": {
        "id": "CvQl8LOfue6r",
        "colab_type": "code",
        "colab": {}
      },
      "source": [
        "## note: validation does this weird thing with this version."
      ],
      "execution_count": 0,
      "outputs": []
    },
    {
      "cell_type": "markdown",
      "metadata": {
        "id": "_rXjhmJzz8RU",
        "colab_type": "text"
      },
      "source": [
        "### Version Tests"
      ]
    },
    {
      "cell_type": "code",
      "metadata": {
        "id": "0cjhLnIDujg7",
        "colab_type": "code",
        "colab": {}
      },
      "source": [
        "##### Aside. Fresh start?"
      ],
      "execution_count": 0,
      "outputs": []
    },
    {
      "cell_type": "code",
      "metadata": {
        "id": "l8p_Jiloujts",
        "colab_type": "code",
        "colab": {
          "base_uri": "https://localhost:8080/",
          "height": 34
        },
        "outputId": "ab394b36-586f-45ba-8815-2f60ae18ff2d"
      },
      "source": [
        "%tensorflow_version 1.x"
      ],
      "execution_count": 23,
      "outputs": [
        {
          "output_type": "stream",
          "text": [
            "TensorFlow 1.x selected.\n"
          ],
          "name": "stdout"
        }
      ]
    },
    {
      "cell_type": "code",
      "metadata": {
        "id": "QgLMLIj0umMf",
        "colab_type": "code",
        "colab": {
          "base_uri": "https://localhost:8080/",
          "height": 34
        },
        "outputId": "4549427b-77fb-4da2-b6da-0442cb4eb1c2"
      },
      "source": [
        "import tensorflow as tf\n",
        "print(tf.__version__)"
      ],
      "execution_count": 24,
      "outputs": [
        {
          "output_type": "stream",
          "text": [
            "1.15.2\n"
          ],
          "name": "stdout"
        }
      ]
    },
    {
      "cell_type": "code",
      "metadata": {
        "id": "mPgGheUJu63d",
        "colab_type": "code",
        "colab": {}
      },
      "source": [
        "from tensorflow import keras"
      ],
      "execution_count": 0,
      "outputs": []
    },
    {
      "cell_type": "code",
      "metadata": {
        "id": "GDNFWL1SumQ2",
        "colab_type": "code",
        "colab": {
          "base_uri": "https://localhost:8080/",
          "height": 34
        },
        "outputId": "9c846d69-49de-4cb6-c096-9132aa77dea5"
      },
      "source": [
        "from keras.models import Sequential\n",
        "from keras import layers\n",
        "from keras.optimizers import RMSprop"
      ],
      "execution_count": 26,
      "outputs": [
        {
          "output_type": "stream",
          "text": [
            "Using TensorFlow backend.\n"
          ],
          "name": "stderr"
        }
      ]
    },
    {
      "cell_type": "code",
      "metadata": {
        "id": "qUoT64ocumKP",
        "colab_type": "code",
        "colab": {
          "base_uri": "https://localhost:8080/",
          "height": 88
        },
        "outputId": "08f350ce-6355-478b-8cf4-ccf66c8b6ad9"
      },
      "source": [
        "model = Sequential()\n",
        "model.add(layers.GRU(32,input_shape = (None,float_data.shape[-1]) ))\n",
        "model.add(layers.Dense(1))\n",
        "\n",
        "model.compile(optimizer = RMSprop(), loss = 'mae')"
      ],
      "execution_count": 27,
      "outputs": [
        {
          "output_type": "stream",
          "text": [
            "WARNING:tensorflow:From /tensorflow-1.15.2/python3.6/tensorflow_core/python/ops/resource_variable_ops.py:1630: calling BaseResourceVariable.__init__ (from tensorflow.python.ops.resource_variable_ops) with constraint is deprecated and will be removed in a future version.\n",
            "Instructions for updating:\n",
            "If using Keras pass *_constraint arguments to layers.\n"
          ],
          "name": "stdout"
        }
      ]
    },
    {
      "cell_type": "code",
      "metadata": {
        "id": "l-Df7UVTumFO",
        "colab_type": "code",
        "colab": {
          "base_uri": "https://localhost:8080/",
          "height": 697
        },
        "outputId": "564568a1-bcfc-40f1-ca51-c851d9ad54b9"
      },
      "source": [
        "history = model.fit_generator(train_gen,\n",
        "                             steps_per_epoch=500,\n",
        "                             epochs = 20,\n",
        "                             validation_data = val_gen,\n",
        "                             validation_steps= val_steps)"
      ],
      "execution_count": 29,
      "outputs": [
        {
          "output_type": "stream",
          "text": [
            "Epoch 1/20\n",
            "500/500 [==============================] - 176s 352ms/step - loss: 0.2067 - val_loss: 0.2169\n",
            "Epoch 2/20\n",
            "500/500 [==============================] - 175s 350ms/step - loss: 0.2037 - val_loss: 0.2059\n",
            "Epoch 3/20\n",
            "500/500 [==============================] - 176s 351ms/step - loss: 0.2007 - val_loss: 0.2634\n",
            "Epoch 4/20\n",
            "500/500 [==============================] - 176s 353ms/step - loss: 0.1991 - val_loss: 0.2808\n",
            "Epoch 5/20\n",
            "500/500 [==============================] - 175s 350ms/step - loss: 0.1952 - val_loss: 0.2676\n",
            "Epoch 6/20\n",
            "500/500 [==============================] - 171s 342ms/step - loss: 0.1912 - val_loss: 0.3063\n",
            "Epoch 7/20\n",
            "500/500 [==============================] - 173s 347ms/step - loss: 0.1907 - val_loss: 0.2251\n",
            "Epoch 8/20\n",
            "500/500 [==============================] - 172s 344ms/step - loss: 0.1882 - val_loss: 0.2671\n",
            "Epoch 9/20\n",
            "500/500 [==============================] - 176s 351ms/step - loss: 0.1869 - val_loss: 0.3101\n",
            "Epoch 10/20\n",
            "500/500 [==============================] - 172s 344ms/step - loss: 0.1837 - val_loss: 0.1682\n",
            "Epoch 11/20\n",
            "500/500 [==============================] - 174s 348ms/step - loss: 0.1825 - val_loss: 0.3151\n",
            "Epoch 12/20\n",
            "500/500 [==============================] - 176s 351ms/step - loss: 0.1797 - val_loss: 0.2202\n",
            "Epoch 13/20\n",
            "500/500 [==============================] - 174s 348ms/step - loss: 0.1787 - val_loss: 0.1939\n",
            "Epoch 14/20\n",
            "500/500 [==============================] - 175s 350ms/step - loss: 0.1778 - val_loss: 0.1904\n",
            "Epoch 15/20\n",
            "500/500 [==============================] - 177s 355ms/step - loss: 0.1768 - val_loss: 0.2434\n",
            "Epoch 16/20\n",
            "500/500 [==============================] - 176s 351ms/step - loss: 0.1741 - val_loss: 0.2081\n",
            "Epoch 17/20\n",
            "500/500 [==============================] - 173s 347ms/step - loss: 0.1731 - val_loss: 0.2454\n",
            "Epoch 18/20\n",
            "500/500 [==============================] - 175s 351ms/step - loss: 0.1724 - val_loss: 0.2361\n",
            "Epoch 19/20\n",
            "500/500 [==============================] - 174s 347ms/step - loss: 0.1712 - val_loss: 0.2516\n",
            "Epoch 20/20\n",
            "500/500 [==============================] - 176s 351ms/step - loss: 0.1696 - val_loss: 0.2623\n"
          ],
          "name": "stdout"
        }
      ]
    },
    {
      "cell_type": "code",
      "metadata": {
        "id": "vErElJuTumCf",
        "colab_type": "code",
        "colab": {
          "base_uri": "https://localhost:8080/",
          "height": 266
        },
        "outputId": "12f19a23-30e6-4d9b-a348-dae9189f5c9a"
      },
      "source": [
        "import matplotlib.pyplot as plt\n",
        "\n",
        "loss = history.history['loss']\n",
        "val_loss = history.history['val_loss']\n",
        "\n",
        "epochs = range(1,len(loss)+1)\n",
        "\n",
        "plt.figure()\n",
        "plt.plot(epochs,loss,'bo',label='Training loss')\n",
        "plt.plot(epochs,val_loss,'r',label = 'Validation loss')\n",
        "#plt.ylim(0.17,0.45)\n",
        "plt.legend()\n",
        "plt.show()  "
      ],
      "execution_count": 30,
      "outputs": [
        {
          "output_type": "display_data",
          "data": {
            "image/png": "[encoded data removed]",
            "text/plain": [
              "<Figure size 432x288 with 1 Axes>"
            ]
          },
          "metadata": {
            "tags": [],
            "needs_background": "light"
          }
        }
      ]
    },
    {
      "cell_type": "code",
      "metadata": {
        "id": "IsoL0b5nuj3C",
        "colab_type": "code",
        "colab": {}
      },
      "source": [
        "## It is too noisy"
      ],
      "execution_count": 0,
      "outputs": []
    },
    {
      "cell_type": "code",
      "metadata": {
        "id": "z1RX92uyLXeF",
        "colab_type": "code",
        "colab": {}
      },
      "source": [
        "####################################################"
      ],
      "execution_count": 0,
      "outputs": []
    },
    {
      "cell_type": "markdown",
      "metadata": {
        "id": "iyAQjP-eznfN",
        "colab_type": "text"
      },
      "source": [
        "## Recurrent Neural Network Approach: Adding Dropout"
      ]
    },
    {
      "cell_type": "code",
      "metadata": {
        "id": "vOEFZv5jLQ4y",
        "colab_type": "code",
        "colab": {}
      },
      "source": [
        "from tensorflow.keras.models import Sequential\n",
        "from tensorflow.keras import layers\n",
        "from tensorflow.keras.optimizers import RMSprop"
      ],
      "execution_count": 0,
      "outputs": []
    },
    {
      "cell_type": "code",
      "metadata": {
        "id": "ubSDQzCbLQ3L",
        "colab_type": "code",
        "colab": {}
      },
      "source": [
        "model = Sequential()\n",
        "model.add(layers.GRU(32,\n",
        "                     dropout=0.2,\n",
        "                     recurrent_dropout=0.2,\n",
        "                     input_shape = (None,float_data.shape[-1]) ))\n",
        "model.add(layers.Dense(1))\n",
        "\n",
        "model.compile(optimizer = RMSprop(), loss = 'mae')"
      ],
      "execution_count": 0,
      "outputs": []
    },
    {
      "cell_type": "code",
      "metadata": {
        "id": "AlQ32fyzLQ04",
        "colab_type": "code",
        "outputId": "e69ba503-09ce-422c-86eb-54b42963d314",
        "colab": {
          "base_uri": "https://localhost:8080/",
          "height": 1000
        }
      },
      "source": [
        "history = model.fit_generator(train_gen,\n",
        "                             steps_per_epoch=500,\n",
        "                             epochs = 40,\n",
        "                             validation_data = val_gen,\n",
        "                             validation_steps= val_steps)"
      ],
      "execution_count": 0,
      "outputs": [
        {
          "output_type": "stream",
          "text": [
            "Epoch 1/40\n",
            "WARNING:tensorflow:From /tensorflow-1.15.2/python3.6/tensorflow_core/python/ops/math_grad.py:1424: where (from tensorflow.python.ops.array_ops) is deprecated and will be removed in a future version.\n",
            "Instructions for updating:\n",
            "Use tf.where in 2.0, which has the same broadcast rule as np.where\n",
            "499/500 [============================>.] - ETA: 0s - loss: 0.3486Epoch 1/40\n",
            "769/500 [==============================================] - 30s 39ms/step - loss: 0.2756\n",
            "500/500 [==============================] - 126s 252ms/step - loss: 0.3486 - val_loss: 0.2740\n",
            "Epoch 2/40\n",
            "499/500 [============================>.] - ETA: 0s - loss: 0.3151Epoch 1/40\n",
            "769/500 [==============================================] - 31s 40ms/step - loss: 0.2643\n",
            "500/500 [==============================] - 126s 252ms/step - loss: 0.3151 - val_loss: 0.2717\n",
            "Epoch 3/40\n",
            "499/500 [============================>.] - ETA: 0s - loss: 0.3080Epoch 1/40\n",
            "769/500 [==============================================] - 31s 40ms/step - loss: 0.3061\n",
            "500/500 [==============================] - 125s 250ms/step - loss: 0.3079 - val_loss: 0.2708\n",
            "Epoch 4/40\n",
            "499/500 [============================>.] - ETA: 0s - loss: 0.3054Epoch 1/40\n",
            "769/500 [==============================================] - 31s 40ms/step - loss: 0.2630\n",
            "500/500 [==============================] - 126s 251ms/step - loss: 0.3054 - val_loss: 0.2704\n",
            "Epoch 5/40\n",
            "499/500 [============================>.] - ETA: 0s - loss: 0.3014Epoch 1/40\n",
            "769/500 [==============================================] - 30s 40ms/step - loss: 0.2389\n",
            "500/500 [==============================] - 129s 257ms/step - loss: 0.3015 - val_loss: 0.2705\n",
            "Epoch 6/40\n",
            "499/500 [============================>.] - ETA: 0s - loss: 0.2992Epoch 1/40\n",
            "769/500 [==============================================] - 30s 39ms/step - loss: 0.3304\n",
            "500/500 [==============================] - 125s 251ms/step - loss: 0.2992 - val_loss: 0.2716\n",
            "Epoch 7/40\n",
            "499/500 [============================>.] - ETA: 0s - loss: 0.2961Epoch 1/40\n",
            "769/500 [==============================================] - 30s 40ms/step - loss: 0.2695\n",
            "500/500 [==============================] - 125s 251ms/step - loss: 0.2961 - val_loss: 0.2693\n",
            "Epoch 8/40\n",
            "499/500 [============================>.] - ETA: 0s - loss: 0.2955Epoch 1/40\n",
            "769/500 [==============================================] - 30s 39ms/step - loss: 0.2456\n",
            "500/500 [==============================] - 125s 249ms/step - loss: 0.2955 - val_loss: 0.2672\n",
            "Epoch 9/40\n",
            "499/500 [============================>.] - ETA: 0s - loss: 0.2922Epoch 1/40\n",
            "769/500 [==============================================] - 30s 40ms/step - loss: 0.2276\n",
            "500/500 [==============================] - 125s 249ms/step - loss: 0.2921 - val_loss: 0.2723\n",
            "Epoch 10/40\n",
            "499/500 [============================>.] - ETA: 0s - loss: 0.2918Epoch 1/40\n",
            "769/500 [==============================================] - 30s 39ms/step - loss: 0.2645\n",
            "500/500 [==============================] - 129s 257ms/step - loss: 0.2918 - val_loss: 0.2687\n",
            "Epoch 11/40\n",
            "499/500 [============================>.] - ETA: 0s - loss: 0.2902Epoch 1/40\n",
            "769/500 [==============================================] - 30s 40ms/step - loss: 0.2335\n",
            "500/500 [==============================] - 125s 251ms/step - loss: 0.2902 - val_loss: 0.2673\n",
            "Epoch 12/40\n",
            "499/500 [============================>.] - ETA: 0s - loss: 0.2887Epoch 1/40\n",
            "769/500 [==============================================] - 31s 40ms/step - loss: 0.2722\n",
            "500/500 [==============================] - 126s 252ms/step - loss: 0.2886 - val_loss: 0.2706\n",
            "Epoch 13/40\n",
            "499/500 [============================>.] - ETA: 0s - loss: 0.2895Epoch 1/40\n",
            "769/500 [==============================================] - 30s 39ms/step - loss: 0.2983\n",
            "500/500 [==============================] - 125s 250ms/step - loss: 0.2895 - val_loss: 0.2668\n",
            "Epoch 14/40\n",
            "499/500 [============================>.] - ETA: 0s - loss: 0.2873Epoch 1/40\n",
            "769/500 [==============================================] - 30s 39ms/step - loss: 0.2656\n",
            "500/500 [==============================] - 126s 252ms/step - loss: 0.2872 - val_loss: 0.2658\n",
            "Epoch 15/40\n",
            "499/500 [============================>.] - ETA: 0s - loss: 0.2857Epoch 1/40\n",
            "769/500 [==============================================] - 30s 39ms/step - loss: 0.2436\n",
            "500/500 [==============================] - 128s 256ms/step - loss: 0.2857 - val_loss: 0.2676\n",
            "Epoch 16/40\n",
            "499/500 [============================>.] - ETA: 0s - loss: 0.2838Epoch 1/40\n",
            "769/500 [==============================================] - 30s 39ms/step - loss: 0.2469\n",
            "500/500 [==============================] - 126s 252ms/step - loss: 0.2837 - val_loss: 0.2647\n",
            "Epoch 17/40\n",
            "499/500 [============================>.] - ETA: 0s - loss: 0.2830Epoch 1/40\n",
            "769/500 [==============================================] - 30s 39ms/step - loss: 0.2428\n",
            "500/500 [==============================] - 125s 250ms/step - loss: 0.2830 - val_loss: 0.2641\n",
            "Epoch 18/40\n",
            "499/500 [============================>.] - ETA: 0s - loss: 0.2831Epoch 1/40\n",
            "769/500 [==============================================] - 31s 40ms/step - loss: 0.2235\n",
            "500/500 [==============================] - 126s 251ms/step - loss: 0.2832 - val_loss: 0.2649\n",
            "Epoch 19/40\n",
            "499/500 [============================>.] - ETA: 0s - loss: 0.2820Epoch 1/40\n",
            "769/500 [==============================================] - 34s 45ms/step - loss: 0.3337\n",
            "500/500 [==============================] - 129s 257ms/step - loss: 0.2819 - val_loss: 0.2675\n",
            "Epoch 20/40\n",
            "499/500 [============================>.] - ETA: 0s - loss: 0.2808Epoch 1/40\n",
            "769/500 [==============================================] - 30s 39ms/step - loss: 0.2303\n",
            "500/500 [==============================] - 127s 253ms/step - loss: 0.2807 - val_loss: 0.2654\n",
            "Epoch 21/40\n",
            "499/500 [============================>.] - ETA: 0s - loss: 0.2798Epoch 1/40\n",
            "769/500 [==============================================] - 30s 39ms/step - loss: 0.2210\n",
            "500/500 [==============================] - 125s 249ms/step - loss: 0.2798 - val_loss: 0.2631\n",
            "Epoch 22/40\n",
            "499/500 [============================>.] - ETA: 0s - loss: 0.2783Epoch 1/40\n",
            "769/500 [==============================================] - 30s 39ms/step - loss: 0.2312\n",
            "500/500 [==============================] - 126s 252ms/step - loss: 0.2782 - val_loss: 0.2655\n",
            "Epoch 23/40\n",
            "499/500 [============================>.] - ETA: 0s - loss: 0.2803Epoch 1/40\n",
            "769/500 [==============================================] - 30s 39ms/step - loss: 0.3565\n",
            "500/500 [==============================] - 126s 251ms/step - loss: 0.2802 - val_loss: 0.2659\n",
            "Epoch 24/40\n",
            "499/500 [============================>.] - ETA: 0s - loss: 0.2781Epoch 1/40\n",
            "769/500 [==============================================] - 30s 39ms/step - loss: 0.3301\n",
            "500/500 [==============================] - 129s 258ms/step - loss: 0.2781 - val_loss: 0.2645\n",
            "Epoch 25/40\n",
            "499/500 [============================>.] - ETA: 0s - loss: 0.2778Epoch 1/40\n",
            "769/500 [==============================================] - 32s 41ms/step - loss: 0.2181\n",
            "500/500 [==============================] - 126s 252ms/step - loss: 0.2778 - val_loss: 0.2620\n",
            "Epoch 26/40\n",
            "499/500 [============================>.] - ETA: 0s - loss: 0.2794Epoch 1/40\n",
            "769/500 [==============================================] - 31s 40ms/step - loss: 0.2520\n",
            "500/500 [==============================] - 129s 258ms/step - loss: 0.2795 - val_loss: 0.2652\n",
            "Epoch 27/40\n",
            "499/500 [============================>.] - ETA: 0s - loss: 0.2756Epoch 1/40\n",
            "769/500 [==============================================] - 31s 40ms/step - loss: 0.2489\n",
            "500/500 [==============================] - 130s 260ms/step - loss: 0.2756 - val_loss: 0.2636\n",
            "Epoch 28/40\n",
            "499/500 [============================>.] - ETA: 0s - loss: 0.2749Epoch 1/40\n",
            "769/500 [==============================================] - 32s 41ms/step - loss: 0.2553\n",
            "500/500 [==============================] - 129s 258ms/step - loss: 0.2749 - val_loss: 0.2642\n",
            "Epoch 29/40\n",
            "499/500 [============================>.] - ETA: 0s - loss: 0.2745Epoch 1/40\n",
            "769/500 [==============================================] - 31s 40ms/step - loss: 0.2184\n",
            "500/500 [==============================] - 131s 262ms/step - loss: 0.2744 - val_loss: 0.2640\n",
            "Epoch 30/40\n",
            "499/500 [============================>.] - ETA: 0s - loss: 0.2726Epoch 1/40\n",
            "769/500 [==============================================] - 31s 40ms/step - loss: 0.2364\n",
            "500/500 [==============================] - 126s 253ms/step - loss: 0.2726 - val_loss: 0.2643\n",
            "Epoch 31/40\n",
            "499/500 [============================>.] - ETA: 0s - loss: 0.2734Epoch 1/40\n",
            "769/500 [==============================================] - 31s 40ms/step - loss: 0.2775\n",
            "500/500 [==============================] - 127s 254ms/step - loss: 0.2734 - val_loss: 0.2610\n",
            "Epoch 32/40\n",
            "499/500 [============================>.] - ETA: 0s - loss: 0.2733Epoch 1/40\n",
            "769/500 [==============================================] - 31s 40ms/step - loss: 0.2626\n",
            "500/500 [==============================] - 126s 252ms/step - loss: 0.2732 - val_loss: 0.2652\n",
            "Epoch 33/40\n",
            "499/500 [============================>.] - ETA: 0s - loss: 0.2722Epoch 1/40\n",
            "769/500 [==============================================] - 31s 40ms/step - loss: 0.3321\n",
            "500/500 [==============================] - 127s 254ms/step - loss: 0.2722 - val_loss: 0.2630\n",
            "Epoch 34/40\n",
            "499/500 [============================>.] - ETA: 0s - loss: 0.2729Epoch 1/40\n",
            "769/500 [==============================================] - 30s 40ms/step - loss: 0.3456\n",
            "500/500 [==============================] - 130s 259ms/step - loss: 0.2729 - val_loss: 0.2691\n",
            "Epoch 35/40\n",
            "499/500 [============================>.] - ETA: 0s - loss: 0.2730Epoch 1/40\n",
            "769/500 [==============================================] - 30s 39ms/step - loss: 0.2148\n",
            "500/500 [==============================] - 126s 252ms/step - loss: 0.2730 - val_loss: 0.2619\n",
            "Epoch 36/40\n",
            "499/500 [============================>.] - ETA: 0s - loss: 0.2738Epoch 1/40\n",
            "769/500 [==============================================] - 30s 39ms/step - loss: 0.2532\n",
            "500/500 [==============================] - 125s 250ms/step - loss: 0.2738 - val_loss: 0.2681\n",
            "Epoch 37/40\n",
            "499/500 [============================>.] - ETA: 0s - loss: 0.2714Epoch 1/40\n",
            "769/500 [==============================================] - 30s 39ms/step - loss: 0.3473\n",
            "500/500 [==============================] - 126s 252ms/step - loss: 0.2714 - val_loss: 0.2653\n",
            "Epoch 38/40\n",
            "499/500 [============================>.] - ETA: 0s - loss: 0.2697Epoch 1/40\n",
            "769/500 [==============================================] - 30s 39ms/step - loss: 0.2677\n",
            "500/500 [==============================] - 126s 252ms/step - loss: 0.2698 - val_loss: 0.2658\n",
            "Epoch 39/40\n",
            "499/500 [============================>.] - ETA: 0s - loss: 0.2710Epoch 1/40\n",
            "769/500 [==============================================] - 30s 39ms/step - loss: 0.2737\n",
            "500/500 [==============================] - 129s 257ms/step - loss: 0.2710 - val_loss: 0.2675\n",
            "Epoch 40/40\n",
            "499/500 [============================>.] - ETA: 0s - loss: 0.2706Epoch 1/40\n",
            "769/500 [==============================================] - 30s 39ms/step - loss: 0.2508\n",
            "500/500 [==============================] - 125s 250ms/step - loss: 0.2706 - val_loss: 0.2651\n"
          ],
          "name": "stdout"
        }
      ]
    },
    {
      "cell_type": "code",
      "metadata": {
        "id": "G-AK53aHLQsl",
        "colab_type": "code",
        "outputId": "0f593128-ba8d-4067-b0ba-44dc2e8257ec",
        "colab": {
          "base_uri": "https://localhost:8080/",
          "height": 265
        }
      },
      "source": [
        "import matplotlib.pyplot as plt\n",
        "\n",
        "loss = history.history['loss']\n",
        "val_loss = history.history['val_loss']\n",
        "\n",
        "epochs = range(1,len(loss)+1)\n",
        "\n",
        "plt.figure()\n",
        "plt.plot(epochs,loss,'bo',label='Training loss')\n",
        "plt.plot(epochs,val_loss,'r',label = 'Validation loss')\n",
        "#plt.ylim(0.17,0.45)\n",
        "plt.legend()\n",
        "plt.show()"
      ],
      "execution_count": 0,
      "outputs": [
        {
          "output_type": "display_data",
          "data": {
            "image/png": "[encoded data removed]",
            "text/plain": [
              "<Figure size 432x288 with 1 Axes>"
            ]
          },
          "metadata": {
            "tags": [],
            "needs_background": "light"
          }
        }
      ]
    },
    {
      "cell_type": "code",
      "metadata": {
        "id": "XRf6JrZBLQpe",
        "colab_type": "code",
        "colab": {}
      },
      "source": [
        "########################################"
      ],
      "execution_count": 0,
      "outputs": []
    },
    {
      "cell_type": "markdown",
      "metadata": {
        "id": "yFOtHUI-zu_0",
        "colab_type": "text"
      },
      "source": [
        "## Recurrent Neural Network Approach: Adding Layers"
      ]
    },
    {
      "cell_type": "code",
      "metadata": {
        "id": "kBm79lTJLQnU",
        "colab_type": "code",
        "colab": {}
      },
      "source": [
        "## We stack recurrent layers"
      ],
      "execution_count": 0,
      "outputs": []
    },
    {
      "cell_type": "code",
      "metadata": {
        "id": "tQXMU758LQkl",
        "colab_type": "code",
        "colab": {}
      },
      "source": [
        "from tensorflow.keras.models import Sequential\n",
        "from tensorflow.keras import layers\n",
        "from tensorflow.keras.optimizers import RMSprop\n",
        "from tensorflow.keras import callbacks"
      ],
      "execution_count": 0,
      "outputs": []
    },
    {
      "cell_type": "code",
      "metadata": {
        "id": "V-6obWT2l59J",
        "colab_type": "code",
        "colab": {
          "base_uri": "https://localhost:8080/",
          "height": 88
        },
        "outputId": "85b3e6dd-ea80-4d95-dab0-e77aefa333e8"
      },
      "source": [
        "model = Sequential()\n",
        "model.add(layers.GRU(32,\n",
        "                     dropout=0.1, ## I'll use the same values as Chollet\n",
        "                     recurrent_dropout=0.5,\n",
        "                     return_sequences = True,\n",
        "                     input_shape = (None,float_data.shape[-1])))\n",
        "model.add(layers.GRU(64,activation='relu',\n",
        "                    dropout=0.1,\n",
        "                    recurrent_dropout=0.5))\n",
        "model.add(layers.Dense(1))"
      ],
      "execution_count": 27,
      "outputs": [
        {
          "output_type": "stream",
          "text": [
            "WARNING:tensorflow:From /tensorflow-1.15.2/python3.6/tensorflow_core/python/ops/resource_variable_ops.py:1630: calling BaseResourceVariable.__init__ (from tensorflow.python.ops.resource_variable_ops) with constraint is deprecated and will be removed in a future version.\n",
            "Instructions for updating:\n",
            "If using Keras pass *_constraint arguments to layers.\n"
          ],
          "name": "stdout"
        }
      ]
    },
    {
      "cell_type": "code",
      "metadata": {
        "id": "C0qtpVUjl6FU",
        "colab_type": "code",
        "outputId": "616b705a-15e6-4a84-c87b-f18c51e5f2ff",
        "colab": {
          "base_uri": "https://localhost:8080/",
          "height": 255
        }
      },
      "source": [
        "model.summary()"
      ],
      "execution_count": 28,
      "outputs": [
        {
          "output_type": "stream",
          "text": [
            "Model: \"sequential\"\n",
            "_________________________________________________________________\n",
            "Layer (type)                 Output Shape              Param #   \n",
            "=================================================================\n",
            "gru (GRU)                    (None, None, 32)          4512      \n",
            "_________________________________________________________________\n",
            "gru_1 (GRU)                  (None, 64)                18624     \n",
            "_________________________________________________________________\n",
            "dense (Dense)                (None, 1)                 65        \n",
            "=================================================================\n",
            "Total params: 23,201\n",
            "Trainable params: 23,201\n",
            "Non-trainable params: 0\n",
            "_________________________________________________________________\n"
          ],
          "name": "stdout"
        }
      ]
    },
    {
      "cell_type": "code",
      "metadata": {
        "id": "Q9qCNprul6D0",
        "colab_type": "code",
        "colab": {}
      },
      "source": [
        "model.compile(optimizer=RMSprop(), loss='mae')"
      ],
      "execution_count": 0,
      "outputs": []
    },
    {
      "cell_type": "code",
      "metadata": {
        "id": "wlPvfl9YWZc6",
        "colab_type": "code",
        "colab": {}
      },
      "source": [
        "## I add a checkpoint:"
      ],
      "execution_count": 0,
      "outputs": []
    },
    {
      "cell_type": "code",
      "metadata": {
        "id": "D0Nr2xb0WIr5",
        "colab_type": "code",
        "colab": {}
      },
      "source": [
        "checkpoint_path = '/content/drive/My Drive/jena_climate/cp.ckpt'\n",
        "checkpoint_dir = os.path.dirname(checkpoint_path)\n",
        "\n",
        "# Create a callback that saves the model's weights\n",
        "cp_callback = callbacks.ModelCheckpoint(filepath=checkpoint_path,\n",
        "                                                 save_weights_only=True,\n",
        "                                                 verbose=1)\n"
      ],
      "execution_count": 0,
      "outputs": []
    },
    {
      "cell_type": "code",
      "metadata": {
        "id": "Lc480YQ7l6Bv",
        "colab_type": "code",
        "outputId": "e2cafbdf-1878-4c01-d2c6-6d3397e4ea03",
        "colab": {
          "base_uri": "https://localhost:8080/",
          "height": 1000
        }
      },
      "source": [
        "history = model.fit_generator(train_gen,\n",
        "                             steps_per_epoch=500,\n",
        "                             epochs=40,\n",
        "                             validation_data=val_gen,\n",
        "                             validation_steps=val_steps,\n",
        "                              callbacks=[cp_callback])"
      ],
      "execution_count": 32,
      "outputs": [
        {
          "output_type": "stream",
          "text": [
            "Epoch 1/40\n",
            "WARNING:tensorflow:From /tensorflow-1.15.2/python3.6/tensorflow_core/python/ops/math_grad.py:1424: where (from tensorflow.python.ops.array_ops) is deprecated and will be removed in a future version.\n",
            "Instructions for updating:\n",
            "Use tf.where in 2.0, which has the same broadcast rule as np.where\n",
            "499/500 [============================>.] - ETA: 0s - loss: 0.3341Epoch 1/40\n",
            "769/500 [==============================================] - 145s 188ms/step - loss: 0.2433\n",
            "\n",
            "Epoch 00001: saving model to /content/drive/My Drive/jena_climate/cp.ckpt\n",
            "500/500 [==============================] - 566s 1s/step - loss: 0.3340 - val_loss: 0.2815\n",
            "Epoch 2/40\n",
            "499/500 [============================>.] - ETA: 0s - loss: 0.3117Epoch 1/40\n",
            "769/500 [==============================================] - 144s 187ms/step - loss: 0.2230\n",
            "\n",
            "Epoch 00002: saving model to /content/drive/My Drive/jena_climate/cp.ckpt\n",
            "500/500 [==============================] - 562s 1s/step - loss: 0.3117 - val_loss: 0.2749\n",
            "Epoch 3/40\n",
            "499/500 [============================>.] - ETA: 0s - loss: 0.3071Epoch 1/40\n",
            "769/500 [==============================================] - 144s 188ms/step - loss: 0.2907\n",
            "\n",
            "Epoch 00003: saving model to /content/drive/My Drive/jena_climate/cp.ckpt\n",
            "500/500 [==============================] - 559s 1s/step - loss: 0.3071 - val_loss: 0.2722\n",
            "Epoch 4/40\n",
            "499/500 [============================>.] - ETA: 0s - loss: 0.3016Epoch 1/40\n",
            "769/500 [==============================================] - 142s 185ms/step - loss: 0.2773\n",
            "\n",
            "Epoch 00004: saving model to /content/drive/My Drive/jena_climate/cp.ckpt\n",
            "500/500 [==============================] - 557s 1s/step - loss: 0.3016 - val_loss: 0.2699\n",
            "Epoch 5/40\n",
            "499/500 [============================>.] - ETA: 0s - loss: 0.2974Epoch 1/40\n",
            "769/500 [==============================================] - 147s 191ms/step - loss: 0.3586\n",
            "\n",
            "Epoch 00005: saving model to /content/drive/My Drive/jena_climate/cp.ckpt\n",
            "500/500 [==============================] - 570s 1s/step - loss: 0.2974 - val_loss: 0.2719\n",
            "Epoch 6/40\n",
            "499/500 [============================>.] - ETA: 0s - loss: 0.2953Epoch 1/40\n",
            "769/500 [==============================================] - 145s 188ms/step - loss: 0.2084\n",
            "\n",
            "Epoch 00006: saving model to /content/drive/My Drive/jena_climate/cp.ckpt\n",
            "500/500 [==============================] - 563s 1s/step - loss: 0.2953 - val_loss: 0.2667\n",
            "Epoch 7/40\n",
            "499/500 [============================>.] - ETA: 0s - loss: 0.2910Epoch 1/40\n",
            "769/500 [==============================================] - 143s 186ms/step - loss: 0.3070\n",
            "\n",
            "Epoch 00007: saving model to /content/drive/My Drive/jena_climate/cp.ckpt\n",
            "500/500 [==============================] - 558s 1s/step - loss: 0.2910 - val_loss: 0.2653\n",
            "Epoch 8/40\n",
            "499/500 [============================>.] - ETA: 0s - loss: 0.2871Epoch 1/40\n",
            "769/500 [==============================================] - 143s 186ms/step - loss: 0.2237\n",
            "\n",
            "Epoch 00008: saving model to /content/drive/My Drive/jena_climate/cp.ckpt\n",
            "500/500 [==============================] - 565s 1s/step - loss: 0.2871 - val_loss: 0.2704\n",
            "Epoch 9/40\n",
            "499/500 [============================>.] - ETA: 0s - loss: 0.2855Epoch 1/40\n",
            "769/500 [==============================================] - 146s 190ms/step - loss: 0.2475\n",
            "\n",
            "Epoch 00009: saving model to /content/drive/My Drive/jena_climate/cp.ckpt\n",
            "500/500 [==============================] - 570s 1s/step - loss: 0.2855 - val_loss: 0.2681\n",
            "Epoch 10/40\n",
            "499/500 [============================>.] - ETA: 0s - loss: 0.2812Epoch 1/40\n",
            "769/500 [==============================================] - 144s 187ms/step - loss: 0.2473\n",
            "\n",
            "Epoch 00010: saving model to /content/drive/My Drive/jena_climate/cp.ckpt\n",
            "500/500 [==============================] - 562s 1s/step - loss: 0.2812 - val_loss: 0.2670\n",
            "Epoch 11/40\n",
            "499/500 [============================>.] - ETA: 0s - loss: 0.2792Epoch 1/40\n",
            "769/500 [==============================================] - 144s 187ms/step - loss: 0.2489\n",
            "\n",
            "Epoch 00011: saving model to /content/drive/My Drive/jena_climate/cp.ckpt\n",
            "500/500 [==============================] - 563s 1s/step - loss: 0.2792 - val_loss: 0.2684\n",
            "Epoch 12/40\n",
            "499/500 [============================>.] - ETA: 0s - loss: 0.2787Epoch 1/40\n",
            "769/500 [==============================================] - 144s 187ms/step - loss: 0.2380\n",
            "\n",
            "Epoch 00012: saving model to /content/drive/My Drive/jena_climate/cp.ckpt\n",
            "500/500 [==============================] - 564s 1s/step - loss: 0.2786 - val_loss: 0.2679\n",
            "Epoch 13/40\n",
            "499/500 [============================>.] - ETA: 0s - loss: 0.2786Epoch 1/40\n",
            "769/500 [==============================================] - 143s 186ms/step - loss: 0.2814\n",
            "\n",
            "Epoch 00013: saving model to /content/drive/My Drive/jena_climate/cp.ckpt\n",
            "500/500 [==============================] - 555s 1s/step - loss: 0.2786 - val_loss: 0.2708\n",
            "Epoch 14/40\n",
            "499/500 [============================>.] - ETA: 0s - loss: 0.2747Epoch 1/40\n",
            "769/500 [==============================================] - 149s 194ms/step - loss: 0.2702\n",
            "\n",
            "Epoch 00014: saving model to /content/drive/My Drive/jena_climate/cp.ckpt\n",
            "500/500 [==============================] - 568s 1s/step - loss: 0.2747 - val_loss: 0.2649\n",
            "Epoch 15/40\n",
            "499/500 [============================>.] - ETA: 0s - loss: 0.2746Epoch 1/40\n",
            "769/500 [==============================================] - 147s 191ms/step - loss: 0.3481\n",
            "\n",
            "Epoch 00015: saving model to /content/drive/My Drive/jena_climate/cp.ckpt\n",
            "500/500 [==============================] - 575s 1s/step - loss: 0.2746 - val_loss: 0.2686\n",
            "Epoch 16/40\n",
            "499/500 [============================>.] - ETA: 0s - loss: 0.2740Epoch 1/40\n",
            "769/500 [==============================================] - 142s 185ms/step - loss: 0.2421\n",
            "\n",
            "Epoch 00016: saving model to /content/drive/My Drive/jena_climate/cp.ckpt\n",
            "500/500 [==============================] - 565s 1s/step - loss: 0.2740 - val_loss: 0.2694\n",
            "Epoch 17/40\n",
            "499/500 [============================>.] - ETA: 0s - loss: 0.2712Epoch 1/40\n",
            "769/500 [==============================================] - 144s 187ms/step - loss: 0.2276\n",
            "\n",
            "Epoch 00017: saving model to /content/drive/My Drive/jena_climate/cp.ckpt\n",
            "500/500 [==============================] - 554s 1s/step - loss: 0.2712 - val_loss: 0.2691\n",
            "Epoch 18/40\n",
            "499/500 [============================>.] - ETA: 0s - loss: 0.2701Epoch 1/40\n",
            "769/500 [==============================================] - 141s 183ms/step - loss: 0.2887\n",
            "\n",
            "Epoch 00018: saving model to /content/drive/My Drive/jena_climate/cp.ckpt\n",
            "500/500 [==============================] - 555s 1s/step - loss: 0.2702 - val_loss: 0.2685\n",
            "Epoch 19/40\n",
            "499/500 [============================>.] - ETA: 0s - loss: 0.2693Epoch 1/40\n",
            "769/500 [==============================================] - 144s 187ms/step - loss: 0.2805\n",
            "\n",
            "Epoch 00019: saving model to /content/drive/My Drive/jena_climate/cp.ckpt\n",
            "500/500 [==============================] - 562s 1s/step - loss: 0.2693 - val_loss: 0.2706\n",
            "Epoch 20/40\n",
            "499/500 [============================>.] - ETA: 0s - loss: 0.2687Epoch 1/40\n",
            "769/500 [==============================================] - 142s 184ms/step - loss: 0.2694\n",
            "\n",
            "Epoch 00020: saving model to /content/drive/My Drive/jena_climate/cp.ckpt\n",
            "500/500 [==============================] - 547s 1s/step - loss: 0.2687 - val_loss: 0.2695\n",
            "Epoch 21/40\n",
            "499/500 [============================>.] - ETA: 0s - loss: 0.2674Epoch 1/40\n",
            "769/500 [==============================================] - 145s 188ms/step - loss: 0.2728\n",
            "\n",
            "Epoch 00021: saving model to /content/drive/My Drive/jena_climate/cp.ckpt\n",
            "500/500 [==============================] - 560s 1s/step - loss: 0.2674 - val_loss: 0.2704\n",
            "Epoch 22/40\n",
            "499/500 [============================>.] - ETA: 0s - loss: 0.2680Epoch 1/40\n",
            "769/500 [==============================================] - 143s 186ms/step - loss: 0.2509\n",
            "\n",
            "Epoch 00022: saving model to /content/drive/My Drive/jena_climate/cp.ckpt\n",
            "500/500 [==============================] - 559s 1s/step - loss: 0.2679 - val_loss: 0.2702\n",
            "Epoch 23/40\n",
            "499/500 [============================>.] - ETA: 0s - loss: 0.2652Epoch 1/40\n",
            "769/500 [==============================================] - 142s 185ms/step - loss: 0.3237\n",
            "\n",
            "Epoch 00023: saving model to /content/drive/My Drive/jena_climate/cp.ckpt\n",
            "500/500 [==============================] - 549s 1s/step - loss: 0.2652 - val_loss: 0.2709\n",
            "Epoch 24/40\n",
            "499/500 [============================>.] - ETA: 0s - loss: 0.2653Epoch 1/40\n",
            "769/500 [==============================================] - 144s 187ms/step - loss: 0.3180\n",
            "\n",
            "Epoch 00024: saving model to /content/drive/My Drive/jena_climate/cp.ckpt\n",
            "500/500 [==============================] - 552s 1s/step - loss: 0.2652 - val_loss: 0.2693\n",
            "Epoch 25/40\n",
            "499/500 [============================>.] - ETA: 0s - loss: 0.2648Epoch 1/40\n",
            "769/500 [==============================================] - 149s 194ms/step - loss: 0.2835\n",
            "\n",
            "Epoch 00025: saving model to /content/drive/My Drive/jena_climate/cp.ckpt\n",
            "500/500 [==============================] - 565s 1s/step - loss: 0.2648 - val_loss: 0.2746\n",
            "Epoch 26/40\n",
            "499/500 [============================>.] - ETA: 0s - loss: 0.2627Epoch 1/40\n",
            "769/500 [==============================================] - 145s 189ms/step - loss: 0.3303\n",
            "\n",
            "Epoch 00026: saving model to /content/drive/My Drive/jena_climate/cp.ckpt\n",
            "500/500 [==============================] - 572s 1s/step - loss: 0.2627 - val_loss: 0.2771\n",
            "Epoch 27/40\n",
            "499/500 [============================>.] - ETA: 0s - loss: 0.2622Epoch 1/40\n",
            "769/500 [==============================================] - 142s 185ms/step - loss: 0.2786\n",
            "\n",
            "Epoch 00027: saving model to /content/drive/My Drive/jena_climate/cp.ckpt\n",
            "500/500 [==============================] - 562s 1s/step - loss: 0.2622 - val_loss: 0.2780\n",
            "Epoch 28/40\n",
            "499/500 [============================>.] - ETA: 0s - loss: 0.2610Epoch 1/40\n",
            "769/500 [==============================================] - 143s 186ms/step - loss: 0.2800\n",
            "\n",
            "Epoch 00028: saving model to /content/drive/My Drive/jena_climate/cp.ckpt\n",
            "500/500 [==============================] - 561s 1s/step - loss: 0.2610 - val_loss: 0.2705\n",
            "Epoch 29/40\n",
            "499/500 [============================>.] - ETA: 0s - loss: 0.2618Epoch 1/40\n",
            "769/500 [==============================================] - 140s 183ms/step - loss: 0.2700\n",
            "\n",
            "Epoch 00029: saving model to /content/drive/My Drive/jena_climate/cp.ckpt\n",
            "500/500 [==============================] - 548s 1s/step - loss: 0.2617 - val_loss: 0.2746\n",
            "Epoch 30/40\n",
            "499/500 [============================>.] - ETA: 0s - loss: 0.2599Epoch 1/40\n",
            "769/500 [==============================================] - 149s 193ms/step - loss: 0.2426\n",
            "\n",
            "Epoch 00030: saving model to /content/drive/My Drive/jena_climate/cp.ckpt\n",
            "500/500 [==============================] - 560s 1s/step - loss: 0.2599 - val_loss: 0.2731\n",
            "Epoch 31/40\n",
            "499/500 [============================>.] - ETA: 0s - loss: 0.2591Epoch 1/40\n",
            "769/500 [==============================================] - 144s 188ms/step - loss: 0.2592\n",
            "\n",
            "Epoch 00031: saving model to /content/drive/My Drive/jena_climate/cp.ckpt\n",
            "500/500 [==============================] - 561s 1s/step - loss: 0.2591 - val_loss: 0.2755\n",
            "Epoch 32/40\n",
            "499/500 [============================>.] - ETA: 0s - loss: 0.2595Epoch 1/40\n",
            "769/500 [==============================================] - 144s 187ms/step - loss: 0.2486\n",
            "\n",
            "Epoch 00032: saving model to /content/drive/My Drive/jena_climate/cp.ckpt\n",
            "500/500 [==============================] - 562s 1s/step - loss: 0.2594 - val_loss: 0.2749\n",
            "Epoch 33/40\n",
            "499/500 [============================>.] - ETA: 0s - loss: 0.2581Epoch 1/40\n",
            "769/500 [==============================================] - 144s 187ms/step - loss: 0.3002\n",
            "\n",
            "Epoch 00033: saving model to /content/drive/My Drive/jena_climate/cp.ckpt\n",
            "500/500 [==============================] - 567s 1s/step - loss: 0.2581 - val_loss: 0.2715\n",
            "Epoch 34/40\n",
            "499/500 [============================>.] - ETA: 0s - loss: 0.2571Epoch 1/40\n",
            "769/500 [==============================================] - 144s 187ms/step - loss: 0.2564\n",
            "\n",
            "Epoch 00034: saving model to /content/drive/My Drive/jena_climate/cp.ckpt\n",
            "500/500 [==============================] - 561s 1s/step - loss: 0.2570 - val_loss: 0.2720\n",
            "Epoch 35/40\n",
            "499/500 [============================>.] - ETA: 0s - loss: 0.2578Epoch 1/40\n",
            "769/500 [==============================================] - 147s 191ms/step - loss: 0.2872\n",
            "\n",
            "Epoch 00035: saving model to /content/drive/My Drive/jena_climate/cp.ckpt\n",
            "500/500 [==============================] - 567s 1s/step - loss: 0.2578 - val_loss: 0.2722\n",
            "Epoch 36/40\n",
            "499/500 [============================>.] - ETA: 0s - loss: 0.2556Epoch 1/40\n",
            "769/500 [==============================================] - 145s 189ms/step - loss: 0.2253\n",
            "\n",
            "Epoch 00036: saving model to /content/drive/My Drive/jena_climate/cp.ckpt\n",
            "500/500 [==============================] - 568s 1s/step - loss: 0.2556 - val_loss: 0.2767\n",
            "Epoch 37/40\n",
            "499/500 [============================>.] - ETA: 0s - loss: 0.2566Epoch 1/40\n",
            "769/500 [==============================================] - 148s 192ms/step - loss: 0.3159\n",
            "\n",
            "Epoch 00037: saving model to /content/drive/My Drive/jena_climate/cp.ckpt\n",
            "500/500 [==============================] - 566s 1s/step - loss: 0.2565 - val_loss: 0.2741\n",
            "Epoch 38/40\n",
            "499/500 [============================>.] - ETA: 0s - loss: 0.2548Epoch 1/40\n",
            "769/500 [==============================================] - 142s 185ms/step - loss: 0.2667\n",
            "\n",
            "Epoch 00038: saving model to /content/drive/My Drive/jena_climate/cp.ckpt\n",
            "500/500 [==============================] - 556s 1s/step - loss: 0.2548 - val_loss: 0.2759\n",
            "Epoch 39/40\n",
            "499/500 [============================>.] - ETA: 0s - loss: 0.2549Epoch 1/40\n",
            "769/500 [==============================================] - 148s 192ms/step - loss: 0.2742\n",
            "\n",
            "Epoch 00039: saving model to /content/drive/My Drive/jena_climate/cp.ckpt\n",
            "500/500 [==============================] - 565s 1s/step - loss: 0.2549 - val_loss: 0.2769\n",
            "Epoch 40/40\n",
            "499/500 [============================>.] - ETA: 0s - loss: 0.2560Epoch 1/40\n",
            "769/500 [==============================================] - 143s 186ms/step - loss: 0.3179\n",
            "\n",
            "Epoch 00040: saving model to /content/drive/My Drive/jena_climate/cp.ckpt\n",
            "500/500 [==============================] - 563s 1s/step - loss: 0.2560 - val_loss: 0.2756\n"
          ],
          "name": "stdout"
        }
      ]
    },
    {
      "cell_type": "code",
      "metadata": {
        "id": "30VUV8Vkl56Z",
        "colab_type": "code",
        "colab": {
          "base_uri": "https://localhost:8080/",
          "height": 265
        },
        "outputId": "a820b11a-e086-4786-8afd-65dc7781eb47"
      },
      "source": [
        "import matplotlib.pyplot as plt\n",
        "\n",
        "loss = history.history['loss']\n",
        "val_loss = history.history['val_loss']\n",
        "\n",
        "epochs = range(1,len(loss)+1)\n",
        "\n",
        "plt.figure()\n",
        "plt.plot(epochs,loss,'bo',label='Training loss')\n",
        "plt.plot(epochs,val_loss,'r',label = 'Validation loss')\n",
        "#plt.ylim(0.17,0.45)\n",
        "plt.legend()\n",
        "plt.show()"
      ],
      "execution_count": 33,
      "outputs": [
        {
          "output_type": "display_data",
          "data": {
            "image/png": "[encoded data removed]",
            "text/plain": [
              "<Figure size 432x288 with 1 Axes>"
            ]
          },
          "metadata": {
            "tags": [],
            "needs_background": "light"
          }
        }
      ]
    },
    {
      "cell_type": "markdown",
      "metadata": {
        "id": "U02LTq0ni0Rt",
        "colab_type": "text"
      },
      "source": [
        "## Bidirectional RNN"
      ]
    },
    {
      "cell_type": "code",
      "metadata": {
        "id": "BW6n6PEIl53h",
        "colab_type": "code",
        "colab": {}
      },
      "source": [
        "def generator(data, lookback, delay, min_index, max_index,\n",
        "             shuffle=False, batch_size = 128, step = 6):\n",
        "    if max_index is None:\n",
        "        max_index = len(data) - delay - 1\n",
        "    i = min_index + lookback\n",
        "    while 1:\n",
        "        if shuffle:\n",
        "            rows = np.random.randint(min_index + lookback, max_index, size = batch_size)\n",
        "        else:\n",
        "            if i + batch_size >= max_index:\n",
        "                i = min_index + lookback\n",
        "            rows = np.arange(i,min(i+batch_size,max_index))\n",
        "            i += len(rows)\n",
        "        samples = np.zeros((len(rows),\n",
        "                           lookback//step,\n",
        "                           data.shape[-1]))\n",
        "        targets = np.zeros((len(rows),))\n",
        "        for j, row in enumerate(rows):\n",
        "            indices = range(rows[j]-lookback,rows[j],step)\n",
        "            samples[j] = data[indices]\n",
        "            targets[j] = data[rows[j] + delay][1]\n",
        "        yield samples[:, ::-1,:], targets"
      ],
      "execution_count": 0,
      "outputs": []
    },
    {
      "cell_type": "code",
      "metadata": {
        "id": "E_lO197VjSou",
        "colab_type": "code",
        "colab": {}
      },
      "source": [
        "lookback = 1440\n",
        "step = 6\n",
        "delay = 144\n",
        "batch_size = 128\n",
        "\n",
        "train_gen = generator(float_data,\n",
        "                     lookback=lookback,\n",
        "                     delay=delay,\n",
        "                     min_index=0,\n",
        "                     max_index=200000,\n",
        "                     shuffle=True,\n",
        "                     step=step,\n",
        "                     batch_size=batch_size)\n",
        "\n",
        "val_gen = generator(float_data,\n",
        "                    lookback=lookback,\n",
        "                    delay=delay,\n",
        "                    min_index=200001,\n",
        "                    max_index=300000,\n",
        "                    step=step,\n",
        "                    batch_size=batch_size)\n",
        "test_gen = generator(float_data,\n",
        "                     lookback=lookback,\n",
        "                     delay=delay,\n",
        "                     min_index=300001,\n",
        "                     max_index=None,\n",
        "                     step=step,\n",
        "                     batch_size=batch_size)"
      ],
      "execution_count": 0,
      "outputs": []
    },
    {
      "cell_type": "code",
      "metadata": {
        "id": "otkYULT6jSyU",
        "colab_type": "code",
        "colab": {}
      },
      "source": [
        "val_steps = (300000 - 200001 - lookback)// batch_size # How many steps o draw from val_gen in order to see entire val. set.\n",
        "test_steps = (len(float_data) - 300001 - lookback)// batch_size # idem. for test set."
      ],
      "execution_count": 0,
      "outputs": []
    },
    {
      "cell_type": "code",
      "metadata": {
        "id": "J0a9Hji8jS69",
        "colab_type": "code",
        "colab": {
          "base_uri": "https://localhost:8080/",
          "height": 34
        },
        "outputId": "348bca6e-1545-4847-f218-dc258a634452"
      },
      "source": [
        "%tensorflow_version 1.x\n",
        "\n",
        "from tensorflow.keras.models import Sequential\n",
        "from tensorflow.keras import layers\n",
        "from tensorflow.keras.optimizers import RMSprop"
      ],
      "execution_count": 18,
      "outputs": [
        {
          "output_type": "stream",
          "text": [
            "TensorFlow 1.x selected.\n"
          ],
          "name": "stdout"
        }
      ]
    },
    {
      "cell_type": "code",
      "metadata": {
        "id": "rFd7zOMqjTHy",
        "colab_type": "code",
        "colab": {
          "base_uri": "https://localhost:8080/",
          "height": 88
        },
        "outputId": "54f7cf27-7c91-4183-a724-21ace5457458"
      },
      "source": [
        "model = Sequential()\n",
        "model.add(layers.GRU(32,input_shape = (None,float_data.shape[-1]) ))\n",
        "model.add(layers.Dense(1))\n",
        "\n",
        "model.compile(optimizer = RMSprop(), loss = 'mae')"
      ],
      "execution_count": 19,
      "outputs": [
        {
          "output_type": "stream",
          "text": [
            "WARNING:tensorflow:From /tensorflow-1.15.2/python3.6/tensorflow_core/python/ops/resource_variable_ops.py:1630: calling BaseResourceVariable.__init__ (from tensorflow.python.ops.resource_variable_ops) with constraint is deprecated and will be removed in a future version.\n",
            "Instructions for updating:\n",
            "If using Keras pass *_constraint arguments to layers.\n"
          ],
          "name": "stdout"
        }
      ]
    },
    {
      "cell_type": "code",
      "metadata": {
        "id": "zVoOJxoLjTQn",
        "colab_type": "code",
        "colab": {
          "base_uri": "https://localhost:8080/",
          "height": 1000
        },
        "outputId": "402504ea-fcbc-4fb2-ecc3-0b9f04ba73c9"
      },
      "source": [
        "history = model.fit_generator(train_gen,\n",
        "                             steps_per_epoch=500,\n",
        "                             epochs = 20,\n",
        "                             validation_data = val_gen,\n",
        "                             validation_steps= val_steps)"
      ],
      "execution_count": 20,
      "outputs": [
        {
          "output_type": "stream",
          "text": [
            "Epoch 1/20\n",
            "WARNING:tensorflow:From /tensorflow-1.15.2/python3.6/tensorflow_core/python/ops/math_grad.py:1424: where (from tensorflow.python.ops.array_ops) is deprecated and will be removed in a future version.\n",
            "Instructions for updating:\n",
            "Use tf.where in 2.0, which has the same broadcast rule as np.where\n",
            "499/500 [============================>.] - ETA: 0s - loss: 0.4769Epoch 1/20\n",
            "769/500 [==============================================] - 65s 84ms/step - loss: 0.4025\n",
            "500/500 [==============================] - 246s 492ms/step - loss: 0.4769 - val_loss: 0.4877\n",
            "Epoch 2/20\n",
            "499/500 [============================>.] - ETA: 0s - loss: 0.4469Epoch 1/20\n",
            "769/500 [==============================================] - 66s 85ms/step - loss: 0.5635\n",
            "500/500 [==============================] - 237s 474ms/step - loss: 0.4467 - val_loss: 0.4777\n",
            "Epoch 3/20\n",
            "499/500 [============================>.] - ETA: 0s - loss: 0.3904Epoch 1/20\n",
            "769/500 [==============================================] - 66s 85ms/step - loss: 0.4453\n",
            "500/500 [==============================] - 240s 479ms/step - loss: 0.3903 - val_loss: 0.4685\n",
            "Epoch 4/20\n",
            "499/500 [============================>.] - ETA: 0s - loss: 0.3510Epoch 1/20\n",
            "769/500 [==============================================] - 65s 85ms/step - loss: 0.3775\n",
            "500/500 [==============================] - 237s 473ms/step - loss: 0.3509 - val_loss: 0.4622\n",
            "Epoch 5/20\n",
            "499/500 [============================>.] - ETA: 0s - loss: 0.3321Epoch 1/20\n",
            "769/500 [==============================================] - 65s 84ms/step - loss: 0.6191\n",
            "500/500 [==============================] - 238s 477ms/step - loss: 0.3321 - val_loss: 0.4613\n",
            "Epoch 6/20\n",
            "499/500 [============================>.] - ETA: 0s - loss: 0.3182Epoch 1/20\n",
            "769/500 [==============================================] - 63s 82ms/step - loss: 0.4655\n",
            "500/500 [==============================] - 234s 469ms/step - loss: 0.3181 - val_loss: 0.4736\n",
            "Epoch 7/20\n",
            "499/500 [============================>.] - ETA: 0s - loss: 0.3052Epoch 1/20\n",
            "769/500 [==============================================] - 64s 84ms/step - loss: 0.5369\n",
            "500/500 [==============================] - 235s 471ms/step - loss: 0.3052 - val_loss: 0.4732\n",
            "Epoch 8/20\n",
            "499/500 [============================>.] - ETA: 0s - loss: 0.2963Epoch 1/20\n",
            "769/500 [==============================================] - 64s 83ms/step - loss: 0.3836\n",
            "500/500 [==============================] - 237s 474ms/step - loss: 0.2962 - val_loss: 0.4564\n",
            "Epoch 9/20\n",
            "499/500 [============================>.] - ETA: 0s - loss: 0.2887Epoch 1/20\n",
            "769/500 [==============================================] - 65s 85ms/step - loss: 0.3461\n",
            "500/500 [==============================] - 237s 474ms/step - loss: 0.2887 - val_loss: 0.4559\n",
            "Epoch 10/20\n",
            "499/500 [============================>.] - ETA: 0s - loss: 0.2801Epoch 1/20\n",
            "769/500 [==============================================] - 64s 84ms/step - loss: 0.3587\n",
            "500/500 [==============================] - 235s 470ms/step - loss: 0.2801 - val_loss: 0.4386\n",
            "Epoch 11/20\n",
            "499/500 [============================>.] - ETA: 0s - loss: 0.2712Epoch 1/20\n",
            "769/500 [==============================================] - 63s 82ms/step - loss: 0.3558\n",
            "500/500 [==============================] - 235s 471ms/step - loss: 0.2712 - val_loss: 0.4262\n",
            "Epoch 12/20\n",
            "499/500 [============================>.] - ETA: 0s - loss: 0.2646Epoch 1/20\n",
            "769/500 [==============================================] - 64s 83ms/step - loss: 0.3828\n",
            "500/500 [==============================] - 236s 472ms/step - loss: 0.2647 - val_loss: 0.4321\n",
            "Epoch 13/20\n",
            "499/500 [============================>.] - ETA: 0s - loss: 0.2584Epoch 1/20\n",
            "769/500 [==============================================] - 64s 83ms/step - loss: 0.5217\n",
            "500/500 [==============================] - 236s 471ms/step - loss: 0.2583 - val_loss: 0.4241\n",
            "Epoch 14/20\n",
            "499/500 [============================>.] - ETA: 0s - loss: 0.2520Epoch 1/20\n",
            "769/500 [==============================================] - 64s 83ms/step - loss: 0.5054\n",
            "500/500 [==============================] - 235s 470ms/step - loss: 0.2520 - val_loss: 0.4221\n",
            "Epoch 15/20\n",
            "499/500 [============================>.] - ETA: 0s - loss: 0.2471Epoch 1/20\n",
            "769/500 [==============================================] - 65s 85ms/step - loss: 0.4472\n",
            "500/500 [==============================] - 237s 474ms/step - loss: 0.2471 - val_loss: 0.4146\n",
            "Epoch 16/20\n",
            "499/500 [============================>.] - ETA: 0s - loss: 0.2429Epoch 1/20\n",
            "769/500 [==============================================] - 65s 84ms/step - loss: 0.4318\n",
            "500/500 [==============================] - 239s 477ms/step - loss: 0.2428 - val_loss: 0.4247\n",
            "Epoch 17/20\n",
            "499/500 [============================>.] - ETA: 0s - loss: 0.2388Epoch 1/20\n",
            "769/500 [==============================================] - 66s 85ms/step - loss: 0.5389\n",
            "500/500 [==============================] - 240s 479ms/step - loss: 0.2388 - val_loss: 0.4202\n",
            "Epoch 18/20\n",
            "499/500 [============================>.] - ETA: 0s - loss: 0.2358Epoch 1/20\n",
            "769/500 [==============================================] - 65s 85ms/step - loss: 0.4563\n",
            "500/500 [==============================] - 241s 482ms/step - loss: 0.2358 - val_loss: 0.4291\n",
            "Epoch 19/20\n",
            "499/500 [============================>.] - ETA: 0s - loss: 0.2324Epoch 1/20\n",
            "769/500 [==============================================] - 66s 85ms/step - loss: 0.5647\n",
            "500/500 [==============================] - 241s 481ms/step - loss: 0.2324 - val_loss: 0.4234\n",
            "Epoch 20/20\n",
            "499/500 [============================>.] - ETA: 0s - loss: 0.2305Epoch 1/20\n",
            "769/500 [==============================================] - 65s 85ms/step - loss: 0.3501\n",
            "500/500 [==============================] - 240s 479ms/step - loss: 0.2305 - val_loss: 0.4199\n"
          ],
          "name": "stdout"
        }
      ]
    },
    {
      "cell_type": "code",
      "metadata": {
        "id": "uJnCOAtZjTCt",
        "colab_type": "code",
        "colab": {
          "base_uri": "https://localhost:8080/",
          "height": 269
        },
        "outputId": "f8115ff9-387c-4dd9-8611-7db7423b4414"
      },
      "source": [
        "import matplotlib.pyplot as plt\n",
        "\n",
        "loss = history.history['loss']\n",
        "val_loss = history.history['val_loss']\n",
        "\n",
        "epochs = range(1,len(loss)+1)\n",
        "\n",
        "plt.figure()\n",
        "plt.plot(epochs,loss,'bo',label='Training loss')\n",
        "plt.plot(epochs,val_loss,'r',label = 'Validation loss')\n",
        "#plt.ylim(0.17,0.45)\n",
        "plt.legend()\n",
        "plt.show()  "
      ],
      "execution_count": 21,
      "outputs": [
        {
          "output_type": "display_data",
          "data": {
            "image/png": "[encoded data removed]",
            "text/plain": [
              "<Figure size 432x288 with 1 Axes>"
            ]
          },
          "metadata": {
            "tags": [],
            "needs_background": "light"
          }
        }
      ]
    },
    {
      "cell_type": "code",
      "metadata": {
        "id": "UqdPJ38FyYVR",
        "colab_type": "code",
        "colab": {}
      },
      "source": [
        ""
      ],
      "execution_count": 0,
      "outputs": []
    },
    {
      "cell_type": "code",
      "metadata": {
        "id": "NJ7-BURJyYSP",
        "colab_type": "code",
        "colab": {}
      },
      "source": [
        ""
      ],
      "execution_count": 0,
      "outputs": []
    },
    {
      "cell_type": "code",
      "metadata": {
        "id": "zjs8HT6eyYPR",
        "colab_type": "code",
        "colab": {}
      },
      "source": [
        ""
      ],
      "execution_count": 0,
      "outputs": []
    },
    {
      "cell_type": "code",
      "metadata": {
        "id": "Lt4x90VcyYMu",
        "colab_type": "code",
        "colab": {}
      },
      "source": [
        ""
      ],
      "execution_count": 0,
      "outputs": []
    },
    {
      "cell_type": "code",
      "metadata": {
        "id": "ageJjtvEyYKm",
        "colab_type": "code",
        "colab": {}
      },
      "source": [
        ""
      ],
      "execution_count": 0,
      "outputs": []
    },
    {
      "cell_type": "code",
      "metadata": {
        "id": "DtH_buK9yYIm",
        "colab_type": "code",
        "colab": {}
      },
      "source": [
        ""
      ],
      "execution_count": 0,
      "outputs": []
    },
    {
      "cell_type": "code",
      "metadata": {
        "id": "Ku2hs33byYG0",
        "colab_type": "code",
        "colab": {}
      },
      "source": [
        ""
      ],
      "execution_count": 0,
      "outputs": []
    },
    {
      "cell_type": "code",
      "metadata": {
        "id": "1gxOQGKVyYER",
        "colab_type": "code",
        "colab": {}
      },
      "source": [
        ""
      ],
      "execution_count": 0,
      "outputs": []
    },
    {
      "cell_type": "code",
      "metadata": {
        "id": "D9T9DpQ7yYAB",
        "colab_type": "code",
        "colab": {}
      },
      "source": [
        ""
      ],
      "execution_count": 0,
      "outputs": []
    },
    {
      "cell_type": "code",
      "metadata": {
        "id": "DOg1Wp4kLQd8",
        "colab_type": "code",
        "colab": {}
      },
      "source": [
        ""
      ],
      "execution_count": 0,
      "outputs": []
    },
    {
      "cell_type": "code",
      "metadata": {
        "id": "wluzJCCbIFo2",
        "colab_type": "code",
        "colab": {}
      },
      "source": [
        ""
      ],
      "execution_count": 0,
      "outputs": []
    },
    {
      "cell_type": "code",
      "metadata": {
        "id": "9j0gqqRoIFje",
        "colab_type": "code",
        "colab": {}
      },
      "source": [
        ""
      ],
      "execution_count": 0,
      "outputs": []
    },
    {
      "cell_type": "code",
      "metadata": {
        "id": "z5k7-5LuIFiR",
        "colab_type": "code",
        "colab": {}
      },
      "source": [
        ""
      ],
      "execution_count": 0,
      "outputs": []
    }
  ]
}