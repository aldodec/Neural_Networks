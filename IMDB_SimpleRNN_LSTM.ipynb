{
  "nbformat": 4,
  "nbformat_minor": 0,
  "metadata": {
    "colab": {
      "name": "IMDB_SimpleRNN_LSTM.ipynb",
      "provenance": [],
      "collapsed_sections": [],
      "toc_visible": true,
      "authorship_tag": "ABX9TyNBybK030oe+Bv/zt9ADtsC",
      "include_colab_link": true
    },
    "kernelspec": {
      "name": "python3",
      "display_name": "Python 3"
    }
  },
  "cells": [
    {
      "cell_type": "markdown",
      "metadata": {
        "id": "view-in-github",
        "colab_type": "text"
      },
      "source": [
        "<a href=\"https://colab.research.google.com/github/aldodec/Neural_Networks/blob/master/IMDB_SimpleRNN_LSTM.ipynb\" target=\"_parent\"><img src=\"https://colab.research.google.com/assets/colab-badge.svg\" alt=\"Open In Colab\"/></a>"
      ]
    },
    {
      "cell_type": "code",
      "metadata": {
        "id": "tTNLXorwdpnv",
        "colab_type": "code",
        "colab": {}
      },
      "source": [
        "from tensorflow import keras"
      ],
      "execution_count": null,
      "outputs": []
    },
    {
      "cell_type": "code",
      "metadata": {
        "id": "q4-_tf1dduk-",
        "colab_type": "code",
        "colab": {}
      },
      "source": [
        "from keras.datasets import imdb\n",
        "from keras.preprocessing import sequence"
      ],
      "execution_count": null,
      "outputs": []
    },
    {
      "cell_type": "markdown",
      "metadata": {
        "id": "rx1FeQFZZ7Bu",
        "colab_type": "text"
      },
      "source": [
        "## Data Loading and Processing"
      ]
    },
    {
      "cell_type": "code",
      "metadata": {
        "id": "I7-l5nrLTaDk",
        "colab_type": "code",
        "colab": {}
      },
      "source": [
        "## Data processing"
      ],
      "execution_count": null,
      "outputs": []
    },
    {
      "cell_type": "code",
      "metadata": {
        "id": "dAaGAOCsdunl",
        "colab_type": "code",
        "colab": {}
      },
      "source": [
        "max_features = 10000 # number of words to consider as features\n",
        "maxlen = 500 # cuts off text after this many words (among the max_features more common words)\n",
        "batch_size = 32"
      ],
      "execution_count": null,
      "outputs": []
    },
    {
      "cell_type": "code",
      "metadata": {
        "id": "amaHVM0bduqt",
        "colab_type": "code",
        "colab": {
          "base_uri": "https://localhost:8080/",
          "height": 51
        },
        "outputId": "ee9c043a-7100-4ee3-cc5d-2330142d989e"
      },
      "source": [
        "(input_train, y_train), (input_test, y_test) = imdb.load_data(num_words=max_features)"
      ],
      "execution_count": null,
      "outputs": [
        {
          "output_type": "stream",
          "text": [
            "Downloading data from https://s3.amazonaws.com/text-datasets/imdb.npz\n",
            "17465344/17464789 [==============================] - 2s 0us/step\n"
          ],
          "name": "stdout"
        }
      ]
    },
    {
      "cell_type": "code",
      "metadata": {
        "id": "a2rdNeADduvO",
        "colab_type": "code",
        "colab": {
          "base_uri": "https://localhost:8080/",
          "height": 34
        },
        "outputId": "345bcb19-18d9-45d1-9e96-4d28a60c9a68"
      },
      "source": [
        "len(input_train), len(input_test)"
      ],
      "execution_count": null,
      "outputs": [
        {
          "output_type": "execute_result",
          "data": {
            "text/plain": [
              "(25000, 25000)"
            ]
          },
          "metadata": {
            "tags": []
          },
          "execution_count": 5
        }
      ]
    },
    {
      "cell_type": "code",
      "metadata": {
        "id": "t6HDBdPLg1yg",
        "colab_type": "code",
        "colab": {
          "base_uri": "https://localhost:8080/",
          "height": 34
        },
        "outputId": "37054a72-55ef-41d9-bc3b-d179354a4a7d"
      },
      "source": [
        "input_train.shape, input_test.shape"
      ],
      "execution_count": null,
      "outputs": [
        {
          "output_type": "execute_result",
          "data": {
            "text/plain": [
              "((25000,), (25000,))"
            ]
          },
          "metadata": {
            "tags": []
          },
          "execution_count": 6
        }
      ]
    },
    {
      "cell_type": "code",
      "metadata": {
        "id": "WmKvaqNTdu0X",
        "colab_type": "code",
        "colab": {}
      },
      "source": [
        "# We pad the sequences"
      ],
      "execution_count": null,
      "outputs": []
    },
    {
      "cell_type": "code",
      "metadata": {
        "id": "fUXxCjYjdu5c",
        "colab_type": "code",
        "colab": {}
      },
      "source": [
        "input_train = sequence.pad_sequences(input_train,maxlen=maxlen)\n",
        "input_test = sequence.pad_sequences(input_test,maxlen=maxlen)"
      ],
      "execution_count": null,
      "outputs": []
    },
    {
      "cell_type": "code",
      "metadata": {
        "id": "c9p75ZgadvBN",
        "colab_type": "code",
        "colab": {
          "base_uri": "https://localhost:8080/",
          "height": 34
        },
        "outputId": "cbc63098-4dff-4993-ba87-b13b80285b65"
      },
      "source": [
        "input_train.shape, input_test.shape"
      ],
      "execution_count": null,
      "outputs": [
        {
          "output_type": "execute_result",
          "data": {
            "text/plain": [
              "((25000, 500), (25000, 500))"
            ]
          },
          "metadata": {
            "tags": []
          },
          "execution_count": 8
        }
      ]
    },
    {
      "cell_type": "markdown",
      "metadata": {
        "id": "2WZkGSOxaELs",
        "colab_type": "text"
      },
      "source": [
        "## Simple RNN Model"
      ]
    },
    {
      "cell_type": "code",
      "metadata": {
        "id": "idHfUmTidvEF",
        "colab_type": "code",
        "colab": {}
      },
      "source": [
        "## The SimpleRNN model "
      ],
      "execution_count": null,
      "outputs": []
    },
    {
      "cell_type": "code",
      "metadata": {
        "id": "Qm9YTlmIdvJA",
        "colab_type": "code",
        "colab": {}
      },
      "source": [
        "from keras.models import Sequential\n",
        "from keras.layers import Dense, Embedding, SimpleRNN"
      ],
      "execution_count": null,
      "outputs": []
    },
    {
      "cell_type": "code",
      "metadata": {
        "id": "AolWpOJ7dvGv",
        "colab_type": "code",
        "colab": {}
      },
      "source": [
        "model = Sequential()\n",
        "model.add(Embedding(max_features, 32))\n",
        "model.add(SimpleRNN(32))\n",
        "model.add(Dense(1,activation='sigmoid'))"
      ],
      "execution_count": null,
      "outputs": []
    },
    {
      "cell_type": "code",
      "metadata": {
        "id": "cTJkZnjgdu-r",
        "colab_type": "code",
        "colab": {
          "base_uri": "https://localhost:8080/",
          "height": 255
        },
        "outputId": "e5811ed8-bb16-483e-f51a-a1c7f8d58690"
      },
      "source": [
        "model.summary()"
      ],
      "execution_count": null,
      "outputs": [
        {
          "output_type": "stream",
          "text": [
            "Model: \"sequential_1\"\n",
            "_________________________________________________________________\n",
            "Layer (type)                 Output Shape              Param #   \n",
            "=================================================================\n",
            "embedding_1 (Embedding)      (None, None, 32)          320000    \n",
            "_________________________________________________________________\n",
            "simple_rnn_1 (SimpleRNN)     (None, 32)                2080      \n",
            "_________________________________________________________________\n",
            "dense_1 (Dense)              (None, 1)                 33        \n",
            "=================================================================\n",
            "Total params: 322,113\n",
            "Trainable params: 322,113\n",
            "Non-trainable params: 0\n",
            "_________________________________________________________________\n"
          ],
          "name": "stdout"
        }
      ]
    },
    {
      "cell_type": "code",
      "metadata": {
        "id": "WNudHZHwdu9P",
        "colab_type": "code",
        "colab": {}
      },
      "source": [
        "model.compile(optimizer='rmsprop',\n",
        "              loss='binary_crossentropy',\n",
        "              metrics = ['acc'])"
      ],
      "execution_count": null,
      "outputs": []
    },
    {
      "cell_type": "code",
      "metadata": {
        "id": "iiYRMHZ0du3D",
        "colab_type": "code",
        "colab": {
          "base_uri": "https://localhost:8080/",
          "height": 428
        },
        "outputId": "6dd3b1dc-7d93-4d72-f25a-7155e84147c8"
      },
      "source": [
        "history = model.fit(input_train,y_train,\n",
        "                    epochs = 10,\n",
        "                    batch_size=128,\n",
        "                    validation_split = 0.2) "
      ],
      "execution_count": null,
      "outputs": [
        {
          "output_type": "stream",
          "text": [
            "/usr/local/lib/python3.6/dist-packages/tensorflow/python/framework/indexed_slices.py:434: UserWarning: Converting sparse IndexedSlices to a dense Tensor of unknown shape. This may consume a large amount of memory.\n",
            "  \"Converting sparse IndexedSlices to a dense Tensor of unknown shape. \"\n"
          ],
          "name": "stderr"
        },
        {
          "output_type": "stream",
          "text": [
            "Train on 20000 samples, validate on 5000 samples\n",
            "Epoch 1/10\n",
            "20000/20000 [==============================] - 23s 1ms/step - loss: 0.6314 - acc: 0.6338 - val_loss: 0.4527 - val_acc: 0.8090\n",
            "Epoch 2/10\n",
            "20000/20000 [==============================] - 21s 1ms/step - loss: 0.3972 - acc: 0.8342 - val_loss: 0.3989 - val_acc: 0.8234\n",
            "Epoch 3/10\n",
            "20000/20000 [==============================] - 21s 1ms/step - loss: 0.2817 - acc: 0.8885 - val_loss: 0.3305 - val_acc: 0.8704\n",
            "Epoch 4/10\n",
            "20000/20000 [==============================] - 21s 1ms/step - loss: 0.2216 - acc: 0.9161 - val_loss: 0.3904 - val_acc: 0.8328\n",
            "Epoch 5/10\n",
            "20000/20000 [==============================] - 21s 1ms/step - loss: 0.1649 - acc: 0.9398 - val_loss: 0.5511 - val_acc: 0.7530\n",
            "Epoch 6/10\n",
            "20000/20000 [==============================] - 21s 1ms/step - loss: 0.1116 - acc: 0.9602 - val_loss: 0.4663 - val_acc: 0.8144\n",
            "Epoch 7/10\n",
            "20000/20000 [==============================] - 21s 1ms/step - loss: 0.0736 - acc: 0.9761 - val_loss: 0.5418 - val_acc: 0.7906\n",
            "Epoch 8/10\n",
            "20000/20000 [==============================] - 21s 1ms/step - loss: 0.0490 - acc: 0.9848 - val_loss: 0.5552 - val_acc: 0.8274\n",
            "Epoch 9/10\n",
            "20000/20000 [==============================] - 21s 1ms/step - loss: 0.0329 - acc: 0.9903 - val_loss: 0.5507 - val_acc: 0.8362\n",
            "Epoch 10/10\n",
            "20000/20000 [==============================] - 21s 1ms/step - loss: 0.0290 - acc: 0.9916 - val_loss: 0.6770 - val_acc: 0.7978\n"
          ],
          "name": "stdout"
        }
      ]
    },
    {
      "cell_type": "code",
      "metadata": {
        "id": "qXjxdL07duyg",
        "colab_type": "code",
        "colab": {}
      },
      "source": [
        "import matplotlib.pyplot as plt"
      ],
      "execution_count": null,
      "outputs": []
    },
    {
      "cell_type": "code",
      "metadata": {
        "id": "gIfJ5vgYdutl",
        "colab_type": "code",
        "colab": {
          "base_uri": "https://localhost:8080/",
          "height": 514
        },
        "outputId": "98acbdfb-74fe-400f-f1bd-40c29fa986b1"
      },
      "source": [
        "acc = history.history['acc']\n",
        "val_acc = history.history['val_acc']\n",
        "loss = history.history['loss']\n",
        "val_loss = history.history['val_loss']\n",
        "\n",
        "epochs = range(1,len(acc) + 1)\n",
        "\n",
        "plt.figure()\n",
        "plt.plot(epochs, acc, 'bo',label = 'Training acc')\n",
        "plt.plot(epochs, val_acc, 'r',label = 'Validation acc')\n",
        "plt.legend()\n",
        "plt.show()\n",
        "\n",
        "plt.figure()\n",
        "plt.plot(epochs, loss, 'bo',label = 'Training loss')\n",
        "plt.plot(epochs, val_loss, 'r',label = 'Validation loss')\n",
        "plt.legend()\n",
        "plt.show()"
      ],
      "execution_count": null,
      "outputs": [
        {
          "output_type": "display_data",
          "data": {
            "image/png": "[encoded data removed]",
            "text/plain": [
              "<Figure size 432x288 with 1 Axes>"
            ]
          },
          "metadata": {
            "tags": [],
            "needs_background": "light"
          }
        },
        {
          "output_type": "display_data",
          "data": {
            "image/png": "[encoded data removed]",
            "text/plain": [
              "<Figure size 432x288 with 1 Axes>"
            ]
          },
          "metadata": {
            "tags": [],
            "needs_background": "light"
          }
        }
      ]
    },
    {
      "cell_type": "code",
      "metadata": {
        "id": "3oJMabLbmvMB",
        "colab_type": "code",
        "colab": {}
      },
      "source": [
        "## The reason of this NN underperforming is that SimpleRNN aren't at processing long sequences, such as text."
      ],
      "execution_count": null,
      "outputs": []
    },
    {
      "cell_type": "markdown",
      "metadata": {
        "id": "8dRwp5iAaMUV",
        "colab_type": "text"
      },
      "source": [
        "## LSTM RNN Model"
      ]
    },
    {
      "cell_type": "code",
      "metadata": {
        "id": "8uvIMYQW7duG",
        "colab_type": "code",
        "colab": {}
      },
      "source": [
        "## We try a LSTM RNN:"
      ],
      "execution_count": null,
      "outputs": []
    },
    {
      "cell_type": "code",
      "metadata": {
        "id": "-VEUqNzo7h1k",
        "colab_type": "code",
        "colab": {}
      },
      "source": [
        "from keras.layers import LSTM"
      ],
      "execution_count": null,
      "outputs": []
    },
    {
      "cell_type": "code",
      "metadata": {
        "id": "h7hNvfF67iMO",
        "colab_type": "code",
        "colab": {}
      },
      "source": [
        "model = Sequential()\n",
        "model.add(Embedding(max_features,32))\n",
        "model.add(LSTM(32))\n",
        "model.add(Dense(1,activation='sigmoid'))\n",
        "\n",
        "model.compile(optimizer='rmsprop',\n",
        "              loss='binary_crossentropy',\n",
        "              metrics=['acc'])"
      ],
      "execution_count": null,
      "outputs": []
    },
    {
      "cell_type": "code",
      "metadata": {
        "id": "wv7zhiyw7iWq",
        "colab_type": "code",
        "colab": {
          "base_uri": "https://localhost:8080/",
          "height": 255
        },
        "outputId": "82cc754e-90aa-40ce-fef7-95660d65649c"
      },
      "source": [
        "model.summary()"
      ],
      "execution_count": null,
      "outputs": [
        {
          "output_type": "stream",
          "text": [
            "Model: \"sequential_2\"\n",
            "_________________________________________________________________\n",
            "Layer (type)                 Output Shape              Param #   \n",
            "=================================================================\n",
            "embedding_2 (Embedding)      (None, None, 32)          320000    \n",
            "_________________________________________________________________\n",
            "lstm_1 (LSTM)                (None, 32)                8320      \n",
            "_________________________________________________________________\n",
            "dense_2 (Dense)              (None, 1)                 33        \n",
            "=================================================================\n",
            "Total params: 328,353\n",
            "Trainable params: 328,353\n",
            "Non-trainable params: 0\n",
            "_________________________________________________________________\n"
          ],
          "name": "stdout"
        }
      ]
    },
    {
      "cell_type": "code",
      "metadata": {
        "id": "DVfOvz-M7ici",
        "colab_type": "code",
        "colab": {
          "base_uri": "https://localhost:8080/",
          "height": 428
        },
        "outputId": "d3cc39ed-2d2e-4570-c31f-de0f78ff9073"
      },
      "source": [
        "history = model.fit(input_train,y_train,\n",
        "                    epochs=10,\n",
        "                    batch_size=128,\n",
        "                    validation_split=0.2)"
      ],
      "execution_count": null,
      "outputs": [
        {
          "output_type": "stream",
          "text": [
            "/usr/local/lib/python3.6/dist-packages/tensorflow/python/framework/indexed_slices.py:434: UserWarning: Converting sparse IndexedSlices to a dense Tensor of unknown shape. This may consume a large amount of memory.\n",
            "  \"Converting sparse IndexedSlices to a dense Tensor of unknown shape. \"\n"
          ],
          "name": "stderr"
        },
        {
          "output_type": "stream",
          "text": [
            "Train on 20000 samples, validate on 5000 samples\n",
            "Epoch 1/10\n",
            "20000/20000 [==============================] - 63s 3ms/step - loss: 0.5145 - acc: 0.7627 - val_loss: 0.4046 - val_acc: 0.8258\n",
            "Epoch 2/10\n",
            "20000/20000 [==============================] - 62s 3ms/step - loss: 0.2947 - acc: 0.8826 - val_loss: 0.3482 - val_acc: 0.8448\n",
            "Epoch 3/10\n",
            "20000/20000 [==============================] - 62s 3ms/step - loss: 0.2347 - acc: 0.9104 - val_loss: 0.3225 - val_acc: 0.8742\n",
            "Epoch 4/10\n",
            "20000/20000 [==============================] - 62s 3ms/step - loss: 0.2010 - acc: 0.9276 - val_loss: 0.3154 - val_acc: 0.8636\n",
            "Epoch 5/10\n",
            "20000/20000 [==============================] - 62s 3ms/step - loss: 0.1767 - acc: 0.9362 - val_loss: 0.2910 - val_acc: 0.8858\n",
            "Epoch 6/10\n",
            "20000/20000 [==============================] - 62s 3ms/step - loss: 0.1588 - acc: 0.9448 - val_loss: 0.2981 - val_acc: 0.8858\n",
            "Epoch 7/10\n",
            "20000/20000 [==============================] - 61s 3ms/step - loss: 0.1469 - acc: 0.9484 - val_loss: 0.3425 - val_acc: 0.8772\n",
            "Epoch 8/10\n",
            "20000/20000 [==============================] - 62s 3ms/step - loss: 0.1313 - acc: 0.9535 - val_loss: 0.6311 - val_acc: 0.7962\n",
            "Epoch 9/10\n",
            "20000/20000 [==============================] - 61s 3ms/step - loss: 0.1223 - acc: 0.9571 - val_loss: 0.3450 - val_acc: 0.8634\n",
            "Epoch 10/10\n",
            "20000/20000 [==============================] - 61s 3ms/step - loss: 0.1143 - acc: 0.9595 - val_loss: 0.3545 - val_acc: 0.8802\n"
          ],
          "name": "stdout"
        }
      ]
    },
    {
      "cell_type": "code",
      "metadata": {
        "id": "8MCO2PEj7ijE",
        "colab_type": "code",
        "colab": {
          "base_uri": "https://localhost:8080/",
          "height": 513
        },
        "outputId": "74334ece-bc1f-47ba-b708-7bec889aed30"
      },
      "source": [
        "acc = history.history['acc']\n",
        "val_acc = history.history['val_acc']\n",
        "loss = history.history['loss']\n",
        "val_loss = history.history['val_loss']\n",
        "\n",
        "epochs = range(1,len(acc) + 1)\n",
        "\n",
        "plt.figure()\n",
        "plt.plot(epochs, acc, 'bo',label = 'Training acc')\n",
        "plt.plot(epochs, val_acc, 'r',label = 'Validation acc')\n",
        "plt.legend()\n",
        "plt.show()\n",
        "\n",
        "plt.figure()\n",
        "plt.plot(epochs, loss, 'bo',label = 'Training loss')\n",
        "plt.plot(epochs, val_loss, 'r',label = 'Validation loss')\n",
        "plt.legend()\n",
        "plt.show()"
      ],
      "execution_count": null,
      "outputs": [
        {
          "output_type": "display_data",
          "data": {
            "image/png": "[encoded data removed]",
            "text/plain": [
              "<Figure size 432x288 with 1 Axes>"
            ]
          },
          "metadata": {
            "tags": [],
            "needs_background": "light"
          }
        },
        {
          "output_type": "display_data",
          "data": {
            "image/png": "[encoded data removed]",
            "text/plain": [
              "<Figure size 432x288 with 1 Axes>"
            ]
          },
          "metadata": {
            "tags": [],
            "needs_background": "light"
          }
        }
      ]
    },
    {
      "cell_type": "code",
      "metadata": {
        "id": "jxNt6KaV7ihi",
        "colab_type": "code",
        "colab": {}
      },
      "source": [
        ""
      ],
      "execution_count": null,
      "outputs": []
    },
    {
      "cell_type": "code",
      "metadata": {
        "id": "bt945bhs7ia1",
        "colab_type": "code",
        "colab": {}
      },
      "source": [
        ""
      ],
      "execution_count": null,
      "outputs": []
    },
    {
      "cell_type": "code",
      "metadata": {
        "id": "ORTPjeLK7iU1",
        "colab_type": "code",
        "colab": {}
      },
      "source": [
        ""
      ],
      "execution_count": null,
      "outputs": []
    },
    {
      "cell_type": "code",
      "metadata": {
        "id": "0SO4b8WY7iTk",
        "colab_type": "code",
        "colab": {}
      },
      "source": [
        ""
      ],
      "execution_count": null,
      "outputs": []
    },
    {
      "cell_type": "code",
      "metadata": {
        "id": "St215bZs7iQX",
        "colab_type": "code",
        "colab": {}
      },
      "source": [
        ""
      ],
      "execution_count": null,
      "outputs": []
    }
  ]
}