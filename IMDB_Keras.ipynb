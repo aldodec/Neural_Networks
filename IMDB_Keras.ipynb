{
  "nbformat": 4,
  "nbformat_minor": 0,
  "metadata": {
    "colab": {
      "name": "IMDB_Keras.ipynb",
      "provenance": [],
      "collapsed_sections": [],
      "machine_shape": "hm",
      "authorship_tag": "ABX9TyNbPVu8EUDboTgDsSf1dp9i",
      "include_colab_link": true
    },
    "kernelspec": {
      "name": "python3",
      "display_name": "Python 3"
    }
  },
  "cells": [
    {
      "cell_type": "markdown",
      "metadata": {
        "id": "view-in-github",
        "colab_type": "text"
      },
      "source": [
        "<a href=\"https://colab.research.google.com/github/aldodec/Neural_Networks/blob/master/IMDB_Keras.ipynb\" target=\"_parent\"><img src=\"https://colab.research.google.com/assets/colab-badge.svg\" alt=\"Open In Colab\"/></a>"
      ]
    },
    {
      "cell_type": "code",
      "metadata": {
        "id": "O323Sn_-_a85",
        "colab_type": "code",
        "outputId": "67f81f27-6c2c-4011-9103-6b37328f5f67",
        "colab": {
          "base_uri": "https://localhost:8080/",
          "height": 63
        }
      },
      "source": [
        "import numpy as np\n",
        "import matplotlib.pyplot as plt\n",
        "from tensorflow.keras import models\n",
        "from tensorflow.keras import layers\n",
        "from tensorflow.keras.datasets import imdb"
      ],
      "execution_count": 0,
      "outputs": [
        {
          "output_type": "display_data",
          "data": {
            "text/html": [
              "<p style=\"color: red;\">\n",
              "The default version of TensorFlow in Colab will switch to TensorFlow 2.x on the 27th of March, 2020.<br>\n",
              "We recommend you <a href=\"https://www.tensorflow.org/guide/migrate\" target=\"_blank\">upgrade</a> now\n",
              "or ensure your notebook will continue to use TensorFlow 1.x via the <code>%tensorflow_version 1.x</code> magic:\n",
              "<a href=\"https://colab.research.google.com/notebooks/tensorflow_version.ipynb\" target=\"_blank\">more info</a>.</p>\n"
            ],
            "text/plain": [
              "<IPython.core.display.HTML object>"
            ]
          },
          "metadata": {
            "tags": []
          }
        }
      ]
    },
    {
      "cell_type": "code",
      "metadata": {
        "id": "dJnMLP8r_mnp",
        "colab_type": "code",
        "colab": {}
      },
      "source": [
        "from tensorflow.keras.datasets import imdb"
      ],
      "execution_count": 0,
      "outputs": []
    },
    {
      "cell_type": "code",
      "metadata": {
        "id": "v6ovUjcS_7N_",
        "colab_type": "code",
        "colab": {}
      },
      "source": [
        "(train_data, train_labels), (test_data, test_labels) = imdb.load_data(num_words=10000)"
      ],
      "execution_count": 0,
      "outputs": []
    },
    {
      "cell_type": "code",
      "metadata": {
        "id": "NwH6n4xnC9So",
        "colab_type": "code",
        "colab": {}
      },
      "source": [
        "def vectorize_sequences(sequences,dimension = 10000):\n",
        "  results = np.zeros((len(sequences),dimension))\n",
        "  for i, sequence in enumerate(sequences):\n",
        "    results[i, sequence] = 1.\n",
        "  return results"
      ],
      "execution_count": 0,
      "outputs": []
    },
    {
      "cell_type": "code",
      "metadata": {
        "id": "aHOtiK2LC9Z3",
        "colab_type": "code",
        "colab": {}
      },
      "source": [
        "X_train =vectorize_sequences(train_data)\n",
        "X_test =vectorize_sequences(test_data)\n",
        "\n",
        "y_train = np.asarray(train_labels).astype('float32')\n",
        "y_test = np.asarray(test_labels).astype('float32')"
      ],
      "execution_count": 0,
      "outputs": []
    },
    {
      "cell_type": "code",
      "metadata": {
        "id": "W71Mdg_y-F_W",
        "colab_type": "code",
        "colab": {}
      },
      "source": [
        "######## Building validation set"
      ],
      "execution_count": 0,
      "outputs": []
    },
    {
      "cell_type": "code",
      "metadata": {
        "id": "FRJlsS9C-GMk",
        "colab_type": "code",
        "colab": {}
      },
      "source": [
        "X_val = X_train[:10000]\n",
        "partial_X_train = X_train[10000:]\n",
        "\n",
        "y_val = y_train[:10000]\n",
        "partial_y_train = y_train[10000:]"
      ],
      "execution_count": 0,
      "outputs": []
    },
    {
      "cell_type": "code",
      "metadata": {
        "id": "B5BMkGyzJhyF",
        "colab_type": "code",
        "colab": {}
      },
      "source": [
        "## Building the model"
      ],
      "execution_count": 0,
      "outputs": []
    },
    {
      "cell_type": "code",
      "metadata": {
        "id": "rY1RXohEPyZz",
        "colab_type": "code",
        "outputId": "c633695c-db83-471b-a458-e8a1d4671f86",
        "colab": {
          "base_uri": "https://localhost:8080/",
          "height": 836
        }
      },
      "source": [
        "model = models.Sequential()\n",
        "\n",
        "#model.add(layers.Dense(16,activation='relu',input_shape = (10000,)))\n",
        "model.add(layers.Dense(16,activation='relu'))\n",
        "model.add(layers.Dense(16,activation='relu'))\n",
        "model.add(layers.Dense(1,activation='sigmoid'))\n",
        "\n",
        "model.compile(optimizer='rmsprop',loss='binary_crossentropy',metrics=['acc'])\n",
        "history = model.fit(partial_X_train,partial_y_train,epochs=20,batch_size=512,validation_data=(X_val,y_val))"
      ],
      "execution_count": 0,
      "outputs": [
        {
          "output_type": "stream",
          "text": [
            "WARNING:tensorflow:From /tensorflow-1.15.0/python3.6/tensorflow_core/python/ops/resource_variable_ops.py:1630: calling BaseResourceVariable.__init__ (from tensorflow.python.ops.resource_variable_ops) with constraint is deprecated and will be removed in a future version.\n",
            "Instructions for updating:\n",
            "If using Keras pass *_constraint arguments to layers.\n",
            "WARNING:tensorflow:From /tensorflow-1.15.0/python3.6/tensorflow_core/python/ops/nn_impl.py:183: where (from tensorflow.python.ops.array_ops) is deprecated and will be removed in a future version.\n",
            "Instructions for updating:\n",
            "Use tf.where in 2.0, which has the same broadcast rule as np.where\n",
            "Train on 15000 samples, validate on 10000 samples\n",
            "Epoch 1/20\n",
            "15000/15000 [==============================] - 1s 99us/sample - loss: 0.5577 - acc: 0.7827 - val_loss: 0.4341 - val_acc: 0.8478\n",
            "Epoch 2/20\n",
            "15000/15000 [==============================] - 1s 78us/sample - loss: 0.3444 - acc: 0.8957 - val_loss: 0.3289 - val_acc: 0.8817\n",
            "Epoch 3/20\n",
            "15000/15000 [==============================] - 1s 79us/sample - loss: 0.2532 - acc: 0.9202 - val_loss: 0.2879 - val_acc: 0.8909\n",
            "Epoch 4/20\n",
            "15000/15000 [==============================] - 1s 78us/sample - loss: 0.2015 - acc: 0.9368 - val_loss: 0.2799 - val_acc: 0.8875\n",
            "Epoch 5/20\n",
            "15000/15000 [==============================] - 1s 79us/sample - loss: 0.1644 - acc: 0.9484 - val_loss: 0.2890 - val_acc: 0.8838\n",
            "Epoch 6/20\n",
            "15000/15000 [==============================] - 1s 79us/sample - loss: 0.1372 - acc: 0.9577 - val_loss: 0.2785 - val_acc: 0.8884\n",
            "Epoch 7/20\n",
            "15000/15000 [==============================] - 1s 78us/sample - loss: 0.1168 - acc: 0.9650 - val_loss: 0.2891 - val_acc: 0.8869\n",
            "Epoch 8/20\n",
            "15000/15000 [==============================] - 1s 79us/sample - loss: 0.0966 - acc: 0.9731 - val_loss: 0.3058 - val_acc: 0.8841\n",
            "Epoch 9/20\n",
            "15000/15000 [==============================] - 1s 78us/sample - loss: 0.0808 - acc: 0.9781 - val_loss: 0.3317 - val_acc: 0.8817\n",
            "Epoch 10/20\n",
            "15000/15000 [==============================] - 1s 78us/sample - loss: 0.0703 - acc: 0.9825 - val_loss: 0.3443 - val_acc: 0.8782\n",
            "Epoch 11/20\n",
            "15000/15000 [==============================] - 1s 77us/sample - loss: 0.0570 - acc: 0.9865 - val_loss: 0.3956 - val_acc: 0.8696\n",
            "Epoch 12/20\n",
            "15000/15000 [==============================] - 1s 78us/sample - loss: 0.0474 - acc: 0.9881 - val_loss: 0.3848 - val_acc: 0.8780\n",
            "Epoch 13/20\n",
            "15000/15000 [==============================] - 1s 77us/sample - loss: 0.0405 - acc: 0.9911 - val_loss: 0.4103 - val_acc: 0.8781\n",
            "Epoch 14/20\n",
            "15000/15000 [==============================] - 1s 78us/sample - loss: 0.0333 - acc: 0.9933 - val_loss: 0.4385 - val_acc: 0.8728\n",
            "Epoch 15/20\n",
            "15000/15000 [==============================] - 1s 77us/sample - loss: 0.0271 - acc: 0.9957 - val_loss: 0.4628 - val_acc: 0.8756\n",
            "Epoch 16/20\n",
            "15000/15000 [==============================] - 1s 77us/sample - loss: 0.0216 - acc: 0.9963 - val_loss: 0.4935 - val_acc: 0.8711\n",
            "Epoch 17/20\n",
            "15000/15000 [==============================] - 1s 78us/sample - loss: 0.0161 - acc: 0.9982 - val_loss: 0.5295 - val_acc: 0.8679\n",
            "Epoch 18/20\n",
            "15000/15000 [==============================] - 1s 77us/sample - loss: 0.0151 - acc: 0.9977 - val_loss: 0.5609 - val_acc: 0.8673\n",
            "Epoch 19/20\n",
            "15000/15000 [==============================] - 1s 79us/sample - loss: 0.0100 - acc: 0.9993 - val_loss: 0.5994 - val_acc: 0.8686\n",
            "Epoch 20/20\n",
            "15000/15000 [==============================] - 1s 78us/sample - loss: 0.0079 - acc: 0.9995 - val_loss: 0.6215 - val_acc: 0.8671\n"
          ],
          "name": "stdout"
        }
      ]
    },
    {
      "cell_type": "code",
      "metadata": {
        "id": "3yXWruAJNRkY",
        "colab_type": "code",
        "colab": {}
      },
      "source": [
        "### Plotting the loss"
      ],
      "execution_count": 0,
      "outputs": []
    },
    {
      "cell_type": "code",
      "metadata": {
        "id": "oMZwbKf3Ld7E",
        "colab_type": "code",
        "outputId": "25dc2a25-88a7-409c-f647-90ccf28dd178",
        "colab": {
          "base_uri": "https://localhost:8080/",
          "height": 683
        }
      },
      "source": [
        "history_dict = history.history\n",
        "\n",
        "loss_values = history_dict['loss']\n",
        "val_loss_values = history_dict['val_loss']\n",
        "\n",
        "acc_values = history_dict['acc']\n",
        "val_acc_values = history_dict['val_acc']\n",
        "\n",
        "epochs = range(1,len(history_dict['acc'])+1)\n",
        "\n",
        "plt.figure(figsize=(10,5))\n",
        "plt.plot(epochs,loss_values,'bo',label = 'Training Loss')\n",
        "plt.plot(epochs,val_loss_values,'b',label='Validation Loss')\n",
        "plt.title('Training and Valiation Loss')\n",
        "plt.xlabel('Epochs')\n",
        "plt.ylabel('Loss')\n",
        "plt.legend()\n",
        "plt.show()\n",
        "\n",
        "plt.figure(figsize=(10,5))\n",
        "plt.plot(epochs,acc_values,'bo',label = 'Training Accuracy')\n",
        "plt.plot(epochs,val_acc_values,'b',label='Validation Accuracy')\n",
        "plt.title('Training and Valiation Accuracy')\n",
        "plt.xlabel('Epochs')\n",
        "plt.ylabel('Accuracy')\n",
        "plt.legend()\n",
        "plt.show()"
      ],
      "execution_count": 0,
      "outputs": [
        {
          "output_type": "display_data",
          "data": {
            "image/png": "[encoded data removed]",
            "text/plain": [
              "<Figure size 720x360 with 1 Axes>"
            ]
          },
          "metadata": {
            "tags": []
          }
        },
        {
          "output_type": "display_data",
          "data": {
            "image/png": "[encoded data removed]",
            "text/plain": [
              "<Figure size 720x360 with 1 Axes>"
            ]
          },
          "metadata": {
            "tags": []
          }
        }
      ]
    },
    {
      "cell_type": "code",
      "metadata": {
        "id": "jY-33o2nP1xn",
        "colab_type": "code",
        "colab": {}
      },
      "source": [
        "### Train a new network for fewer epochs"
      ],
      "execution_count": 0,
      "outputs": []
    },
    {
      "cell_type": "code",
      "metadata": {
        "id": "opHmrZt6RjqK",
        "colab_type": "code",
        "outputId": "dc25781a-3a15-4d94-fe2a-8a22399176c9",
        "colab": {
          "base_uri": "https://localhost:8080/",
          "height": 232
        }
      },
      "source": [
        "model = models.Sequential()\n",
        "model.add(layers.Dense(16,activation='relu'))\n",
        "model.add(layers.Dense(16,activation='relu'))\n",
        "model.add(layers.Dense(1,activation='sigmoid'))\n",
        "\n",
        "model.compile(optimizer='rmsprop',\n",
        "              loss='binary_crossentropy',\n",
        "              metrics=['acc'])\n",
        "\n",
        "model.fit(partial_X_train,\n",
        "          partial_y_train,\n",
        "          epochs=4,\n",
        "          batch_size=512,\n",
        "          validation_data=(X_val,y_val))\n",
        "\n",
        "results = model.evaluate(X_test, y_test )"
      ],
      "execution_count": 0,
      "outputs": [
        {
          "output_type": "error",
          "ename": "NameError",
          "evalue": "ignored",
          "traceback": [
            "\u001b[0;31m---------------------------------------------------------------------------\u001b[0m",
            "\u001b[0;31mNameError\u001b[0m                                 Traceback (most recent call last)",
            "\u001b[0;32m<ipython-input-1-90e8e2da5b9a>\u001b[0m in \u001b[0;36m<module>\u001b[0;34m()\u001b[0m\n\u001b[0;32m----> 1\u001b[0;31m \u001b[0mmodel\u001b[0m \u001b[0;34m=\u001b[0m \u001b[0mmodels\u001b[0m\u001b[0;34m.\u001b[0m\u001b[0mSequential\u001b[0m\u001b[0;34m(\u001b[0m\u001b[0;34m)\u001b[0m\u001b[0;34m\u001b[0m\u001b[0;34m\u001b[0m\u001b[0m\n\u001b[0m\u001b[1;32m      2\u001b[0m \u001b[0mmodel\u001b[0m\u001b[0;34m.\u001b[0m\u001b[0madd\u001b[0m\u001b[0;34m(\u001b[0m\u001b[0mlayers\u001b[0m\u001b[0;34m.\u001b[0m\u001b[0mDense\u001b[0m\u001b[0;34m(\u001b[0m\u001b[0;36m16\u001b[0m\u001b[0;34m,\u001b[0m\u001b[0mactivation\u001b[0m\u001b[0;34m=\u001b[0m\u001b[0;34m'relu'\u001b[0m\u001b[0;34m)\u001b[0m\u001b[0;34m)\u001b[0m\u001b[0;34m\u001b[0m\u001b[0;34m\u001b[0m\u001b[0m\n\u001b[1;32m      3\u001b[0m \u001b[0mmodel\u001b[0m\u001b[0;34m.\u001b[0m\u001b[0madd\u001b[0m\u001b[0;34m(\u001b[0m\u001b[0mlayers\u001b[0m\u001b[0;34m.\u001b[0m\u001b[0mDense\u001b[0m\u001b[0;34m(\u001b[0m\u001b[0;36m16\u001b[0m\u001b[0;34m,\u001b[0m\u001b[0mactivation\u001b[0m\u001b[0;34m=\u001b[0m\u001b[0;34m'relu'\u001b[0m\u001b[0;34m)\u001b[0m\u001b[0;34m)\u001b[0m\u001b[0;34m\u001b[0m\u001b[0;34m\u001b[0m\u001b[0m\n\u001b[1;32m      4\u001b[0m \u001b[0mmodel\u001b[0m\u001b[0;34m.\u001b[0m\u001b[0madd\u001b[0m\u001b[0;34m(\u001b[0m\u001b[0mlayers\u001b[0m\u001b[0;34m.\u001b[0m\u001b[0mDense\u001b[0m\u001b[0;34m(\u001b[0m\u001b[0;36m1\u001b[0m\u001b[0;34m,\u001b[0m\u001b[0mactivation\u001b[0m\u001b[0;34m=\u001b[0m\u001b[0;34m'sigmoid'\u001b[0m\u001b[0;34m)\u001b[0m\u001b[0;34m)\u001b[0m\u001b[0;34m\u001b[0m\u001b[0;34m\u001b[0m\u001b[0m\n\u001b[1;32m      5\u001b[0m \u001b[0;34m\u001b[0m\u001b[0m\n",
            "\u001b[0;31mNameError\u001b[0m: name 'models' is not defined"
          ]
        }
      ]
    },
    {
      "cell_type": "code",
      "metadata": {
        "id": "mwdpcTzlTP2O",
        "colab_type": "code",
        "outputId": "5e37509e-37ed-4c13-8a66-a0fdd449429a",
        "colab": {
          "base_uri": "https://localhost:8080/",
          "height": 34
        }
      },
      "source": [
        "results ## accuracy is close to 90%"
      ],
      "execution_count": 0,
      "outputs": [
        {
          "output_type": "execute_result",
          "data": {
            "text/plain": [
              "[0.30131962613582614, 0.87788]"
            ]
          },
          "metadata": {
            "tags": []
          },
          "execution_count": 13
        }
      ]
    },
    {
      "cell_type": "code",
      "metadata": {
        "id": "120dRB4KTxGf",
        "colab_type": "code",
        "colab": {}
      },
      "source": [
        "## predictions"
      ],
      "execution_count": 0,
      "outputs": []
    },
    {
      "cell_type": "code",
      "metadata": {
        "id": "56v-FPENifYe",
        "colab_type": "code",
        "colab": {}
      },
      "source": [
        "predictions = model.predict(X_test)"
      ],
      "execution_count": 0,
      "outputs": []
    },
    {
      "cell_type": "code",
      "metadata": {
        "id": "2eiYSUGgih0V",
        "colab_type": "code",
        "outputId": "1b0e89d2-280f-4e3a-f960-2e0597b9b27a",
        "colab": {
          "base_uri": "https://localhost:8080/",
          "height": 136
        }
      },
      "source": [
        "predictions ## We notet that the model is quite unsure about some values"
      ],
      "execution_count": 0,
      "outputs": [
        {
          "output_type": "execute_result",
          "data": {
            "text/plain": [
              "array([[0.24131685],\n",
              "       [0.99725616],\n",
              "       [0.7154983 ],\n",
              "       ...,\n",
              "       [0.07417205],\n",
              "       [0.10795751],\n",
              "       [0.4952873 ]], dtype=float32)"
            ]
          },
          "metadata": {
            "tags": []
          },
          "execution_count": 15
        }
      ]
    },
    {
      "cell_type": "code",
      "metadata": {
        "id": "4N_TdHjwgFsJ",
        "colab_type": "code",
        "colab": {}
      },
      "source": [
        "###### We add regularizers"
      ],
      "execution_count": 0,
      "outputs": []
    },
    {
      "cell_type": "code",
      "metadata": {
        "id": "7uVR-VUxgF_a",
        "colab_type": "code",
        "colab": {}
      },
      "source": [
        "from tensorflow.keras.models import Sequential\n",
        "from tensorflow.keras.layers import Dense\n",
        "from tensorflow.keras import regularizers"
      ],
      "execution_count": 0,
      "outputs": []
    },
    {
      "cell_type": "code",
      "metadata": {
        "id": "nQ0PYv5xgGLM",
        "colab_type": "code",
        "outputId": "829e6bc5-51a4-4b60-e57a-ca7cda9ebcf7",
        "colab": {
          "base_uri": "https://localhost:8080/",
          "height": 836
        }
      },
      "source": [
        "model = Sequential()\n",
        "model.add(Dense(16,kernel_regularizer=regularizers.l2(0.001),\n",
        "                activation = 'relu'))\n",
        "model.add(Dense(16,kernel_regularizer=regularizers.l2(0.001),\n",
        "                activation = 'relu'))\n",
        "model.add(Dense(1, activation = 'sigmoid'))\n",
        "\n",
        "model.compile(optimizer='rmsprop',loss='binary_crossentropy',metrics=['acc'])\n",
        "history = model.fit(partial_X_train,partial_y_train,epochs=20,batch_size=512,validation_data=(X_val,y_val))"
      ],
      "execution_count": 0,
      "outputs": [
        {
          "output_type": "stream",
          "text": [
            "WARNING:tensorflow:From /tensorflow-1.15.0/python3.6/tensorflow_core/python/ops/resource_variable_ops.py:1630: calling BaseResourceVariable.__init__ (from tensorflow.python.ops.resource_variable_ops) with constraint is deprecated and will be removed in a future version.\n",
            "Instructions for updating:\n",
            "If using Keras pass *_constraint arguments to layers.\n",
            "WARNING:tensorflow:From /tensorflow-1.15.0/python3.6/tensorflow_core/python/ops/nn_impl.py:183: where (from tensorflow.python.ops.array_ops) is deprecated and will be removed in a future version.\n",
            "Instructions for updating:\n",
            "Use tf.where in 2.0, which has the same broadcast rule as np.where\n",
            "Train on 15000 samples, validate on 10000 samples\n",
            "Epoch 1/20\n",
            "15000/15000 [==============================] - 1s 97us/sample - loss: 0.5650 - acc: 0.7898 - val_loss: 0.4482 - val_acc: 0.8587\n",
            "Epoch 2/20\n",
            "15000/15000 [==============================] - 1s 81us/sample - loss: 0.3705 - acc: 0.8959 - val_loss: 0.3672 - val_acc: 0.8788\n",
            "Epoch 3/20\n",
            "15000/15000 [==============================] - 1s 80us/sample - loss: 0.2989 - acc: 0.9154 - val_loss: 0.3370 - val_acc: 0.8883\n",
            "Epoch 4/20\n",
            "15000/15000 [==============================] - 1s 82us/sample - loss: 0.2627 - acc: 0.9289 - val_loss: 0.3321 - val_acc: 0.8883\n",
            "Epoch 5/20\n",
            "15000/15000 [==============================] - 1s 81us/sample - loss: 0.2351 - acc: 0.9403 - val_loss: 0.3323 - val_acc: 0.8858\n",
            "Epoch 6/20\n",
            "15000/15000 [==============================] - 1s 80us/sample - loss: 0.2191 - acc: 0.9481 - val_loss: 0.3415 - val_acc: 0.8857\n",
            "Epoch 7/20\n",
            "15000/15000 [==============================] - 1s 81us/sample - loss: 0.2146 - acc: 0.9474 - val_loss: 0.3436 - val_acc: 0.8834\n",
            "Epoch 8/20\n",
            "15000/15000 [==============================] - 1s 82us/sample - loss: 0.1999 - acc: 0.9557 - val_loss: 0.3514 - val_acc: 0.8820\n",
            "Epoch 9/20\n",
            "15000/15000 [==============================] - 1s 82us/sample - loss: 0.1918 - acc: 0.9561 - val_loss: 0.3665 - val_acc: 0.8820\n",
            "Epoch 10/20\n",
            "15000/15000 [==============================] - 1s 82us/sample - loss: 0.1875 - acc: 0.9581 - val_loss: 0.3806 - val_acc: 0.8742\n",
            "Epoch 11/20\n",
            "15000/15000 [==============================] - 1s 83us/sample - loss: 0.1809 - acc: 0.9633 - val_loss: 0.3841 - val_acc: 0.8735\n",
            "Epoch 12/20\n",
            "15000/15000 [==============================] - 1s 83us/sample - loss: 0.1736 - acc: 0.9641 - val_loss: 0.4027 - val_acc: 0.8685\n",
            "Epoch 13/20\n",
            "15000/15000 [==============================] - 1s 83us/sample - loss: 0.1740 - acc: 0.9631 - val_loss: 0.3888 - val_acc: 0.8787\n",
            "Epoch 14/20\n",
            "15000/15000 [==============================] - 1s 85us/sample - loss: 0.1668 - acc: 0.9668 - val_loss: 0.3962 - val_acc: 0.8767\n",
            "Epoch 15/20\n",
            "15000/15000 [==============================] - 1s 83us/sample - loss: 0.1665 - acc: 0.9655 - val_loss: 0.4045 - val_acc: 0.8770\n",
            "Epoch 16/20\n",
            "15000/15000 [==============================] - 1s 85us/sample - loss: 0.1598 - acc: 0.9691 - val_loss: 0.4238 - val_acc: 0.8717\n",
            "Epoch 17/20\n",
            "15000/15000 [==============================] - 1s 83us/sample - loss: 0.1576 - acc: 0.9704 - val_loss: 0.4520 - val_acc: 0.8641\n",
            "Epoch 18/20\n",
            "15000/15000 [==============================] - 1s 84us/sample - loss: 0.1584 - acc: 0.9690 - val_loss: 0.4309 - val_acc: 0.8694\n",
            "Epoch 19/20\n",
            "15000/15000 [==============================] - 1s 86us/sample - loss: 0.1478 - acc: 0.9743 - val_loss: 0.4716 - val_acc: 0.8634\n",
            "Epoch 20/20\n",
            "15000/15000 [==============================] - 1s 85us/sample - loss: 0.1559 - acc: 0.9704 - val_loss: 0.4406 - val_acc: 0.8709\n"
          ],
          "name": "stdout"
        }
      ]
    },
    {
      "cell_type": "code",
      "metadata": {
        "id": "Pj12kAQTgGV_",
        "colab_type": "code",
        "outputId": "951489db-9d0e-4ab5-d590-1bfe232a1131",
        "colab": {
          "base_uri": "https://localhost:8080/",
          "height": 683
        }
      },
      "source": [
        "import matplotlib.pyplot as plt\n",
        "\n",
        "\n",
        "history_dict = history.history\n",
        "loss_values = history_dict['loss']\n",
        "val_loss_values = history_dict['val_loss']\n",
        "\n",
        "epochs = range(1,len(history_dict['acc'])+1)\n",
        "\n",
        "plt.figure(figsize=(10,5))\n",
        "plt.plot(epochs,loss_values,'bo',label = 'Training Loss')\n",
        "plt.plot(epochs,val_loss_values,'b',label='Validation Loss')\n",
        "plt.title('Training and Valiation Loss')\n",
        "plt.xlabel('Epochs')\n",
        "plt.ylabel('Loss')\n",
        "plt.legend()\n",
        "plt.show()\n",
        "\n",
        "acc_values = history_dict['acc']\n",
        "val_acc_values = history_dict['val_acc']\n",
        "\n",
        "plt.figure(figsize=(10,5))\n",
        "plt.plot(epochs,acc_values,'bo',label = 'Training Accuracy')\n",
        "plt.plot(epochs,val_acc_values,'b',label='Validation Accuracy')\n",
        "plt.title('Training and Valiation Accuracy')\n",
        "plt.xlabel('Epochs')\n",
        "plt.ylabel('Accuracy')\n",
        "plt.legend()\n",
        "plt.show()"
      ],
      "execution_count": 0,
      "outputs": [
        {
          "output_type": "display_data",
          "data": {
            "image/png": "[encoded data removed]",
            "text/plain": [
              "<Figure size 720x360 with 1 Axes>"
            ]
          },
          "metadata": {
            "tags": []
          }
        },
        {
          "output_type": "display_data",
          "data": {
            "image/png": "[encoded data removed]",
            "text/plain": [
              "<Figure size 720x360 with 1 Axes>"
            ]
          },
          "metadata": {
            "tags": []
          }
        }
      ]
    },
    {
      "cell_type": "code",
      "metadata": {
        "id": "TcLlsA9SgGhR",
        "colab_type": "code",
        "colab": {}
      },
      "source": [
        ""
      ],
      "execution_count": 0,
      "outputs": []
    },
    {
      "cell_type": "code",
      "metadata": {
        "id": "2ILscIgcgGsY",
        "colab_type": "code",
        "colab": {}
      },
      "source": [
        ""
      ],
      "execution_count": 0,
      "outputs": []
    },
    {
      "cell_type": "code",
      "metadata": {
        "id": "7PV5Of9jgG2N",
        "colab_type": "code",
        "colab": {}
      },
      "source": [
        ""
      ],
      "execution_count": 0,
      "outputs": []
    },
    {
      "cell_type": "code",
      "metadata": {
        "id": "I1-lZOoygHA1",
        "colab_type": "code",
        "colab": {}
      },
      "source": [
        ""
      ],
      "execution_count": 0,
      "outputs": []
    },
    {
      "cell_type": "code",
      "metadata": {
        "id": "C0lPWECTgHLl",
        "colab_type": "code",
        "colab": {}
      },
      "source": [
        ""
      ],
      "execution_count": 0,
      "outputs": []
    },
    {
      "cell_type": "code",
      "metadata": {
        "id": "0DN8lyydgHVg",
        "colab_type": "code",
        "colab": {}
      },
      "source": [
        ""
      ],
      "execution_count": 0,
      "outputs": []
    },
    {
      "cell_type": "code",
      "metadata": {
        "id": "axrpwN92gHeh",
        "colab_type": "code",
        "colab": {}
      },
      "source": [
        ""
      ],
      "execution_count": 0,
      "outputs": []
    },
    {
      "cell_type": "code",
      "metadata": {
        "id": "N2s2BoAjgHoz",
        "colab_type": "code",
        "colab": {}
      },
      "source": [
        "##########################################################"
      ],
      "execution_count": 0,
      "outputs": []
    },
    {
      "cell_type": "code",
      "metadata": {
        "id": "bPgZwYVKmNs6",
        "colab_type": "code",
        "colab": {}
      },
      "source": [
        "#### We try chaning the hyperparameters"
      ],
      "execution_count": 0,
      "outputs": []
    },
    {
      "cell_type": "code",
      "metadata": {
        "id": "obHojglsoMPx",
        "colab_type": "code",
        "colab": {}
      },
      "source": [
        "## 1 more hidden layer"
      ],
      "execution_count": 0,
      "outputs": []
    },
    {
      "cell_type": "code",
      "metadata": {
        "id": "ZSB0xOOZoD4f",
        "colab_type": "code",
        "outputId": "d1dae2d4-7295-424e-9bbd-5c7aa68730ec",
        "colab": {
          "base_uri": "https://localhost:8080/",
          "height": 187
        }
      },
      "source": [
        "model = models.Sequential()\n",
        "model.add(layers.Dense(16,activation='relu'))\n",
        "model.add(layers.Dense(16,activation='relu'))\n",
        "model.add(layers.Dense(16,activation='relu'))\n",
        "model.add(layers.Dense(1,activation='sigmoid'))\n",
        "\n",
        "model.compile(optimizer='rmsprop',\n",
        "              loss='binary_crossentropy',\n",
        "              metrics=['acc'])\n",
        "\n",
        "model.fit(partial_X_train,\n",
        "          partial_y_train,\n",
        "          epochs=4,\n",
        "          batch_size=512,\n",
        "          validation_data=(X_val,y_val))\n",
        "\n",
        "results = model.evaluate(X_test, y_test )"
      ],
      "execution_count": 0,
      "outputs": [
        {
          "output_type": "stream",
          "text": [
            "Train on 15000 samples, validate on 10000 samples\n",
            "Epoch 1/4\n",
            "15000/15000 [==============================] - 2s 125us/sample - loss: 0.5986 - acc: 0.6531 - val_loss: 0.5355 - val_acc: 0.7416\n",
            "Epoch 2/4\n",
            "15000/15000 [==============================] - 1s 81us/sample - loss: 0.4650 - acc: 0.8571 - val_loss: 0.4393 - val_acc: 0.8491\n",
            "Epoch 3/4\n",
            "15000/15000 [==============================] - 1s 81us/sample - loss: 0.3286 - acc: 0.9174 - val_loss: 0.3467 - val_acc: 0.8690\n",
            "Epoch 4/4\n",
            "15000/15000 [==============================] - 1s 82us/sample - loss: 0.2196 - acc: 0.9375 - val_loss: 0.2884 - val_acc: 0.8864\n",
            "25000/25000 [==============================] - 2s 65us/sample - loss: 0.3056 - acc: 0.8796\n"
          ],
          "name": "stdout"
        }
      ]
    },
    {
      "cell_type": "code",
      "metadata": {
        "id": "ieEg8lW1oSl5",
        "colab_type": "code",
        "outputId": "114c9c0e-ac91-4fdf-fc9b-e5c8324c80d9",
        "colab": {
          "base_uri": "https://localhost:8080/",
          "height": 34
        }
      },
      "source": [
        "results"
      ],
      "execution_count": 0,
      "outputs": [
        {
          "output_type": "execute_result",
          "data": {
            "text/plain": [
              "[0.3056329977893829, 0.87964]"
            ]
          },
          "metadata": {
            "tags": []
          },
          "execution_count": 64
        }
      ]
    },
    {
      "cell_type": "code",
      "metadata": {
        "id": "8_rzvckaoW5v",
        "colab_type": "code",
        "colab": {}
      },
      "source": [
        "## 1 less hidden layer"
      ],
      "execution_count": 0,
      "outputs": []
    },
    {
      "cell_type": "code",
      "metadata": {
        "id": "FBy7jugPodBH",
        "colab_type": "code",
        "outputId": "598a3ff2-7f0e-4771-f005-1f443da62435",
        "colab": {
          "base_uri": "https://localhost:8080/",
          "height": 187
        }
      },
      "source": [
        "model = models.Sequential()\n",
        "model.add(layers.Dense(16,activation='relu'))\n",
        "model.add(layers.Dense(1,activation='sigmoid'))\n",
        "\n",
        "model.compile(optimizer='rmsprop',\n",
        "              loss='binary_crossentropy',\n",
        "              metrics=['acc'])\n",
        "\n",
        "model.fit(partial_X_train,\n",
        "          partial_y_train,\n",
        "          epochs=4,\n",
        "          batch_size=512,\n",
        "          validation_data=(X_val,y_val))\n",
        "\n",
        "results = model.evaluate(X_test, y_test )"
      ],
      "execution_count": 0,
      "outputs": [
        {
          "output_type": "stream",
          "text": [
            "Train on 15000 samples, validate on 10000 samples\n",
            "Epoch 1/4\n",
            "15000/15000 [==============================] - 1s 100us/sample - loss: 0.5182 - acc: 0.7952 - val_loss: 0.4091 - val_acc: 0.8667\n",
            "Epoch 2/4\n",
            "15000/15000 [==============================] - 1s 80us/sample - loss: 0.3373 - acc: 0.8991 - val_loss: 0.3316 - val_acc: 0.8839\n",
            "Epoch 3/4\n",
            "15000/15000 [==============================] - 1s 81us/sample - loss: 0.2607 - acc: 0.9207 - val_loss: 0.2966 - val_acc: 0.8908\n",
            "Epoch 4/4\n",
            "15000/15000 [==============================] - 1s 81us/sample - loss: 0.2135 - acc: 0.9361 - val_loss: 0.2811 - val_acc: 0.8909\n",
            "25000/25000 [==============================] - 2s 61us/sample - loss: 0.2966 - acc: 0.8851\n"
          ],
          "name": "stdout"
        }
      ]
    },
    {
      "cell_type": "code",
      "metadata": {
        "id": "v8JQx9TPogV9",
        "colab_type": "code",
        "outputId": "af4b08be-90f2-4463-baa5-e6ec3b263987",
        "colab": {
          "base_uri": "https://localhost:8080/",
          "height": 34
        }
      },
      "source": [
        "results"
      ],
      "execution_count": 0,
      "outputs": [
        {
          "output_type": "execute_result",
          "data": {
            "text/plain": [
              "[0.2965715758895874, 0.88508]"
            ]
          },
          "metadata": {
            "tags": []
          },
          "execution_count": 67
        }
      ]
    },
    {
      "cell_type": "code",
      "metadata": {
        "id": "3pcgFRtYojL1",
        "colab_type": "code",
        "colab": {}
      },
      "source": [
        "## More units"
      ],
      "execution_count": 0,
      "outputs": []
    },
    {
      "cell_type": "code",
      "metadata": {
        "id": "rCPGe-AZopKP",
        "colab_type": "code",
        "outputId": "4728a73f-ce49-4378-e6e9-6d857f19034f",
        "colab": {
          "base_uri": "https://localhost:8080/",
          "height": 204
        }
      },
      "source": [
        "model = models.Sequential()\n",
        "model.add(layers.Dense(16,activation='relu'))\n",
        "model.add(layers.Dense(32,activation='relu'))\n",
        "model.add(layers.Dense(1,activation='sigmoid'))\n",
        "\n",
        "model.compile(optimizer='rmsprop',\n",
        "              loss='binary_crossentropy',\n",
        "              metrics=['acc'])\n",
        "\n",
        "model.fit(partial_X_train,\n",
        "          partial_y_train,\n",
        "          epochs=4,\n",
        "          batch_size=512,\n",
        "          validation_data=(X_val,y_val))\n",
        "\n",
        "results = model.evaluate(X_test, y_test )\n",
        "results"
      ],
      "execution_count": 0,
      "outputs": [
        {
          "output_type": "stream",
          "text": [
            "Train on 15000 samples, validate on 10000 samples\n",
            "Epoch 1/4\n",
            "15000/15000 [==============================] - 2s 105us/sample - loss: 0.5071 - acc: 0.7911 - val_loss: 0.3773 - val_acc: 0.8748\n",
            "Epoch 2/4\n",
            "15000/15000 [==============================] - 1s 83us/sample - loss: 0.2999 - acc: 0.9023 - val_loss: 0.3172 - val_acc: 0.8713\n",
            "Epoch 3/4\n",
            "15000/15000 [==============================] - 1s 82us/sample - loss: 0.2195 - acc: 0.9259 - val_loss: 0.2777 - val_acc: 0.8901\n",
            "Epoch 4/4\n",
            "15000/15000 [==============================] - 1s 82us/sample - loss: 0.1722 - acc: 0.9413 - val_loss: 0.2904 - val_acc: 0.8862\n",
            "25000/25000 [==============================] - 2s 65us/sample - loss: 0.3152 - acc: 0.8728\n"
          ],
          "name": "stdout"
        },
        {
          "output_type": "execute_result",
          "data": {
            "text/plain": [
              "[0.31524661536216736, 0.87284]"
            ]
          },
          "metadata": {
            "tags": []
          },
          "execution_count": 70
        }
      ]
    },
    {
      "cell_type": "code",
      "metadata": {
        "id": "C3Ca0d2Voz_K",
        "colab_type": "code",
        "outputId": "cb132b11-d128-4fa3-8d40-3a5b9948d4c4",
        "colab": {
          "base_uri": "https://localhost:8080/",
          "height": 204
        }
      },
      "source": [
        "model = models.Sequential()\n",
        "model.add(layers.Dense(16,activation='relu'))\n",
        "model.add(layers.Dense(64,activation='relu'))\n",
        "model.add(layers.Dense(1,activation='sigmoid'))\n",
        "\n",
        "model.compile(optimizer='rmsprop',\n",
        "              loss='binary_crossentropy',\n",
        "              metrics=['acc'])\n",
        "\n",
        "model.fit(partial_X_train,\n",
        "          partial_y_train,\n",
        "          epochs=4,\n",
        "          batch_size=512,\n",
        "          validation_data=(X_val,y_val))\n",
        "\n",
        "results = model.evaluate(X_test, y_test )\n",
        "results"
      ],
      "execution_count": 0,
      "outputs": [
        {
          "output_type": "stream",
          "text": [
            "Train on 15000 samples, validate on 10000 samples\n",
            "Epoch 1/4\n",
            "15000/15000 [==============================] - 2s 105us/sample - loss: 0.5226 - acc: 0.7819 - val_loss: 0.3762 - val_acc: 0.8706\n",
            "Epoch 2/4\n",
            "15000/15000 [==============================] - 1s 84us/sample - loss: 0.2924 - acc: 0.9003 - val_loss: 0.2921 - val_acc: 0.8881\n",
            "Epoch 3/4\n",
            "15000/15000 [==============================] - 1s 84us/sample - loss: 0.2060 - acc: 0.9291 - val_loss: 0.2813 - val_acc: 0.8880\n",
            "Epoch 4/4\n",
            "15000/15000 [==============================] - 1s 83us/sample - loss: 0.1622 - acc: 0.9459 - val_loss: 0.3267 - val_acc: 0.8691\n",
            "25000/25000 [==============================] - 2s 64us/sample - loss: 0.3589 - acc: 0.8558\n"
          ],
          "name": "stdout"
        },
        {
          "output_type": "execute_result",
          "data": {
            "text/plain": [
              "[0.3589497530603409, 0.85584]"
            ]
          },
          "metadata": {
            "tags": []
          },
          "execution_count": 71
        }
      ]
    },
    {
      "cell_type": "code",
      "metadata": {
        "id": "0NMHJ0aRo8QS",
        "colab_type": "code",
        "outputId": "1619885e-879a-486d-8c83-f9e39481aa92",
        "colab": {
          "base_uri": "https://localhost:8080/",
          "height": 204
        }
      },
      "source": [
        "model = models.Sequential()\n",
        "model.add(layers.Dense(16,activation='relu'))\n",
        "model.add(layers.Dense(16,activation='relu'))\n",
        "model.add(layers.Dense(1,activation='sigmoid'))\n",
        "\n",
        "model.compile(optimizer='rmsprop',\n",
        "              loss='mse',\n",
        "              metrics=['acc'])\n",
        "\n",
        "model.fit(partial_X_train,\n",
        "          partial_y_train,\n",
        "          epochs=4,\n",
        "          batch_size=512,\n",
        "          validation_data=(X_val,y_val))\n",
        "\n",
        "results = model.evaluate(X_test, y_test )\n",
        "results"
      ],
      "execution_count": 0,
      "outputs": [
        {
          "output_type": "stream",
          "text": [
            "Train on 15000 samples, validate on 10000 samples\n",
            "Epoch 1/4\n",
            "15000/15000 [==============================] - 2s 105us/sample - loss: 0.1789 - acc: 0.7747 - val_loss: 0.1316 - val_acc: 0.8471\n",
            "Epoch 2/4\n",
            "15000/15000 [==============================] - 1s 82us/sample - loss: 0.0957 - acc: 0.9037 - val_loss: 0.0956 - val_acc: 0.8881\n",
            "Epoch 3/4\n",
            "15000/15000 [==============================] - 1s 82us/sample - loss: 0.0679 - acc: 0.9289 - val_loss: 0.0865 - val_acc: 0.8908\n",
            "Epoch 4/4\n",
            "15000/15000 [==============================] - 1s 83us/sample - loss: 0.0532 - acc: 0.9437 - val_loss: 0.0837 - val_acc: 0.8879\n",
            "25000/25000 [==============================] - 2s 66us/sample - loss: 0.0904 - acc: 0.8795\n"
          ],
          "name": "stdout"
        },
        {
          "output_type": "execute_result",
          "data": {
            "text/plain": [
              "[0.09043933753013611, 0.87948]"
            ]
          },
          "metadata": {
            "tags": []
          },
          "execution_count": 72
        }
      ]
    },
    {
      "cell_type": "code",
      "metadata": {
        "id": "zKfMI8akpF7e",
        "colab_type": "code",
        "outputId": "2a176c37-cd6c-413a-89a4-7191b08cbb95",
        "colab": {
          "base_uri": "https://localhost:8080/",
          "height": 204
        }
      },
      "source": [
        "model = models.Sequential()\n",
        "model.add(layers.Dense(16,activation='tanh'))\n",
        "model.add(layers.Dense(64,activation='tanh'))\n",
        "model.add(layers.Dense(1,activation='sigmoid'))\n",
        "\n",
        "model.compile(optimizer='rmsprop',\n",
        "              loss='binary_crossentropy',\n",
        "              metrics=['acc'])\n",
        "\n",
        "model.fit(partial_X_train,\n",
        "          partial_y_train,\n",
        "          epochs=4,\n",
        "          batch_size=512,\n",
        "          validation_data=(X_val,y_val))\n",
        "\n",
        "results = model.evaluate(X_test, y_test )\n",
        "results"
      ],
      "execution_count": 0,
      "outputs": [
        {
          "output_type": "stream",
          "text": [
            "Train on 15000 samples, validate on 10000 samples\n",
            "Epoch 1/4\n",
            "15000/15000 [==============================] - 2s 112us/sample - loss: 0.4591 - acc: 0.7958 - val_loss: 0.3203 - val_acc: 0.8795\n",
            "Epoch 2/4\n",
            "15000/15000 [==============================] - 1s 84us/sample - loss: 0.2360 - acc: 0.9119 - val_loss: 0.2994 - val_acc: 0.8790\n",
            "Epoch 3/4\n",
            "15000/15000 [==============================] - 1s 82us/sample - loss: 0.1660 - acc: 0.9379 - val_loss: 0.3013 - val_acc: 0.8834\n",
            "Epoch 4/4\n",
            "15000/15000 [==============================] - 1s 82us/sample - loss: 0.1341 - acc: 0.9509 - val_loss: 0.3130 - val_acc: 0.8855\n",
            "25000/25000 [==============================] - 2s 63us/sample - loss: 0.3412 - acc: 0.8732\n"
          ],
          "name": "stdout"
        },
        {
          "output_type": "execute_result",
          "data": {
            "text/plain": [
              "[0.3411929008150101, 0.8732]"
            ]
          },
          "metadata": {
            "tags": []
          },
          "execution_count": 73
        }
      ]
    },
    {
      "cell_type": "code",
      "metadata": {
        "id": "I5fFBBbxpOKy",
        "colab_type": "code",
        "colab": {}
      },
      "source": [
        "###### let's keep working on the model"
      ],
      "execution_count": 0,
      "outputs": []
    },
    {
      "cell_type": "code",
      "metadata": {
        "id": "WX80AQGTR3LW",
        "colab_type": "code",
        "colab": {}
      },
      "source": [
        ""
      ],
      "execution_count": 0,
      "outputs": []
    }
  ]
}