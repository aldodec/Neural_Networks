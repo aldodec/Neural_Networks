{
  "nbformat": 4,
  "nbformat_minor": 0,
  "metadata": {
    "colab": {
      "name": "XOR_NN.ipynb",
      "provenance": [],
      "collapsed_sections": [],
      "authorship_tag": "ABX9TyMY2rDA8FaaMQKpvBceeY1W",
      "include_colab_link": true
    },
    "kernelspec": {
      "name": "python3",
      "display_name": "Python 3"
    }
  },
  "cells": [
    {
      "cell_type": "markdown",
      "metadata": {
        "id": "view-in-github",
        "colab_type": "text"
      },
      "source": [
        "<a href=\"https://colab.research.google.com/github/aldodec/Neural_Networks/blob/master/XOR_NN.ipynb\" target=\"_parent\"><img src=\"https://colab.research.google.com/assets/colab-badge.svg\" alt=\"Open In Colab\"/></a>"
      ]
    },
    {
      "cell_type": "markdown",
      "metadata": {
        "id": "ayreBY15LT12",
        "colab_type": "text"
      },
      "source": [
        "XOR neural network, with simple backpropagation algorithm.\n",
        "\n",
        "Resources:\n",
        "\n",
        "\n",
        "\n",
        "*   http://neuralnetworksanddeeplearning.com/chap2.html\n",
        "*   **Deep Learning**. Ian Goodfellow, Yoshua Bengio, Aaron Courville. MIT Press. 2016.\n",
        "\n",
        "\n",
        "\n",
        "\n"
      ]
    },
    {
      "cell_type": "code",
      "metadata": {
        "id": "in53c3a06Fji",
        "colab_type": "code",
        "outputId": "55ddc8e6-6e63-4d36-a10f-19bd4e587244",
        "colab": {
          "base_uri": "https://localhost:8080/",
          "height": 538
        }
      },
      "source": [
        "import numpy as np\n",
        "import matplotlib.pyplot as plt\n",
        "%matplotlib inline\n",
        "np.random.seed(0)\n",
        "\n",
        "\n",
        "X = np.array([[0,0],[0,1],[1,0],[1,1]])\n",
        "y = np.array([[0],[1],[1],[0]])\n",
        "\n",
        "\n",
        "def sigmoid(x):\n",
        "  return 1/(1+np.exp(-x))\n",
        "\n",
        "def sigmoid_derivative(x):\n",
        "  return x*(1-x)\n",
        "\n",
        "\n",
        "neurons_in, neurons_1, neurons_2 = 2,2,1\n",
        "\n",
        "weights_1 = np.random.uniform(size=(neurons_in,neurons_1))\n",
        "bias_1 = np.random.uniform(size=(1,neurons_1))\n",
        "\n",
        "weights_2 = np.random.uniform(size=(neurons_1,neurons_2))\n",
        "bias_2 = np.random.uniform(size=(1,neurons_2))\n",
        "\n",
        "\n",
        "print('Initial Weights in Layer 1: ',end='')\n",
        "print(*weights_1)\n",
        "print('Initial Bias in Layer 1: ',end='')\n",
        "print(*bias_1)\n",
        "print('Initial Weights in Layer 2: ',end='')\n",
        "print(*weights_2)\n",
        "print('Initial Bias in Layer 2: ',end='')\n",
        "print(*bias_2)\n",
        "print(20*'===')\n",
        "\n",
        "epochs = 100000\n",
        "lr = 0.01\n",
        "\n",
        "error_list = []\n",
        "\n",
        "for epoch in range(epochs):\n",
        "\n",
        "  # Forward Propagation\n",
        "  weighted_input_1 = np.dot(X,weights_1) + bias_1\n",
        "  activation_1 = sigmoid(weighted_input_1)\n",
        "  weighted_input_2 = np.dot(activation_1,weights_2) + bias_2\n",
        "  activation_2 = sigmoid(weighted_input_2)\n",
        "\n",
        "  # Errors\n",
        "  layer2_error = (y - activation_2)*(sigmoid_derivative(activation_2))\n",
        "  layer1_error  = np.dot(layer2_error,weights_2.T)*sigmoid_derivative(activation_1)\n",
        "\n",
        "  # Nablas\n",
        "  nabla_weights_2 = np.dot(activation_1.T,layer2_error)\n",
        "  nabla_bias_2 = np.sum(layer2_error,axis=0,keepdims=True)\n",
        "  nabla_weights_1 = np.dot(X.T,layer1_error)\n",
        "  nabla_bias_1 = np.sum(layer1_error,axis=0,keepdims=True)\n",
        "\n",
        "  # Backpropagation\n",
        "  weights_2 += nabla_weights_2 * lr\n",
        "  weights_1 += nabla_weights_1 * lr\n",
        "  bias_2 += nabla_bias_2 * lr\n",
        "  bias_1 += nabla_bias_1 * lr\n",
        "\n",
        "  error_list.append(np.sum((y - activation_2)**2)/8)\n",
        "\n",
        "\n",
        "print('Final Weights in Layer 1: ',end='')\n",
        "print(*weights_1)\n",
        "print('Final Bias in Layer 1: ',end='')\n",
        "print(*bias_1)\n",
        "#print(20*'===')\n",
        "print('Final Weights in Layer 2: ',end='')\n",
        "print(*weights_2)\n",
        "print('Final Bias in Layer 2: ',end='')\n",
        "print(*bias_2)\n",
        "print(20*'===')\n",
        "print('Final Output: ',end='')\n",
        "print(*activation_2)\n",
        "print(20*'===')\n",
        "\n",
        "\n",
        "plt.figure(figsize=(10,5))\n",
        "plt.plot(error_list)\n",
        "plt.xlabel('Epochs')\n",
        "plt.ylabel('Mean Squared Error')\n",
        "plt.show()\n"
      ],
      "execution_count": 0,
      "outputs": [
        {
          "output_type": "stream",
          "text": [
            "Initial Weights in Layer 1: [0.5488135  0.71518937] [0.60276338 0.54488318]\n",
            "Initial Bias in Layer 1: [0.4236548  0.64589411]\n",
            "Initial Weights in Layer 2: [0.43758721] [0.891773]\n",
            "Initial Bias in Layer 2: [0.96366276]\n",
            "============================================================\n",
            "Final Weights in Layer 1: [3.70990579 5.78817975] [3.71152914 5.79613693]\n",
            "Final Bias in Layer 1: [-5.68383638 -2.42012252]\n",
            "Final Weights in Layer 2: [-8.14942417] [7.50543154]\n",
            "Final Bias in Layer 2: [-3.37838205]\n",
            "============================================================\n",
            "Final Output: [0.05769471] [0.94702856] [0.94700356] [0.05711666]\n",
            "============================================================\n"
          ],
          "name": "stdout"
        },
        {
          "output_type": "display_data",
          "data": {
            "image/png": "[encoded data removed]",
            "text/plain": [
              "<Figure size 720x360 with 1 Axes>"
            ]
          },
          "metadata": {
            "tags": [],
            "needs_background": "light"
          }
        }
      ]
    },
    {
      "cell_type": "code",
      "metadata": {
        "id": "wpfw2i_lbn87",
        "colab_type": "code",
        "colab": {}
      },
      "source": [
        ""
      ],
      "execution_count": 0,
      "outputs": []
    }
  ]
}